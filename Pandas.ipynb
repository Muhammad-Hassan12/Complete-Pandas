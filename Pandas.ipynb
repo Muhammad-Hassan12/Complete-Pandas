{
 "cells": [
  {
   "cell_type": "markdown",
   "id": "3cb0d6eb",
   "metadata": {},
   "source": [
    "# Pandas\n",
    "1. It contains data structures and data manipulation tools designed to make data cleaning and analysis fast and easy in Python.\n",
    "2. Pandas is designed for working with tabular or heterogeneous data. \n",
    "3. Data normalization and data transformation is also one of the key features of Pandas\n",
    "4. NumPy, by contrast, is best suited for working with homogeneous numerical array data."
   ]
  },
  {
   "cell_type": "code",
   "execution_count": 1,
   "id": "0b4d3ecc",
   "metadata": {},
   "outputs": [],
   "source": [
    "import pandas as pd"
   ]
  },
  {
   "cell_type": "markdown",
   "id": "dc47fb72",
   "metadata": {},
   "source": [
    "# Data-structures\n",
    "There are two types of data structures:\n",
    "1. Series\n",
    "2. Data-Frame "
   ]
  },
  {
   "cell_type": "markdown",
   "id": "b3ee9664",
   "metadata": {},
   "source": [
    "## Series\n",
    "It is a series of data (one-dimentional)"
   ]
  },
  {
   "cell_type": "code",
   "execution_count": 2,
   "id": "145c804a",
   "metadata": {},
   "outputs": [],
   "source": [
    "marks = pd.Series([60,80,39])"
   ]
  },
  {
   "cell_type": "code",
   "execution_count": 3,
   "id": "c0552f25",
   "metadata": {},
   "outputs": [
    {
     "data": {
      "text/plain": [
       "0    60\n",
       "1    80\n",
       "2    39\n",
       "dtype: int64"
      ]
     },
     "execution_count": 3,
     "metadata": {},
     "output_type": "execute_result"
    }
   ],
   "source": [
    "marks"
   ]
  },
  {
   "cell_type": "markdown",
   "id": "ab2c3924",
   "metadata": {},
   "source": [
    "* For accessing indivisual data"
   ]
  },
  {
   "cell_type": "code",
   "execution_count": 4,
   "id": "68fe0ef3",
   "metadata": {},
   "outputs": [
    {
     "data": {
      "text/plain": [
       "39"
      ]
     },
     "execution_count": 4,
     "metadata": {},
     "output_type": "execute_result"
    }
   ],
   "source": [
    "marks[2]"
   ]
  },
  {
   "cell_type": "code",
   "execution_count": 5,
   "id": "ca65ecb9",
   "metadata": {},
   "outputs": [
    {
     "data": {
      "text/plain": [
       "60"
      ]
     },
     "execution_count": 5,
     "metadata": {},
     "output_type": "execute_result"
    }
   ],
   "source": [
    "marks[0]"
   ]
  },
  {
   "cell_type": "markdown",
   "id": "535056f8",
   "metadata": {},
   "source": [
    "* Can also specify the index"
   ]
  },
  {
   "cell_type": "code",
   "execution_count": 6,
   "id": "3880fceb",
   "metadata": {},
   "outputs": [],
   "source": [
    "marks = pd.Series([60,80,39],index=['Ali','Aima','Ahsan'])"
   ]
  },
  {
   "cell_type": "code",
   "execution_count": 7,
   "id": "3448e459",
   "metadata": {},
   "outputs": [
    {
     "data": {
      "text/plain": [
       "Ali      60\n",
       "Aima     80\n",
       "Ahsan    39\n",
       "dtype: int64"
      ]
     },
     "execution_count": 7,
     "metadata": {},
     "output_type": "execute_result"
    }
   ],
   "source": [
    "marks"
   ]
  },
  {
   "cell_type": "code",
   "execution_count": 8,
   "id": "f5d9f2a4",
   "metadata": {},
   "outputs": [
    {
     "data": {
      "text/plain": [
       "60"
      ]
     },
     "execution_count": 8,
     "metadata": {},
     "output_type": "execute_result"
    }
   ],
   "source": [
    "marks['Ali']"
   ]
  },
  {
   "cell_type": "markdown",
   "id": "0dc63fb3",
   "metadata": {},
   "source": [
    "* Fancy indexing"
   ]
  },
  {
   "cell_type": "code",
   "execution_count": 9,
   "id": "02fc896d",
   "metadata": {},
   "outputs": [
    {
     "data": {
      "text/plain": [
       "Aima     80\n",
       "Ahsan    39\n",
       "dtype: int64"
      ]
     },
     "execution_count": 9,
     "metadata": {},
     "output_type": "execute_result"
    }
   ],
   "source": [
    "marks[['Aima','Ahsan']]"
   ]
  },
  {
   "cell_type": "markdown",
   "id": "215089bf",
   "metadata": {},
   "source": [
    "*  Can also specify data type"
   ]
  },
  {
   "cell_type": "code",
   "execution_count": 10,
   "id": "feac5ce3",
   "metadata": {},
   "outputs": [],
   "source": [
    "marks = pd.Series([60,80,39],index=['Ali','Aima','Ahsan'],dtype='float')"
   ]
  },
  {
   "cell_type": "code",
   "execution_count": 11,
   "id": "a29247f7",
   "metadata": {},
   "outputs": [
    {
     "data": {
      "text/plain": [
       "Ali      60.0\n",
       "Aima     80.0\n",
       "Ahsan    39.0\n",
       "dtype: float64"
      ]
     },
     "execution_count": 11,
     "metadata": {},
     "output_type": "execute_result"
    }
   ],
   "source": [
    "marks"
   ]
  },
  {
   "cell_type": "markdown",
   "id": "68e9fe58",
   "metadata": {},
   "source": [
    "* Filtering"
   ]
  },
  {
   "cell_type": "code",
   "execution_count": 12,
   "id": "f28c7b68",
   "metadata": {},
   "outputs": [
    {
     "data": {
      "text/plain": [
       "Ali     60.0\n",
       "Aima    80.0\n",
       "dtype: float64"
      ]
     },
     "execution_count": 12,
     "metadata": {},
     "output_type": "execute_result"
    }
   ],
   "source": [
    "marks[marks > 55]"
   ]
  },
  {
   "cell_type": "markdown",
   "id": "7ee6c6d0",
   "metadata": {},
   "source": [
    "* To get the values out of the array"
   ]
  },
  {
   "cell_type": "code",
   "execution_count": 13,
   "id": "4f4e9db3",
   "metadata": {},
   "outputs": [
    {
     "data": {
      "text/plain": [
       "array([60., 80., 39.])"
      ]
     },
     "execution_count": 13,
     "metadata": {},
     "output_type": "execute_result"
    }
   ],
   "source": [
    "marks.values"
   ]
  },
  {
   "cell_type": "markdown",
   "id": "1fd5437a",
   "metadata": {},
   "source": [
    "* Changing the value of indexes"
   ]
  },
  {
   "cell_type": "code",
   "execution_count": 14,
   "id": "3e60f58c",
   "metadata": {},
   "outputs": [],
   "source": [
    "marks['Ali'] = 23"
   ]
  },
  {
   "cell_type": "code",
   "execution_count": 15,
   "id": "b8f8aeef",
   "metadata": {},
   "outputs": [
    {
     "data": {
      "text/plain": [
       "Ali      23.0\n",
       "Aima     80.0\n",
       "Ahsan    39.0\n",
       "dtype: float64"
      ]
     },
     "execution_count": 15,
     "metadata": {},
     "output_type": "execute_result"
    }
   ],
   "source": [
    "marks"
   ]
  },
  {
   "cell_type": "markdown",
   "id": "7c4d5e78",
   "metadata": {},
   "source": [
    "#### Creating Series by dictionary"
   ]
  },
  {
   "cell_type": "markdown",
   "id": "76bb53aa",
   "metadata": {},
   "source": [
    "* \"Qasim\" will be the index and \"30\" will be its value"
   ]
  },
  {
   "cell_type": "code",
   "execution_count": 16,
   "id": "dc5b2d7b",
   "metadata": {},
   "outputs": [
    {
     "data": {
      "text/plain": [
       "Qasim     30\n",
       "Rafiq     28\n",
       "Shahid    18\n",
       "dtype: int64"
      ]
     },
     "execution_count": 16,
     "metadata": {},
     "output_type": "execute_result"
    }
   ],
   "source": [
    "age = pd.Series({'Qasim':30,'Rafiq':28,'Shahid':18})\n",
    "age"
   ]
  },
  {
   "cell_type": "markdown",
   "id": "034632ac",
   "metadata": {},
   "source": [
    "* To check the value which is null"
   ]
  },
  {
   "cell_type": "code",
   "execution_count": 17,
   "id": "e4c1b327",
   "metadata": {},
   "outputs": [
    {
     "data": {
      "text/plain": [
       "Qasim     30.0\n",
       "Rafiq      NaN\n",
       "Shahid    18.0\n",
       "dtype: float64"
      ]
     },
     "execution_count": 17,
     "metadata": {},
     "output_type": "execute_result"
    }
   ],
   "source": [
    "age = pd.Series({'Qasim':30,'Rafiq':None,'Shahid':18})\n",
    "age"
   ]
  },
  {
   "cell_type": "code",
   "execution_count": 18,
   "id": "589cb9ff",
   "metadata": {},
   "outputs": [
    {
     "data": {
      "text/plain": [
       "Qasim     False\n",
       "Rafiq      True\n",
       "Shahid    False\n",
       "dtype: bool"
      ]
     },
     "execution_count": 18,
     "metadata": {},
     "output_type": "execute_result"
    }
   ],
   "source": [
    "pd.isnull(age)"
   ]
  },
  {
   "cell_type": "code",
   "execution_count": 19,
   "id": "eadab07e",
   "metadata": {},
   "outputs": [
    {
     "data": {
      "text/plain": [
       "24.0"
      ]
     },
     "execution_count": 19,
     "metadata": {},
     "output_type": "execute_result"
    }
   ],
   "source": [
    "age.mean()"
   ]
  },
  {
   "cell_type": "markdown",
   "id": "e4ece159",
   "metadata": {},
   "source": [
    "#### Comman Maths with series"
   ]
  },
  {
   "cell_type": "code",
   "execution_count": 20,
   "id": "7dbcbab6",
   "metadata": {},
   "outputs": [],
   "source": [
    "age2 = pd.Series([40,70],index=['Shahid','Qasim'])"
   ]
  },
  {
   "cell_type": "code",
   "execution_count": 21,
   "id": "6eef121c",
   "metadata": {},
   "outputs": [
    {
     "data": {
      "text/plain": [
       "Qasim     100.0\n",
       "Rafiq       NaN\n",
       "Shahid     58.0\n",
       "dtype: float64"
      ]
     },
     "execution_count": 21,
     "metadata": {},
     "output_type": "execute_result"
    }
   ],
   "source": [
    "age + age2"
   ]
  },
  {
   "cell_type": "code",
   "execution_count": 22,
   "id": "5b71986c",
   "metadata": {},
   "outputs": [
    {
     "data": {
      "text/plain": [
       "Qasim     2100.0\n",
       "Rafiq        NaN\n",
       "Shahid     720.0\n",
       "dtype: float64"
      ]
     },
     "execution_count": 22,
     "metadata": {},
     "output_type": "execute_result"
    }
   ],
   "source": [
    "age * age2"
   ]
  },
  {
   "cell_type": "code",
   "execution_count": 23,
   "id": "45152259",
   "metadata": {},
   "outputs": [
    {
     "data": {
      "text/plain": [
       "Qasim     0.428571\n",
       "Rafiq          NaN\n",
       "Shahid    0.450000\n",
       "dtype: float64"
      ]
     },
     "execution_count": 23,
     "metadata": {},
     "output_type": "execute_result"
    }
   ],
   "source": [
    "age / age2"
   ]
  },
  {
   "cell_type": "code",
   "execution_count": 24,
   "id": "8c636b6d",
   "metadata": {},
   "outputs": [],
   "source": [
    "age3 = pd.Series([50,80],index=['Shahid','Rafiq'])"
   ]
  },
  {
   "cell_type": "code",
   "execution_count": 25,
   "id": "fc5a029e",
   "metadata": {},
   "outputs": [
    {
     "data": {
      "text/plain": [
       "Qasim      NaN\n",
       "Rafiq      NaN\n",
       "Shahid    68.0\n",
       "dtype: float64"
      ]
     },
     "execution_count": 25,
     "metadata": {},
     "output_type": "execute_result"
    }
   ],
   "source": [
    "age+age3"
   ]
  },
  {
   "cell_type": "markdown",
   "id": "4c6ec6e3",
   "metadata": {},
   "source": [
    "## Dataframes Or Tabular Data\n",
    "* They are two dimentional data structues\n",
    "* Widely used"
   ]
  },
  {
   "cell_type": "code",
   "execution_count": 26,
   "id": "67af13c1",
   "metadata": {},
   "outputs": [],
   "source": [
    "patients = pd.DataFrame({\n",
    "    'Names' : ['Ahmer','Irshad','Fatimah'],\n",
    "    'Age' : [32,18,28],\n",
    "    'Resident' : ['Islamabad','Karachi','Lahore'],\n",
    "    'Ward' : ['Cardio','Cardio','Comman']\n",
    "})"
   ]
  },
  {
   "cell_type": "code",
   "execution_count": 27,
   "id": "22d1e55c",
   "metadata": {},
   "outputs": [
    {
     "data": {
      "text/html": [
       "<div>\n",
       "<style scoped>\n",
       "    .dataframe tbody tr th:only-of-type {\n",
       "        vertical-align: middle;\n",
       "    }\n",
       "\n",
       "    .dataframe tbody tr th {\n",
       "        vertical-align: top;\n",
       "    }\n",
       "\n",
       "    .dataframe thead th {\n",
       "        text-align: right;\n",
       "    }\n",
       "</style>\n",
       "<table border=\"1\" class=\"dataframe\">\n",
       "  <thead>\n",
       "    <tr style=\"text-align: right;\">\n",
       "      <th></th>\n",
       "      <th>Names</th>\n",
       "      <th>Age</th>\n",
       "      <th>Resident</th>\n",
       "      <th>Ward</th>\n",
       "    </tr>\n",
       "  </thead>\n",
       "  <tbody>\n",
       "    <tr>\n",
       "      <th>0</th>\n",
       "      <td>Ahmer</td>\n",
       "      <td>32</td>\n",
       "      <td>Islamabad</td>\n",
       "      <td>Cardio</td>\n",
       "    </tr>\n",
       "    <tr>\n",
       "      <th>1</th>\n",
       "      <td>Irshad</td>\n",
       "      <td>18</td>\n",
       "      <td>Karachi</td>\n",
       "      <td>Cardio</td>\n",
       "    </tr>\n",
       "    <tr>\n",
       "      <th>2</th>\n",
       "      <td>Fatimah</td>\n",
       "      <td>28</td>\n",
       "      <td>Lahore</td>\n",
       "      <td>Comman</td>\n",
       "    </tr>\n",
       "  </tbody>\n",
       "</table>\n",
       "</div>"
      ],
      "text/plain": [
       "     Names  Age   Resident    Ward\n",
       "0    Ahmer   32  Islamabad  Cardio\n",
       "1   Irshad   18    Karachi  Cardio\n",
       "2  Fatimah   28     Lahore  Comman"
      ]
     },
     "execution_count": 27,
     "metadata": {},
     "output_type": "execute_result"
    }
   ],
   "source": [
    "patients"
   ]
  },
  {
   "cell_type": "markdown",
   "id": "c0ba7543",
   "metadata": {},
   "source": [
    "## Taking Information out of a Dataframe"
   ]
  },
  {
   "cell_type": "markdown",
   "id": "a6cdada6",
   "metadata": {},
   "source": [
    "By square bracket [ ] method"
   ]
  },
  {
   "cell_type": "code",
   "execution_count": 28,
   "id": "a67e8439",
   "metadata": {},
   "outputs": [
    {
     "data": {
      "text/plain": [
       "Index(['Names', 'Age', 'Resident', 'Ward'], dtype='object')"
      ]
     },
     "execution_count": 28,
     "metadata": {},
     "output_type": "execute_result"
    }
   ],
   "source": [
    "patients.columns"
   ]
  },
  {
   "cell_type": "code",
   "execution_count": 29,
   "id": "67455914",
   "metadata": {},
   "outputs": [
    {
     "data": {
      "text/plain": [
       "0      Ahmer\n",
       "1     Irshad\n",
       "2    Fatimah\n",
       "Name: Names, dtype: object"
      ]
     },
     "execution_count": 29,
     "metadata": {},
     "output_type": "execute_result"
    }
   ],
   "source": [
    "patients['Names']"
   ]
  },
  {
   "cell_type": "code",
   "execution_count": 30,
   "id": "7ce94b7a",
   "metadata": {},
   "outputs": [
    {
     "data": {
      "text/plain": [
       "0    32\n",
       "1    18\n",
       "2    28\n",
       "Name: Age, dtype: int64"
      ]
     },
     "execution_count": 30,
     "metadata": {},
     "output_type": "execute_result"
    }
   ],
   "source": [
    "patients['Age']"
   ]
  },
  {
   "cell_type": "code",
   "execution_count": 31,
   "id": "702bfbbf",
   "metadata": {},
   "outputs": [
    {
     "data": {
      "text/plain": [
       "0    Cardio\n",
       "1    Cardio\n",
       "2    Comman\n",
       "Name: Ward, dtype: object"
      ]
     },
     "execution_count": 31,
     "metadata": {},
     "output_type": "execute_result"
    }
   ],
   "source": [
    "patients['Ward']"
   ]
  },
  {
   "cell_type": "markdown",
   "id": "4777ab0b",
   "metadata": {},
   "source": [
    "#### Simpler Method"
   ]
  },
  {
   "cell_type": "code",
   "execution_count": 32,
   "id": "282929ae",
   "metadata": {},
   "outputs": [
    {
     "data": {
      "text/plain": [
       "0      Ahmer\n",
       "1     Irshad\n",
       "2    Fatimah\n",
       "Name: Names, dtype: object"
      ]
     },
     "execution_count": 32,
     "metadata": {},
     "output_type": "execute_result"
    }
   ],
   "source": [
    "patients.Names"
   ]
  },
  {
   "cell_type": "code",
   "execution_count": 33,
   "id": "781975c8",
   "metadata": {},
   "outputs": [
    {
     "data": {
      "text/plain": [
       "0    32\n",
       "1    18\n",
       "2    28\n",
       "Name: Age, dtype: int64"
      ]
     },
     "execution_count": 33,
     "metadata": {},
     "output_type": "execute_result"
    }
   ],
   "source": [
    "patients.Age"
   ]
  },
  {
   "cell_type": "markdown",
   "id": "5b04c4c7",
   "metadata": {},
   "source": [
    "#### For a specific value"
   ]
  },
  {
   "cell_type": "code",
   "execution_count": 34,
   "id": "f1bc69cd",
   "metadata": {},
   "outputs": [
    {
     "data": {
      "text/plain": [
       "18"
      ]
     },
     "execution_count": 34,
     "metadata": {},
     "output_type": "execute_result"
    }
   ],
   "source": [
    "patients.Age[1]"
   ]
  },
  {
   "cell_type": "code",
   "execution_count": 35,
   "id": "2b168a5d",
   "metadata": {},
   "outputs": [
    {
     "data": {
      "text/plain": [
       "'Fatimah'"
      ]
     },
     "execution_count": 35,
     "metadata": {},
     "output_type": "execute_result"
    }
   ],
   "source": [
    "patients.Names[2]"
   ]
  },
  {
   "cell_type": "markdown",
   "id": "9ada1a90",
   "metadata": {},
   "source": [
    "#### For Multiple Columns"
   ]
  },
  {
   "cell_type": "code",
   "execution_count": 36,
   "id": "1571b591",
   "metadata": {},
   "outputs": [
    {
     "data": {
      "text/html": [
       "<div>\n",
       "<style scoped>\n",
       "    .dataframe tbody tr th:only-of-type {\n",
       "        vertical-align: middle;\n",
       "    }\n",
       "\n",
       "    .dataframe tbody tr th {\n",
       "        vertical-align: top;\n",
       "    }\n",
       "\n",
       "    .dataframe thead th {\n",
       "        text-align: right;\n",
       "    }\n",
       "</style>\n",
       "<table border=\"1\" class=\"dataframe\">\n",
       "  <thead>\n",
       "    <tr style=\"text-align: right;\">\n",
       "      <th></th>\n",
       "      <th>Ward</th>\n",
       "      <th>Names</th>\n",
       "    </tr>\n",
       "  </thead>\n",
       "  <tbody>\n",
       "    <tr>\n",
       "      <th>0</th>\n",
       "      <td>Cardio</td>\n",
       "      <td>Ahmer</td>\n",
       "    </tr>\n",
       "    <tr>\n",
       "      <th>1</th>\n",
       "      <td>Cardio</td>\n",
       "      <td>Irshad</td>\n",
       "    </tr>\n",
       "    <tr>\n",
       "      <th>2</th>\n",
       "      <td>Comman</td>\n",
       "      <td>Fatimah</td>\n",
       "    </tr>\n",
       "  </tbody>\n",
       "</table>\n",
       "</div>"
      ],
      "text/plain": [
       "     Ward    Names\n",
       "0  Cardio    Ahmer\n",
       "1  Cardio   Irshad\n",
       "2  Comman  Fatimah"
      ]
     },
     "execution_count": 36,
     "metadata": {},
     "output_type": "execute_result"
    }
   ],
   "source": [
    "patients[['Ward','Names']]"
   ]
  },
  {
   "cell_type": "markdown",
   "id": "1c6e3184",
   "metadata": {},
   "source": [
    "#### Applying Conditions"
   ]
  },
  {
   "cell_type": "code",
   "execution_count": 37,
   "id": "8e404024",
   "metadata": {},
   "outputs": [
    {
     "data": {
      "text/html": [
       "<div>\n",
       "<style scoped>\n",
       "    .dataframe tbody tr th:only-of-type {\n",
       "        vertical-align: middle;\n",
       "    }\n",
       "\n",
       "    .dataframe tbody tr th {\n",
       "        vertical-align: top;\n",
       "    }\n",
       "\n",
       "    .dataframe thead th {\n",
       "        text-align: right;\n",
       "    }\n",
       "</style>\n",
       "<table border=\"1\" class=\"dataframe\">\n",
       "  <thead>\n",
       "    <tr style=\"text-align: right;\">\n",
       "      <th></th>\n",
       "      <th>Names</th>\n",
       "      <th>Age</th>\n",
       "      <th>Resident</th>\n",
       "      <th>Ward</th>\n",
       "    </tr>\n",
       "  </thead>\n",
       "  <tbody>\n",
       "    <tr>\n",
       "      <th>0</th>\n",
       "      <td>Ahmer</td>\n",
       "      <td>32</td>\n",
       "      <td>Islamabad</td>\n",
       "      <td>Cardio</td>\n",
       "    </tr>\n",
       "    <tr>\n",
       "      <th>2</th>\n",
       "      <td>Fatimah</td>\n",
       "      <td>28</td>\n",
       "      <td>Lahore</td>\n",
       "      <td>Comman</td>\n",
       "    </tr>\n",
       "  </tbody>\n",
       "</table>\n",
       "</div>"
      ],
      "text/plain": [
       "     Names  Age   Resident    Ward\n",
       "0    Ahmer   32  Islamabad  Cardio\n",
       "2  Fatimah   28     Lahore  Comman"
      ]
     },
     "execution_count": 37,
     "metadata": {},
     "output_type": "execute_result"
    }
   ],
   "source": [
    "patients[patients['Age']>25]"
   ]
  },
  {
   "cell_type": "markdown",
   "id": "f5452371",
   "metadata": {},
   "source": [
    "#### If we want to get the highest value\n",
    "In this case we have age"
   ]
  },
  {
   "cell_type": "code",
   "execution_count": 38,
   "id": "a33c609e",
   "metadata": {},
   "outputs": [
    {
     "data": {
      "text/plain": [
       "32"
      ]
     },
     "execution_count": 38,
     "metadata": {},
     "output_type": "execute_result"
    }
   ],
   "source": [
    "patients['Age'].max()"
   ]
  },
  {
   "cell_type": "markdown",
   "id": "de6c073c",
   "metadata": {},
   "source": [
    "#### If we want to get the highest value"
   ]
  },
  {
   "cell_type": "code",
   "execution_count": 39,
   "id": "44be70b9",
   "metadata": {},
   "outputs": [
    {
     "data": {
      "text/plain": [
       "18"
      ]
     },
     "execution_count": 39,
     "metadata": {},
     "output_type": "execute_result"
    }
   ],
   "source": [
    "patients['Age'].min()"
   ]
  },
  {
   "cell_type": "markdown",
   "id": "808f3d59",
   "metadata": {},
   "source": [
    "#### If we want to get the \"Index\" of the highest value\n",
    "In this case we have \"Age\""
   ]
  },
  {
   "cell_type": "code",
   "execution_count": 40,
   "id": "b03b51dc",
   "metadata": {},
   "outputs": [
    {
     "data": {
      "text/plain": [
       "0"
      ]
     },
     "execution_count": 40,
     "metadata": {},
     "output_type": "execute_result"
    }
   ],
   "source": [
    "patients['Age'].idxmax()"
   ]
  },
  {
   "cell_type": "markdown",
   "id": "fcabdfd6",
   "metadata": {},
   "source": [
    "#### If we want to get the \"Index\" of the Lowest value"
   ]
  },
  {
   "cell_type": "code",
   "execution_count": 41,
   "id": "c68aeecb",
   "metadata": {},
   "outputs": [
    {
     "data": {
      "text/plain": [
       "1"
      ]
     },
     "execution_count": 41,
     "metadata": {},
     "output_type": "execute_result"
    }
   ],
   "source": [
    "patients['Age'].idxmin()"
   ]
  },
  {
   "cell_type": "markdown",
   "id": "75033f3d",
   "metadata": {},
   "source": [
    "* The cons of getting index is, that we can than use it to get the whole record of the index!"
   ]
  },
  {
   "cell_type": "code",
   "execution_count": 42,
   "id": "34cf20e2",
   "metadata": {},
   "outputs": [],
   "source": [
    "ind = patients['Age'].idxmax()"
   ]
  },
  {
   "cell_type": "code",
   "execution_count": 43,
   "id": "4dd3b808",
   "metadata": {},
   "outputs": [
    {
     "data": {
      "text/plain": [
       "Names           Ahmer\n",
       "Age                32\n",
       "Resident    Islamabad\n",
       "Ward           Cardio\n",
       "Name: 0, dtype: object"
      ]
     },
     "execution_count": 43,
     "metadata": {},
     "output_type": "execute_result"
    }
   ],
   "source": [
    "patients.loc[ind]"
   ]
  },
  {
   "cell_type": "markdown",
   "id": "8700920b",
   "metadata": {},
   "source": [
    "## Adding a new column in a pre-exsisting dataframe\n",
    "####  Using \"Numpy\"\n",
    "* First We have to import \"Numpy\""
   ]
  },
  {
   "cell_type": "code",
   "execution_count": 44,
   "id": "0f44c2ad",
   "metadata": {},
   "outputs": [],
   "source": [
    "import numpy as np"
   ]
  },
  {
   "cell_type": "code",
   "execution_count": 45,
   "id": "f0a441b1",
   "metadata": {},
   "outputs": [
    {
     "data": {
      "text/html": [
       "<div>\n",
       "<style scoped>\n",
       "    .dataframe tbody tr th:only-of-type {\n",
       "        vertical-align: middle;\n",
       "    }\n",
       "\n",
       "    .dataframe tbody tr th {\n",
       "        vertical-align: top;\n",
       "    }\n",
       "\n",
       "    .dataframe thead th {\n",
       "        text-align: right;\n",
       "    }\n",
       "</style>\n",
       "<table border=\"1\" class=\"dataframe\">\n",
       "  <thead>\n",
       "    <tr style=\"text-align: right;\">\n",
       "      <th></th>\n",
       "      <th>Names</th>\n",
       "      <th>Age</th>\n",
       "      <th>Resident</th>\n",
       "      <th>Ward</th>\n",
       "    </tr>\n",
       "  </thead>\n",
       "  <tbody>\n",
       "    <tr>\n",
       "      <th>0</th>\n",
       "      <td>Ahmer</td>\n",
       "      <td>32</td>\n",
       "      <td>Islamabad</td>\n",
       "      <td>Cardio</td>\n",
       "    </tr>\n",
       "    <tr>\n",
       "      <th>1</th>\n",
       "      <td>Irshad</td>\n",
       "      <td>18</td>\n",
       "      <td>Karachi</td>\n",
       "      <td>Cardio</td>\n",
       "    </tr>\n",
       "    <tr>\n",
       "      <th>2</th>\n",
       "      <td>Fatimah</td>\n",
       "      <td>28</td>\n",
       "      <td>Lahore</td>\n",
       "      <td>Comman</td>\n",
       "    </tr>\n",
       "  </tbody>\n",
       "</table>\n",
       "</div>"
      ],
      "text/plain": [
       "     Names  Age   Resident    Ward\n",
       "0    Ahmer   32  Islamabad  Cardio\n",
       "1   Irshad   18    Karachi  Cardio\n",
       "2  Fatimah   28     Lahore  Comman"
      ]
     },
     "execution_count": 45,
     "metadata": {},
     "output_type": "execute_result"
    }
   ],
   "source": [
    "patients"
   ]
  },
  {
   "cell_type": "code",
   "execution_count": 46,
   "id": "3c7e34fc",
   "metadata": {},
   "outputs": [],
   "source": [
    "patients['Date of Admission'] = np.array(['14-01-2023','28-01-2023','15-02-2023'])"
   ]
  },
  {
   "cell_type": "code",
   "execution_count": 47,
   "id": "dae139dc",
   "metadata": {},
   "outputs": [
    {
     "data": {
      "text/html": [
       "<div>\n",
       "<style scoped>\n",
       "    .dataframe tbody tr th:only-of-type {\n",
       "        vertical-align: middle;\n",
       "    }\n",
       "\n",
       "    .dataframe tbody tr th {\n",
       "        vertical-align: top;\n",
       "    }\n",
       "\n",
       "    .dataframe thead th {\n",
       "        text-align: right;\n",
       "    }\n",
       "</style>\n",
       "<table border=\"1\" class=\"dataframe\">\n",
       "  <thead>\n",
       "    <tr style=\"text-align: right;\">\n",
       "      <th></th>\n",
       "      <th>Names</th>\n",
       "      <th>Age</th>\n",
       "      <th>Resident</th>\n",
       "      <th>Ward</th>\n",
       "      <th>Date of Admission</th>\n",
       "    </tr>\n",
       "  </thead>\n",
       "  <tbody>\n",
       "    <tr>\n",
       "      <th>0</th>\n",
       "      <td>Ahmer</td>\n",
       "      <td>32</td>\n",
       "      <td>Islamabad</td>\n",
       "      <td>Cardio</td>\n",
       "      <td>14-01-2023</td>\n",
       "    </tr>\n",
       "    <tr>\n",
       "      <th>1</th>\n",
       "      <td>Irshad</td>\n",
       "      <td>18</td>\n",
       "      <td>Karachi</td>\n",
       "      <td>Cardio</td>\n",
       "      <td>28-01-2023</td>\n",
       "    </tr>\n",
       "    <tr>\n",
       "      <th>2</th>\n",
       "      <td>Fatimah</td>\n",
       "      <td>28</td>\n",
       "      <td>Lahore</td>\n",
       "      <td>Comman</td>\n",
       "      <td>15-02-2023</td>\n",
       "    </tr>\n",
       "  </tbody>\n",
       "</table>\n",
       "</div>"
      ],
      "text/plain": [
       "     Names  Age   Resident    Ward Date of Admission\n",
       "0    Ahmer   32  Islamabad  Cardio        14-01-2023\n",
       "1   Irshad   18    Karachi  Cardio        28-01-2023\n",
       "2  Fatimah   28     Lahore  Comman        15-02-2023"
      ]
     },
     "execution_count": 47,
     "metadata": {},
     "output_type": "execute_result"
    }
   ],
   "source": [
    "patients"
   ]
  },
  {
   "cell_type": "markdown",
   "id": "eb07ad10",
   "metadata": {},
   "source": [
    "* Using arange()"
   ]
  },
  {
   "cell_type": "code",
   "execution_count": 48,
   "id": "c7331dc1",
   "metadata": {},
   "outputs": [],
   "source": [
    "patients['Admission order'] = np.arange(1,4)"
   ]
  },
  {
   "cell_type": "code",
   "execution_count": 49,
   "id": "f6b66d3f",
   "metadata": {},
   "outputs": [
    {
     "data": {
      "text/html": [
       "<div>\n",
       "<style scoped>\n",
       "    .dataframe tbody tr th:only-of-type {\n",
       "        vertical-align: middle;\n",
       "    }\n",
       "\n",
       "    .dataframe tbody tr th {\n",
       "        vertical-align: top;\n",
       "    }\n",
       "\n",
       "    .dataframe thead th {\n",
       "        text-align: right;\n",
       "    }\n",
       "</style>\n",
       "<table border=\"1\" class=\"dataframe\">\n",
       "  <thead>\n",
       "    <tr style=\"text-align: right;\">\n",
       "      <th></th>\n",
       "      <th>Names</th>\n",
       "      <th>Age</th>\n",
       "      <th>Resident</th>\n",
       "      <th>Ward</th>\n",
       "      <th>Date of Admission</th>\n",
       "      <th>Admission order</th>\n",
       "    </tr>\n",
       "  </thead>\n",
       "  <tbody>\n",
       "    <tr>\n",
       "      <th>0</th>\n",
       "      <td>Ahmer</td>\n",
       "      <td>32</td>\n",
       "      <td>Islamabad</td>\n",
       "      <td>Cardio</td>\n",
       "      <td>14-01-2023</td>\n",
       "      <td>1</td>\n",
       "    </tr>\n",
       "    <tr>\n",
       "      <th>1</th>\n",
       "      <td>Irshad</td>\n",
       "      <td>18</td>\n",
       "      <td>Karachi</td>\n",
       "      <td>Cardio</td>\n",
       "      <td>28-01-2023</td>\n",
       "      <td>2</td>\n",
       "    </tr>\n",
       "    <tr>\n",
       "      <th>2</th>\n",
       "      <td>Fatimah</td>\n",
       "      <td>28</td>\n",
       "      <td>Lahore</td>\n",
       "      <td>Comman</td>\n",
       "      <td>15-02-2023</td>\n",
       "      <td>3</td>\n",
       "    </tr>\n",
       "  </tbody>\n",
       "</table>\n",
       "</div>"
      ],
      "text/plain": [
       "     Names  Age   Resident    Ward Date of Admission  Admission order\n",
       "0    Ahmer   32  Islamabad  Cardio        14-01-2023                1\n",
       "1   Irshad   18    Karachi  Cardio        28-01-2023                2\n",
       "2  Fatimah   28     Lahore  Comman        15-02-2023                3"
      ]
     },
     "execution_count": 49,
     "metadata": {},
     "output_type": "execute_result"
    }
   ],
   "source": [
    "patients"
   ]
  },
  {
   "cell_type": "markdown",
   "id": "fd490e66",
   "metadata": {},
   "source": [
    "#### By Pandas it-self\n",
    "But this is not a very Efficient Method"
   ]
  },
  {
   "cell_type": "code",
   "execution_count": 50,
   "id": "e45d0879",
   "metadata": {},
   "outputs": [
    {
     "data": {
      "text/html": [
       "<div>\n",
       "<style scoped>\n",
       "    .dataframe tbody tr th:only-of-type {\n",
       "        vertical-align: middle;\n",
       "    }\n",
       "\n",
       "    .dataframe tbody tr th {\n",
       "        vertical-align: top;\n",
       "    }\n",
       "\n",
       "    .dataframe thead th {\n",
       "        text-align: right;\n",
       "    }\n",
       "</style>\n",
       "<table border=\"1\" class=\"dataframe\">\n",
       "  <thead>\n",
       "    <tr style=\"text-align: right;\">\n",
       "      <th></th>\n",
       "      <th>Names</th>\n",
       "      <th>Age</th>\n",
       "      <th>Resident</th>\n",
       "      <th>Ward</th>\n",
       "      <th>Date of Admission</th>\n",
       "      <th>Admission order</th>\n",
       "      <th>Hospital Branch</th>\n",
       "    </tr>\n",
       "  </thead>\n",
       "  <tbody>\n",
       "    <tr>\n",
       "      <th>0</th>\n",
       "      <td>Ahmer</td>\n",
       "      <td>32</td>\n",
       "      <td>Islamabad</td>\n",
       "      <td>Cardio</td>\n",
       "      <td>14-01-2023</td>\n",
       "      <td>1</td>\n",
       "      <td>Karachi</td>\n",
       "    </tr>\n",
       "    <tr>\n",
       "      <th>1</th>\n",
       "      <td>Irshad</td>\n",
       "      <td>18</td>\n",
       "      <td>Karachi</td>\n",
       "      <td>Cardio</td>\n",
       "      <td>28-01-2023</td>\n",
       "      <td>2</td>\n",
       "      <td>Karachi</td>\n",
       "    </tr>\n",
       "    <tr>\n",
       "      <th>2</th>\n",
       "      <td>Fatimah</td>\n",
       "      <td>28</td>\n",
       "      <td>Lahore</td>\n",
       "      <td>Comman</td>\n",
       "      <td>15-02-2023</td>\n",
       "      <td>3</td>\n",
       "      <td>Karachi</td>\n",
       "    </tr>\n",
       "  </tbody>\n",
       "</table>\n",
       "</div>"
      ],
      "text/plain": [
       "     Names  Age   Resident    Ward Date of Admission  Admission order  \\\n",
       "0    Ahmer   32  Islamabad  Cardio        14-01-2023                1   \n",
       "1   Irshad   18    Karachi  Cardio        28-01-2023                2   \n",
       "2  Fatimah   28     Lahore  Comman        15-02-2023                3   \n",
       "\n",
       "  Hospital Branch  \n",
       "0         Karachi  \n",
       "1         Karachi  \n",
       "2         Karachi  "
      ]
     },
     "execution_count": 50,
     "metadata": {},
     "output_type": "execute_result"
    }
   ],
   "source": [
    "patients['Hospital Branch'] = 'Karachi'\n",
    "patients"
   ]
  },
  {
   "cell_type": "markdown",
   "id": "f2414d65",
   "metadata": {},
   "source": [
    "## Specifing Index / Custom Indexing"
   ]
  },
  {
   "cell_type": "code",
   "execution_count": 51,
   "id": "bfe289ef",
   "metadata": {},
   "outputs": [],
   "source": [
    "stds = pd.DataFrame({\n",
    "    'Names':['Abdul Jabbar','Moiz','Rahim','Maryam','Rimsha'],\n",
    "    'Age':[19,18,18,19,18],\n",
    "    'Faculty':['Electrical','Software','Electrical','Mechanical','Automotive']\n",
    "},index=['NED1','NED2','NED3','NED4','NED5'])"
   ]
  },
  {
   "cell_type": "code",
   "execution_count": 52,
   "id": "74f1497d",
   "metadata": {},
   "outputs": [
    {
     "data": {
      "text/html": [
       "<div>\n",
       "<style scoped>\n",
       "    .dataframe tbody tr th:only-of-type {\n",
       "        vertical-align: middle;\n",
       "    }\n",
       "\n",
       "    .dataframe tbody tr th {\n",
       "        vertical-align: top;\n",
       "    }\n",
       "\n",
       "    .dataframe thead th {\n",
       "        text-align: right;\n",
       "    }\n",
       "</style>\n",
       "<table border=\"1\" class=\"dataframe\">\n",
       "  <thead>\n",
       "    <tr style=\"text-align: right;\">\n",
       "      <th></th>\n",
       "      <th>Names</th>\n",
       "      <th>Age</th>\n",
       "      <th>Faculty</th>\n",
       "    </tr>\n",
       "  </thead>\n",
       "  <tbody>\n",
       "    <tr>\n",
       "      <th>NED1</th>\n",
       "      <td>Abdul Jabbar</td>\n",
       "      <td>19</td>\n",
       "      <td>Electrical</td>\n",
       "    </tr>\n",
       "    <tr>\n",
       "      <th>NED2</th>\n",
       "      <td>Moiz</td>\n",
       "      <td>18</td>\n",
       "      <td>Software</td>\n",
       "    </tr>\n",
       "    <tr>\n",
       "      <th>NED3</th>\n",
       "      <td>Rahim</td>\n",
       "      <td>18</td>\n",
       "      <td>Electrical</td>\n",
       "    </tr>\n",
       "    <tr>\n",
       "      <th>NED4</th>\n",
       "      <td>Maryam</td>\n",
       "      <td>19</td>\n",
       "      <td>Mechanical</td>\n",
       "    </tr>\n",
       "    <tr>\n",
       "      <th>NED5</th>\n",
       "      <td>Rimsha</td>\n",
       "      <td>18</td>\n",
       "      <td>Automotive</td>\n",
       "    </tr>\n",
       "  </tbody>\n",
       "</table>\n",
       "</div>"
      ],
      "text/plain": [
       "             Names  Age     Faculty\n",
       "NED1  Abdul Jabbar   19  Electrical\n",
       "NED2          Moiz   18    Software\n",
       "NED3         Rahim   18  Electrical\n",
       "NED4        Maryam   19  Mechanical\n",
       "NED5        Rimsha   18  Automotive"
      ]
     },
     "execution_count": 52,
     "metadata": {},
     "output_type": "execute_result"
    }
   ],
   "source": [
    "stds"
   ]
  },
  {
   "cell_type": "markdown",
   "id": "903f8e36",
   "metadata": {},
   "source": [
    "## Accessing Data Row Wise"
   ]
  },
  {
   "cell_type": "code",
   "execution_count": 53,
   "id": "14bc87fb",
   "metadata": {},
   "outputs": [
    {
     "data": {
      "text/plain": [
       "Names          Moiz\n",
       "Age              18\n",
       "Faculty    Software\n",
       "Name: NED2, dtype: object"
      ]
     },
     "execution_count": 53,
     "metadata": {},
     "output_type": "execute_result"
    }
   ],
   "source": [
    "stds.loc['NED2']"
   ]
  },
  {
   "cell_type": "markdown",
   "id": "d41d63f0",
   "metadata": {},
   "source": [
    "* \"loc\" is use to accessing data through index"
   ]
  },
  {
   "cell_type": "code",
   "execution_count": 54,
   "id": "0646f953",
   "metadata": {},
   "outputs": [
    {
     "data": {
      "text/plain": [
       "Names          Rimsha\n",
       "Age                18\n",
       "Faculty    Automotive\n",
       "Name: NED5, dtype: object"
      ]
     },
     "execution_count": 54,
     "metadata": {},
     "output_type": "execute_result"
    }
   ],
   "source": [
    "stds.loc['NED5']"
   ]
  },
  {
   "cell_type": "markdown",
   "id": "211e9528",
   "metadata": {},
   "source": [
    "* \"iloc\" is use to accessing the data by specifying the data location"
   ]
  },
  {
   "cell_type": "code",
   "execution_count": 55,
   "id": "19dba063",
   "metadata": {},
   "outputs": [
    {
     "data": {
      "text/plain": [
       "Names           Rahim\n",
       "Age                18\n",
       "Faculty    Electrical\n",
       "Name: NED3, dtype: object"
      ]
     },
     "execution_count": 55,
     "metadata": {},
     "output_type": "execute_result"
    }
   ],
   "source": [
    "stds.iloc[2]"
   ]
  },
  {
   "cell_type": "code",
   "execution_count": 56,
   "id": "ae6cb152",
   "metadata": {},
   "outputs": [
    {
     "data": {
      "text/plain": [
       "Names          Maryam\n",
       "Age                19\n",
       "Faculty    Mechanical\n",
       "Name: NED4, dtype: object"
      ]
     },
     "execution_count": 56,
     "metadata": {},
     "output_type": "execute_result"
    }
   ],
   "source": [
    "stds.iloc[3]"
   ]
  },
  {
   "cell_type": "markdown",
   "id": "8b2bef21",
   "metadata": {},
   "source": [
    "## Deleting Columns"
   ]
  },
  {
   "cell_type": "code",
   "execution_count": 57,
   "id": "ffb67329",
   "metadata": {},
   "outputs": [
    {
     "data": {
      "text/html": [
       "<div>\n",
       "<style scoped>\n",
       "    .dataframe tbody tr th:only-of-type {\n",
       "        vertical-align: middle;\n",
       "    }\n",
       "\n",
       "    .dataframe tbody tr th {\n",
       "        vertical-align: top;\n",
       "    }\n",
       "\n",
       "    .dataframe thead th {\n",
       "        text-align: right;\n",
       "    }\n",
       "</style>\n",
       "<table border=\"1\" class=\"dataframe\">\n",
       "  <thead>\n",
       "    <tr style=\"text-align: right;\">\n",
       "      <th></th>\n",
       "      <th>Names</th>\n",
       "      <th>Age</th>\n",
       "      <th>Faculty</th>\n",
       "    </tr>\n",
       "  </thead>\n",
       "  <tbody>\n",
       "    <tr>\n",
       "      <th>NED1</th>\n",
       "      <td>Abdul Jabbar</td>\n",
       "      <td>19</td>\n",
       "      <td>Electrical</td>\n",
       "    </tr>\n",
       "    <tr>\n",
       "      <th>NED2</th>\n",
       "      <td>Moiz</td>\n",
       "      <td>18</td>\n",
       "      <td>Software</td>\n",
       "    </tr>\n",
       "    <tr>\n",
       "      <th>NED3</th>\n",
       "      <td>Rahim</td>\n",
       "      <td>18</td>\n",
       "      <td>Electrical</td>\n",
       "    </tr>\n",
       "    <tr>\n",
       "      <th>NED4</th>\n",
       "      <td>Maryam</td>\n",
       "      <td>19</td>\n",
       "      <td>Mechanical</td>\n",
       "    </tr>\n",
       "    <tr>\n",
       "      <th>NED5</th>\n",
       "      <td>Rimsha</td>\n",
       "      <td>18</td>\n",
       "      <td>Automotive</td>\n",
       "    </tr>\n",
       "  </tbody>\n",
       "</table>\n",
       "</div>"
      ],
      "text/plain": [
       "             Names  Age     Faculty\n",
       "NED1  Abdul Jabbar   19  Electrical\n",
       "NED2          Moiz   18    Software\n",
       "NED3         Rahim   18  Electrical\n",
       "NED4        Maryam   19  Mechanical\n",
       "NED5        Rimsha   18  Automotive"
      ]
     },
     "execution_count": 57,
     "metadata": {},
     "output_type": "execute_result"
    }
   ],
   "source": [
    "stds"
   ]
  },
  {
   "cell_type": "code",
   "execution_count": 58,
   "id": "f5534169",
   "metadata": {},
   "outputs": [],
   "source": [
    "del stds['Names']"
   ]
  },
  {
   "cell_type": "code",
   "execution_count": 59,
   "id": "b94f6be2",
   "metadata": {},
   "outputs": [
    {
     "data": {
      "text/html": [
       "<div>\n",
       "<style scoped>\n",
       "    .dataframe tbody tr th:only-of-type {\n",
       "        vertical-align: middle;\n",
       "    }\n",
       "\n",
       "    .dataframe tbody tr th {\n",
       "        vertical-align: top;\n",
       "    }\n",
       "\n",
       "    .dataframe thead th {\n",
       "        text-align: right;\n",
       "    }\n",
       "</style>\n",
       "<table border=\"1\" class=\"dataframe\">\n",
       "  <thead>\n",
       "    <tr style=\"text-align: right;\">\n",
       "      <th></th>\n",
       "      <th>Age</th>\n",
       "      <th>Faculty</th>\n",
       "    </tr>\n",
       "  </thead>\n",
       "  <tbody>\n",
       "    <tr>\n",
       "      <th>NED1</th>\n",
       "      <td>19</td>\n",
       "      <td>Electrical</td>\n",
       "    </tr>\n",
       "    <tr>\n",
       "      <th>NED2</th>\n",
       "      <td>18</td>\n",
       "      <td>Software</td>\n",
       "    </tr>\n",
       "    <tr>\n",
       "      <th>NED3</th>\n",
       "      <td>18</td>\n",
       "      <td>Electrical</td>\n",
       "    </tr>\n",
       "    <tr>\n",
       "      <th>NED4</th>\n",
       "      <td>19</td>\n",
       "      <td>Mechanical</td>\n",
       "    </tr>\n",
       "    <tr>\n",
       "      <th>NED5</th>\n",
       "      <td>18</td>\n",
       "      <td>Automotive</td>\n",
       "    </tr>\n",
       "  </tbody>\n",
       "</table>\n",
       "</div>"
      ],
      "text/plain": [
       "      Age     Faculty\n",
       "NED1   19  Electrical\n",
       "NED2   18    Software\n",
       "NED3   18  Electrical\n",
       "NED4   19  Mechanical\n",
       "NED5   18  Automotive"
      ]
     },
     "execution_count": 59,
     "metadata": {},
     "output_type": "execute_result"
    }
   ],
   "source": [
    "stds"
   ]
  },
  {
   "cell_type": "markdown",
   "id": "ce3de289",
   "metadata": {},
   "source": [
    "## Transpose"
   ]
  },
  {
   "cell_type": "code",
   "execution_count": 60,
   "id": "b43521cd",
   "metadata": {},
   "outputs": [
    {
     "data": {
      "text/html": [
       "<div>\n",
       "<style scoped>\n",
       "    .dataframe tbody tr th:only-of-type {\n",
       "        vertical-align: middle;\n",
       "    }\n",
       "\n",
       "    .dataframe tbody tr th {\n",
       "        vertical-align: top;\n",
       "    }\n",
       "\n",
       "    .dataframe thead th {\n",
       "        text-align: right;\n",
       "    }\n",
       "</style>\n",
       "<table border=\"1\" class=\"dataframe\">\n",
       "  <thead>\n",
       "    <tr style=\"text-align: right;\">\n",
       "      <th></th>\n",
       "      <th>NED1</th>\n",
       "      <th>NED2</th>\n",
       "      <th>NED3</th>\n",
       "      <th>NED4</th>\n",
       "      <th>NED5</th>\n",
       "    </tr>\n",
       "  </thead>\n",
       "  <tbody>\n",
       "    <tr>\n",
       "      <th>Age</th>\n",
       "      <td>19</td>\n",
       "      <td>18</td>\n",
       "      <td>18</td>\n",
       "      <td>19</td>\n",
       "      <td>18</td>\n",
       "    </tr>\n",
       "    <tr>\n",
       "      <th>Faculty</th>\n",
       "      <td>Electrical</td>\n",
       "      <td>Software</td>\n",
       "      <td>Electrical</td>\n",
       "      <td>Mechanical</td>\n",
       "      <td>Automotive</td>\n",
       "    </tr>\n",
       "  </tbody>\n",
       "</table>\n",
       "</div>"
      ],
      "text/plain": [
       "               NED1      NED2        NED3        NED4        NED5\n",
       "Age              19        18          18          19          18\n",
       "Faculty  Electrical  Software  Electrical  Mechanical  Automotive"
      ]
     },
     "execution_count": 60,
     "metadata": {},
     "output_type": "execute_result"
    }
   ],
   "source": [
    "stds.T"
   ]
  },
  {
   "cell_type": "markdown",
   "id": "2e66e6a0",
   "metadata": {},
   "source": [
    "## Slicing in Dataframe"
   ]
  },
  {
   "cell_type": "markdown",
   "id": "c559b33b",
   "metadata": {},
   "source": [
    "* Slicing in data frame can be done by just mentioning the the required column or row name in square brackets \"[ ]\"\n",
    "* But it can also be done by \"iloc\" method. Just mention the \" .iloc \" after the dataframe name and before the square brackets (This is more efficient method)\n",
    "* Can use \"iloc\" (but it will not work with custom label). Meanwhile using \"loc\" provides more control over fancy labels and default labels\n",
    "* For Slicing always have to mention \"start, end and steps\""
   ]
  },
  {
   "cell_type": "code",
   "execution_count": 61,
   "id": "5300e766",
   "metadata": {},
   "outputs": [
    {
     "data": {
      "text/html": [
       "<div>\n",
       "<style scoped>\n",
       "    .dataframe tbody tr th:only-of-type {\n",
       "        vertical-align: middle;\n",
       "    }\n",
       "\n",
       "    .dataframe tbody tr th {\n",
       "        vertical-align: top;\n",
       "    }\n",
       "\n",
       "    .dataframe thead th {\n",
       "        text-align: right;\n",
       "    }\n",
       "</style>\n",
       "<table border=\"1\" class=\"dataframe\">\n",
       "  <thead>\n",
       "    <tr style=\"text-align: right;\">\n",
       "      <th></th>\n",
       "      <th>Names</th>\n",
       "      <th>Age</th>\n",
       "      <th>Resident</th>\n",
       "      <th>Ward</th>\n",
       "      <th>Date of Admission</th>\n",
       "      <th>Admission order</th>\n",
       "      <th>Hospital Branch</th>\n",
       "    </tr>\n",
       "  </thead>\n",
       "  <tbody>\n",
       "    <tr>\n",
       "      <th>0</th>\n",
       "      <td>Ahmer</td>\n",
       "      <td>32</td>\n",
       "      <td>Islamabad</td>\n",
       "      <td>Cardio</td>\n",
       "      <td>14-01-2023</td>\n",
       "      <td>1</td>\n",
       "      <td>Karachi</td>\n",
       "    </tr>\n",
       "    <tr>\n",
       "      <th>1</th>\n",
       "      <td>Irshad</td>\n",
       "      <td>18</td>\n",
       "      <td>Karachi</td>\n",
       "      <td>Cardio</td>\n",
       "      <td>28-01-2023</td>\n",
       "      <td>2</td>\n",
       "      <td>Karachi</td>\n",
       "    </tr>\n",
       "    <tr>\n",
       "      <th>2</th>\n",
       "      <td>Fatimah</td>\n",
       "      <td>28</td>\n",
       "      <td>Lahore</td>\n",
       "      <td>Comman</td>\n",
       "      <td>15-02-2023</td>\n",
       "      <td>3</td>\n",
       "      <td>Karachi</td>\n",
       "    </tr>\n",
       "  </tbody>\n",
       "</table>\n",
       "</div>"
      ],
      "text/plain": [
       "     Names  Age   Resident    Ward Date of Admission  Admission order  \\\n",
       "0    Ahmer   32  Islamabad  Cardio        14-01-2023                1   \n",
       "1   Irshad   18    Karachi  Cardio        28-01-2023                2   \n",
       "2  Fatimah   28     Lahore  Comman        15-02-2023                3   \n",
       "\n",
       "  Hospital Branch  \n",
       "0         Karachi  \n",
       "1         Karachi  \n",
       "2         Karachi  "
      ]
     },
     "execution_count": 61,
     "metadata": {},
     "output_type": "execute_result"
    }
   ],
   "source": [
    "patients"
   ]
  },
  {
   "cell_type": "markdown",
   "id": "8cfa92c0",
   "metadata": {},
   "source": [
    "#### For Row-wise Slicing"
   ]
  },
  {
   "cell_type": "code",
   "execution_count": 62,
   "id": "8f7cfbca",
   "metadata": {},
   "outputs": [
    {
     "data": {
      "text/html": [
       "<div>\n",
       "<style scoped>\n",
       "    .dataframe tbody tr th:only-of-type {\n",
       "        vertical-align: middle;\n",
       "    }\n",
       "\n",
       "    .dataframe tbody tr th {\n",
       "        vertical-align: top;\n",
       "    }\n",
       "\n",
       "    .dataframe thead th {\n",
       "        text-align: right;\n",
       "    }\n",
       "</style>\n",
       "<table border=\"1\" class=\"dataframe\">\n",
       "  <thead>\n",
       "    <tr style=\"text-align: right;\">\n",
       "      <th></th>\n",
       "      <th>Names</th>\n",
       "      <th>Age</th>\n",
       "      <th>Resident</th>\n",
       "      <th>Ward</th>\n",
       "      <th>Date of Admission</th>\n",
       "      <th>Admission order</th>\n",
       "      <th>Hospital Branch</th>\n",
       "    </tr>\n",
       "  </thead>\n",
       "  <tbody>\n",
       "    <tr>\n",
       "      <th>0</th>\n",
       "      <td>Ahmer</td>\n",
       "      <td>32</td>\n",
       "      <td>Islamabad</td>\n",
       "      <td>Cardio</td>\n",
       "      <td>14-01-2023</td>\n",
       "      <td>1</td>\n",
       "      <td>Karachi</td>\n",
       "    </tr>\n",
       "    <tr>\n",
       "      <th>2</th>\n",
       "      <td>Fatimah</td>\n",
       "      <td>28</td>\n",
       "      <td>Lahore</td>\n",
       "      <td>Comman</td>\n",
       "      <td>15-02-2023</td>\n",
       "      <td>3</td>\n",
       "      <td>Karachi</td>\n",
       "    </tr>\n",
       "  </tbody>\n",
       "</table>\n",
       "</div>"
      ],
      "text/plain": [
       "     Names  Age   Resident    Ward Date of Admission  Admission order  \\\n",
       "0    Ahmer   32  Islamabad  Cardio        14-01-2023                1   \n",
       "2  Fatimah   28     Lahore  Comman        15-02-2023                3   \n",
       "\n",
       "  Hospital Branch  \n",
       "0         Karachi  \n",
       "2         Karachi  "
      ]
     },
     "execution_count": 62,
     "metadata": {},
     "output_type": "execute_result"
    }
   ],
   "source": [
    "patients.loc[::2]"
   ]
  },
  {
   "cell_type": "code",
   "execution_count": 63,
   "id": "be35d6fa",
   "metadata": {},
   "outputs": [
    {
     "data": {
      "text/plain": [
       "0      Ahmer\n",
       "1     Irshad\n",
       "2    Fatimah\n",
       "Name: Names, dtype: object"
      ]
     },
     "execution_count": 63,
     "metadata": {},
     "output_type": "execute_result"
    }
   ],
   "source": [
    "patients.loc[::]['Names']"
   ]
  },
  {
   "cell_type": "markdown",
   "id": "3c28833a",
   "metadata": {},
   "source": [
    "#### For column-wise Slicing"
   ]
  },
  {
   "cell_type": "code",
   "execution_count": 64,
   "id": "9731b307",
   "metadata": {},
   "outputs": [
    {
     "data": {
      "text/html": [
       "<div>\n",
       "<style scoped>\n",
       "    .dataframe tbody tr th:only-of-type {\n",
       "        vertical-align: middle;\n",
       "    }\n",
       "\n",
       "    .dataframe tbody tr th {\n",
       "        vertical-align: top;\n",
       "    }\n",
       "\n",
       "    .dataframe thead th {\n",
       "        text-align: right;\n",
       "    }\n",
       "</style>\n",
       "<table border=\"1\" class=\"dataframe\">\n",
       "  <thead>\n",
       "    <tr style=\"text-align: right;\">\n",
       "      <th></th>\n",
       "      <th>Names</th>\n",
       "      <th>Age</th>\n",
       "      <th>Resident</th>\n",
       "      <th>Ward</th>\n",
       "    </tr>\n",
       "  </thead>\n",
       "  <tbody>\n",
       "    <tr>\n",
       "      <th>0</th>\n",
       "      <td>Ahmer</td>\n",
       "      <td>32</td>\n",
       "      <td>Islamabad</td>\n",
       "      <td>Cardio</td>\n",
       "    </tr>\n",
       "    <tr>\n",
       "      <th>1</th>\n",
       "      <td>Irshad</td>\n",
       "      <td>18</td>\n",
       "      <td>Karachi</td>\n",
       "      <td>Cardio</td>\n",
       "    </tr>\n",
       "    <tr>\n",
       "      <th>2</th>\n",
       "      <td>Fatimah</td>\n",
       "      <td>28</td>\n",
       "      <td>Lahore</td>\n",
       "      <td>Comman</td>\n",
       "    </tr>\n",
       "  </tbody>\n",
       "</table>\n",
       "</div>"
      ],
      "text/plain": [
       "     Names  Age   Resident    Ward\n",
       "0    Ahmer   32  Islamabad  Cardio\n",
       "1   Irshad   18    Karachi  Cardio\n",
       "2  Fatimah   28     Lahore  Comman"
      ]
     },
     "execution_count": 64,
     "metadata": {},
     "output_type": "execute_result"
    }
   ],
   "source": [
    "patients.loc[:,'Names':'Ward']"
   ]
  },
  {
   "cell_type": "markdown",
   "id": "9a184eb2",
   "metadata": {},
   "source": [
    "## Converting Dataframe into a \"Numpy\" Array"
   ]
  },
  {
   "cell_type": "code",
   "execution_count": 65,
   "id": "3e4fec48",
   "metadata": {},
   "outputs": [
    {
     "data": {
      "text/plain": [
       "array([['Ahmer', 32, 'Islamabad', 'Cardio', '14-01-2023', 1, 'Karachi'],\n",
       "       ['Irshad', 18, 'Karachi', 'Cardio', '28-01-2023', 2, 'Karachi'],\n",
       "       ['Fatimah', 28, 'Lahore', 'Comman', '15-02-2023', 3, 'Karachi']],\n",
       "      dtype=object)"
      ]
     },
     "execution_count": 65,
     "metadata": {},
     "output_type": "execute_result"
    }
   ],
   "source": [
    "patients.values"
   ]
  },
  {
   "cell_type": "code",
   "execution_count": 66,
   "id": "07c08fb0",
   "metadata": {},
   "outputs": [
    {
     "data": {
      "text/plain": [
       "array([[19, 'Electrical'],\n",
       "       [18, 'Software'],\n",
       "       [18, 'Electrical'],\n",
       "       [19, 'Mechanical'],\n",
       "       [18, 'Automotive']], dtype=object)"
      ]
     },
     "execution_count": 66,
     "metadata": {},
     "output_type": "execute_result"
    }
   ],
   "source": [
    "stds.values"
   ]
  },
  {
   "cell_type": "markdown",
   "id": "83896a92",
   "metadata": {},
   "source": [
    "## Dropping"
   ]
  },
  {
   "cell_type": "markdown",
   "id": "34741308",
   "metadata": {},
   "source": [
    "\".drop()\" is not an \"in-place/in-memory\"  operation. It means that by using \"drop()\" it will not effect the the original dataframe or in simpler words it will not save in the memory"
   ]
  },
  {
   "cell_type": "code",
   "execution_count": 67,
   "id": "691ccc50",
   "metadata": {},
   "outputs": [
    {
     "data": {
      "text/html": [
       "<div>\n",
       "<style scoped>\n",
       "    .dataframe tbody tr th:only-of-type {\n",
       "        vertical-align: middle;\n",
       "    }\n",
       "\n",
       "    .dataframe tbody tr th {\n",
       "        vertical-align: top;\n",
       "    }\n",
       "\n",
       "    .dataframe thead th {\n",
       "        text-align: right;\n",
       "    }\n",
       "</style>\n",
       "<table border=\"1\" class=\"dataframe\">\n",
       "  <thead>\n",
       "    <tr style=\"text-align: right;\">\n",
       "      <th></th>\n",
       "      <th>Names</th>\n",
       "      <th>Age</th>\n",
       "      <th>Resident</th>\n",
       "      <th>Ward</th>\n",
       "      <th>Date of Admission</th>\n",
       "      <th>Admission order</th>\n",
       "      <th>Hospital Branch</th>\n",
       "    </tr>\n",
       "  </thead>\n",
       "  <tbody>\n",
       "    <tr>\n",
       "      <th>0</th>\n",
       "      <td>Ahmer</td>\n",
       "      <td>32</td>\n",
       "      <td>Islamabad</td>\n",
       "      <td>Cardio</td>\n",
       "      <td>14-01-2023</td>\n",
       "      <td>1</td>\n",
       "      <td>Karachi</td>\n",
       "    </tr>\n",
       "    <tr>\n",
       "      <th>1</th>\n",
       "      <td>Irshad</td>\n",
       "      <td>18</td>\n",
       "      <td>Karachi</td>\n",
       "      <td>Cardio</td>\n",
       "      <td>28-01-2023</td>\n",
       "      <td>2</td>\n",
       "      <td>Karachi</td>\n",
       "    </tr>\n",
       "    <tr>\n",
       "      <th>2</th>\n",
       "      <td>Fatimah</td>\n",
       "      <td>28</td>\n",
       "      <td>Lahore</td>\n",
       "      <td>Comman</td>\n",
       "      <td>15-02-2023</td>\n",
       "      <td>3</td>\n",
       "      <td>Karachi</td>\n",
       "    </tr>\n",
       "  </tbody>\n",
       "</table>\n",
       "</div>"
      ],
      "text/plain": [
       "     Names  Age   Resident    Ward Date of Admission  Admission order  \\\n",
       "0    Ahmer   32  Islamabad  Cardio        14-01-2023                1   \n",
       "1   Irshad   18    Karachi  Cardio        28-01-2023                2   \n",
       "2  Fatimah   28     Lahore  Comman        15-02-2023                3   \n",
       "\n",
       "  Hospital Branch  \n",
       "0         Karachi  \n",
       "1         Karachi  \n",
       "2         Karachi  "
      ]
     },
     "execution_count": 67,
     "metadata": {},
     "output_type": "execute_result"
    }
   ],
   "source": [
    "patients"
   ]
  },
  {
   "cell_type": "markdown",
   "id": "f3db7de3",
   "metadata": {},
   "source": [
    "#### Row wise dropping"
   ]
  },
  {
   "cell_type": "code",
   "execution_count": 68,
   "id": "67be55b0",
   "metadata": {},
   "outputs": [
    {
     "data": {
      "text/html": [
       "<div>\n",
       "<style scoped>\n",
       "    .dataframe tbody tr th:only-of-type {\n",
       "        vertical-align: middle;\n",
       "    }\n",
       "\n",
       "    .dataframe tbody tr th {\n",
       "        vertical-align: top;\n",
       "    }\n",
       "\n",
       "    .dataframe thead th {\n",
       "        text-align: right;\n",
       "    }\n",
       "</style>\n",
       "<table border=\"1\" class=\"dataframe\">\n",
       "  <thead>\n",
       "    <tr style=\"text-align: right;\">\n",
       "      <th></th>\n",
       "      <th>Names</th>\n",
       "      <th>Age</th>\n",
       "      <th>Resident</th>\n",
       "      <th>Ward</th>\n",
       "      <th>Date of Admission</th>\n",
       "      <th>Admission order</th>\n",
       "      <th>Hospital Branch</th>\n",
       "    </tr>\n",
       "  </thead>\n",
       "  <tbody>\n",
       "    <tr>\n",
       "      <th>1</th>\n",
       "      <td>Irshad</td>\n",
       "      <td>18</td>\n",
       "      <td>Karachi</td>\n",
       "      <td>Cardio</td>\n",
       "      <td>28-01-2023</td>\n",
       "      <td>2</td>\n",
       "      <td>Karachi</td>\n",
       "    </tr>\n",
       "    <tr>\n",
       "      <th>2</th>\n",
       "      <td>Fatimah</td>\n",
       "      <td>28</td>\n",
       "      <td>Lahore</td>\n",
       "      <td>Comman</td>\n",
       "      <td>15-02-2023</td>\n",
       "      <td>3</td>\n",
       "      <td>Karachi</td>\n",
       "    </tr>\n",
       "  </tbody>\n",
       "</table>\n",
       "</div>"
      ],
      "text/plain": [
       "     Names  Age Resident    Ward Date of Admission  Admission order  \\\n",
       "1   Irshad   18  Karachi  Cardio        28-01-2023                2   \n",
       "2  Fatimah   28   Lahore  Comman        15-02-2023                3   \n",
       "\n",
       "  Hospital Branch  \n",
       "1         Karachi  \n",
       "2         Karachi  "
      ]
     },
     "execution_count": 68,
     "metadata": {},
     "output_type": "execute_result"
    }
   ],
   "source": [
    "patients.drop([0],axis=0)"
   ]
  },
  {
   "cell_type": "markdown",
   "id": "fbe07d56",
   "metadata": {},
   "source": [
    "#### Column wise dropping"
   ]
  },
  {
   "cell_type": "code",
   "execution_count": 69,
   "id": "0fa62cad",
   "metadata": {},
   "outputs": [
    {
     "data": {
      "text/html": [
       "<div>\n",
       "<style scoped>\n",
       "    .dataframe tbody tr th:only-of-type {\n",
       "        vertical-align: middle;\n",
       "    }\n",
       "\n",
       "    .dataframe tbody tr th {\n",
       "        vertical-align: top;\n",
       "    }\n",
       "\n",
       "    .dataframe thead th {\n",
       "        text-align: right;\n",
       "    }\n",
       "</style>\n",
       "<table border=\"1\" class=\"dataframe\">\n",
       "  <thead>\n",
       "    <tr style=\"text-align: right;\">\n",
       "      <th></th>\n",
       "      <th>Names</th>\n",
       "      <th>Age</th>\n",
       "      <th>Resident</th>\n",
       "      <th>Ward</th>\n",
       "      <th>Date of Admission</th>\n",
       "      <th>Admission order</th>\n",
       "      <th>Hospital Branch</th>\n",
       "    </tr>\n",
       "  </thead>\n",
       "  <tbody>\n",
       "    <tr>\n",
       "      <th>0</th>\n",
       "      <td>Ahmer</td>\n",
       "      <td>32</td>\n",
       "      <td>Islamabad</td>\n",
       "      <td>Cardio</td>\n",
       "      <td>14-01-2023</td>\n",
       "      <td>1</td>\n",
       "      <td>Karachi</td>\n",
       "    </tr>\n",
       "    <tr>\n",
       "      <th>1</th>\n",
       "      <td>Irshad</td>\n",
       "      <td>18</td>\n",
       "      <td>Karachi</td>\n",
       "      <td>Cardio</td>\n",
       "      <td>28-01-2023</td>\n",
       "      <td>2</td>\n",
       "      <td>Karachi</td>\n",
       "    </tr>\n",
       "    <tr>\n",
       "      <th>2</th>\n",
       "      <td>Fatimah</td>\n",
       "      <td>28</td>\n",
       "      <td>Lahore</td>\n",
       "      <td>Comman</td>\n",
       "      <td>15-02-2023</td>\n",
       "      <td>3</td>\n",
       "      <td>Karachi</td>\n",
       "    </tr>\n",
       "  </tbody>\n",
       "</table>\n",
       "</div>"
      ],
      "text/plain": [
       "     Names  Age   Resident    Ward Date of Admission  Admission order  \\\n",
       "0    Ahmer   32  Islamabad  Cardio        14-01-2023                1   \n",
       "1   Irshad   18    Karachi  Cardio        28-01-2023                2   \n",
       "2  Fatimah   28     Lahore  Comman        15-02-2023                3   \n",
       "\n",
       "  Hospital Branch  \n",
       "0         Karachi  \n",
       "1         Karachi  \n",
       "2         Karachi  "
      ]
     },
     "execution_count": 69,
     "metadata": {},
     "output_type": "execute_result"
    }
   ],
   "source": [
    "patients"
   ]
  },
  {
   "cell_type": "code",
   "execution_count": 70,
   "id": "71a24607",
   "metadata": {},
   "outputs": [
    {
     "data": {
      "text/html": [
       "<div>\n",
       "<style scoped>\n",
       "    .dataframe tbody tr th:only-of-type {\n",
       "        vertical-align: middle;\n",
       "    }\n",
       "\n",
       "    .dataframe tbody tr th {\n",
       "        vertical-align: top;\n",
       "    }\n",
       "\n",
       "    .dataframe thead th {\n",
       "        text-align: right;\n",
       "    }\n",
       "</style>\n",
       "<table border=\"1\" class=\"dataframe\">\n",
       "  <thead>\n",
       "    <tr style=\"text-align: right;\">\n",
       "      <th></th>\n",
       "      <th>Names</th>\n",
       "      <th>Age</th>\n",
       "      <th>Resident</th>\n",
       "      <th>Ward</th>\n",
       "      <th>Hospital Branch</th>\n",
       "    </tr>\n",
       "  </thead>\n",
       "  <tbody>\n",
       "    <tr>\n",
       "      <th>0</th>\n",
       "      <td>Ahmer</td>\n",
       "      <td>32</td>\n",
       "      <td>Islamabad</td>\n",
       "      <td>Cardio</td>\n",
       "      <td>Karachi</td>\n",
       "    </tr>\n",
       "    <tr>\n",
       "      <th>1</th>\n",
       "      <td>Irshad</td>\n",
       "      <td>18</td>\n",
       "      <td>Karachi</td>\n",
       "      <td>Cardio</td>\n",
       "      <td>Karachi</td>\n",
       "    </tr>\n",
       "    <tr>\n",
       "      <th>2</th>\n",
       "      <td>Fatimah</td>\n",
       "      <td>28</td>\n",
       "      <td>Lahore</td>\n",
       "      <td>Comman</td>\n",
       "      <td>Karachi</td>\n",
       "    </tr>\n",
       "  </tbody>\n",
       "</table>\n",
       "</div>"
      ],
      "text/plain": [
       "     Names  Age   Resident    Ward Hospital Branch\n",
       "0    Ahmer   32  Islamabad  Cardio         Karachi\n",
       "1   Irshad   18    Karachi  Cardio         Karachi\n",
       "2  Fatimah   28     Lahore  Comman         Karachi"
      ]
     },
     "execution_count": 70,
     "metadata": {},
     "output_type": "execute_result"
    }
   ],
   "source": [
    "patients.drop(['Date of Admission','Admission order'],axis=1)"
   ]
  },
  {
   "cell_type": "markdown",
   "id": "a2e30560",
   "metadata": {},
   "source": [
    "* But we can save \"drop()\" value in the memory \"Manually\""
   ]
  },
  {
   "cell_type": "code",
   "execution_count": 71,
   "id": "a3cf6d2a",
   "metadata": {},
   "outputs": [],
   "source": [
    "patients.drop(['Date of Admission','Admission order'],axis=1,inplace=True)"
   ]
  },
  {
   "cell_type": "code",
   "execution_count": 72,
   "id": "ece61442",
   "metadata": {},
   "outputs": [
    {
     "data": {
      "text/html": [
       "<div>\n",
       "<style scoped>\n",
       "    .dataframe tbody tr th:only-of-type {\n",
       "        vertical-align: middle;\n",
       "    }\n",
       "\n",
       "    .dataframe tbody tr th {\n",
       "        vertical-align: top;\n",
       "    }\n",
       "\n",
       "    .dataframe thead th {\n",
       "        text-align: right;\n",
       "    }\n",
       "</style>\n",
       "<table border=\"1\" class=\"dataframe\">\n",
       "  <thead>\n",
       "    <tr style=\"text-align: right;\">\n",
       "      <th></th>\n",
       "      <th>Names</th>\n",
       "      <th>Age</th>\n",
       "      <th>Resident</th>\n",
       "      <th>Ward</th>\n",
       "      <th>Hospital Branch</th>\n",
       "    </tr>\n",
       "  </thead>\n",
       "  <tbody>\n",
       "    <tr>\n",
       "      <th>0</th>\n",
       "      <td>Ahmer</td>\n",
       "      <td>32</td>\n",
       "      <td>Islamabad</td>\n",
       "      <td>Cardio</td>\n",
       "      <td>Karachi</td>\n",
       "    </tr>\n",
       "    <tr>\n",
       "      <th>1</th>\n",
       "      <td>Irshad</td>\n",
       "      <td>18</td>\n",
       "      <td>Karachi</td>\n",
       "      <td>Cardio</td>\n",
       "      <td>Karachi</td>\n",
       "    </tr>\n",
       "    <tr>\n",
       "      <th>2</th>\n",
       "      <td>Fatimah</td>\n",
       "      <td>28</td>\n",
       "      <td>Lahore</td>\n",
       "      <td>Comman</td>\n",
       "      <td>Karachi</td>\n",
       "    </tr>\n",
       "  </tbody>\n",
       "</table>\n",
       "</div>"
      ],
      "text/plain": [
       "     Names  Age   Resident    Ward Hospital Branch\n",
       "0    Ahmer   32  Islamabad  Cardio         Karachi\n",
       "1   Irshad   18    Karachi  Cardio         Karachi\n",
       "2  Fatimah   28     Lahore  Comman         Karachi"
      ]
     },
     "execution_count": 72,
     "metadata": {},
     "output_type": "execute_result"
    }
   ],
   "source": [
    "patients"
   ]
  },
  {
   "cell_type": "markdown",
   "id": "0c84b23a",
   "metadata": {},
   "source": [
    "## Converting Numpy Array into Dataframe"
   ]
  },
  {
   "cell_type": "code",
   "execution_count": 73,
   "id": "5380f663",
   "metadata": {},
   "outputs": [],
   "source": [
    "arr = np.array([\n",
    "    ['Kareem', 23, 'Rawalpindi', 'Medical'],\n",
    "    ['Shahid', 24, 'Faisalabad', 'Commerce'],\n",
    "    ['Jameel', 20, 'Thatta', 'Engineering']\n",
    "])"
   ]
  },
  {
   "cell_type": "code",
   "execution_count": 74,
   "id": "c62b99e1",
   "metadata": {},
   "outputs": [
    {
     "data": {
      "text/html": [
       "<div>\n",
       "<style scoped>\n",
       "    .dataframe tbody tr th:only-of-type {\n",
       "        vertical-align: middle;\n",
       "    }\n",
       "\n",
       "    .dataframe tbody tr th {\n",
       "        vertical-align: top;\n",
       "    }\n",
       "\n",
       "    .dataframe thead th {\n",
       "        text-align: right;\n",
       "    }\n",
       "</style>\n",
       "<table border=\"1\" class=\"dataframe\">\n",
       "  <thead>\n",
       "    <tr style=\"text-align: right;\">\n",
       "      <th></th>\n",
       "      <th>0</th>\n",
       "      <th>1</th>\n",
       "      <th>2</th>\n",
       "      <th>3</th>\n",
       "    </tr>\n",
       "  </thead>\n",
       "  <tbody>\n",
       "    <tr>\n",
       "      <th>0</th>\n",
       "      <td>Kareem</td>\n",
       "      <td>23</td>\n",
       "      <td>Rawalpindi</td>\n",
       "      <td>Medical</td>\n",
       "    </tr>\n",
       "    <tr>\n",
       "      <th>1</th>\n",
       "      <td>Shahid</td>\n",
       "      <td>24</td>\n",
       "      <td>Faisalabad</td>\n",
       "      <td>Commerce</td>\n",
       "    </tr>\n",
       "    <tr>\n",
       "      <th>2</th>\n",
       "      <td>Jameel</td>\n",
       "      <td>20</td>\n",
       "      <td>Thatta</td>\n",
       "      <td>Engineering</td>\n",
       "    </tr>\n",
       "  </tbody>\n",
       "</table>\n",
       "</div>"
      ],
      "text/plain": [
       "        0   1           2            3\n",
       "0  Kareem  23  Rawalpindi      Medical\n",
       "1  Shahid  24  Faisalabad     Commerce\n",
       "2  Jameel  20      Thatta  Engineering"
      ]
     },
     "execution_count": 74,
     "metadata": {},
     "output_type": "execute_result"
    }
   ],
   "source": [
    "pd.DataFrame(arr)"
   ]
  },
  {
   "cell_type": "markdown",
   "id": "92f96cbc",
   "metadata": {},
   "source": [
    "* for mentioning the columns"
   ]
  },
  {
   "cell_type": "code",
   "execution_count": 75,
   "id": "1441caae",
   "metadata": {},
   "outputs": [],
   "source": [
    "stds = pd.DataFrame(arr,columns=['Name','Age','City','Field'])"
   ]
  },
  {
   "cell_type": "code",
   "execution_count": 76,
   "id": "5a0a2a5a",
   "metadata": {},
   "outputs": [
    {
     "data": {
      "text/html": [
       "<div>\n",
       "<style scoped>\n",
       "    .dataframe tbody tr th:only-of-type {\n",
       "        vertical-align: middle;\n",
       "    }\n",
       "\n",
       "    .dataframe tbody tr th {\n",
       "        vertical-align: top;\n",
       "    }\n",
       "\n",
       "    .dataframe thead th {\n",
       "        text-align: right;\n",
       "    }\n",
       "</style>\n",
       "<table border=\"1\" class=\"dataframe\">\n",
       "  <thead>\n",
       "    <tr style=\"text-align: right;\">\n",
       "      <th></th>\n",
       "      <th>Name</th>\n",
       "      <th>Age</th>\n",
       "      <th>City</th>\n",
       "      <th>Field</th>\n",
       "    </tr>\n",
       "  </thead>\n",
       "  <tbody>\n",
       "    <tr>\n",
       "      <th>0</th>\n",
       "      <td>Kareem</td>\n",
       "      <td>23</td>\n",
       "      <td>Rawalpindi</td>\n",
       "      <td>Medical</td>\n",
       "    </tr>\n",
       "    <tr>\n",
       "      <th>1</th>\n",
       "      <td>Shahid</td>\n",
       "      <td>24</td>\n",
       "      <td>Faisalabad</td>\n",
       "      <td>Commerce</td>\n",
       "    </tr>\n",
       "    <tr>\n",
       "      <th>2</th>\n",
       "      <td>Jameel</td>\n",
       "      <td>20</td>\n",
       "      <td>Thatta</td>\n",
       "      <td>Engineering</td>\n",
       "    </tr>\n",
       "  </tbody>\n",
       "</table>\n",
       "</div>"
      ],
      "text/plain": [
       "     Name Age        City        Field\n",
       "0  Kareem  23  Rawalpindi      Medical\n",
       "1  Shahid  24  Faisalabad     Commerce\n",
       "2  Jameel  20      Thatta  Engineering"
      ]
     },
     "execution_count": 76,
     "metadata": {},
     "output_type": "execute_result"
    }
   ],
   "source": [
    "stds"
   ]
  },
  {
   "cell_type": "markdown",
   "id": "8f884df3",
   "metadata": {},
   "source": [
    "## Making Dataframe by List"
   ]
  },
  {
   "cell_type": "code",
   "execution_count": 77,
   "id": "2dda89fb",
   "metadata": {},
   "outputs": [],
   "source": [
    "list =[\n",
    "    ['Kareem', 23, 'Rawalpindi', 'Medical'],\n",
    "    ['Shahid', 24, 'Faisalabad', 'Commerce'],\n",
    "    ['Jameel', 20, 'Thatta', 'Engineering']\n",
    "]"
   ]
  },
  {
   "cell_type": "code",
   "execution_count": 78,
   "id": "958783b7",
   "metadata": {},
   "outputs": [],
   "source": [
    "stds = pd.DataFrame(list)"
   ]
  },
  {
   "cell_type": "code",
   "execution_count": 79,
   "id": "5e5c37ea",
   "metadata": {},
   "outputs": [
    {
     "data": {
      "text/html": [
       "<div>\n",
       "<style scoped>\n",
       "    .dataframe tbody tr th:only-of-type {\n",
       "        vertical-align: middle;\n",
       "    }\n",
       "\n",
       "    .dataframe tbody tr th {\n",
       "        vertical-align: top;\n",
       "    }\n",
       "\n",
       "    .dataframe thead th {\n",
       "        text-align: right;\n",
       "    }\n",
       "</style>\n",
       "<table border=\"1\" class=\"dataframe\">\n",
       "  <thead>\n",
       "    <tr style=\"text-align: right;\">\n",
       "      <th></th>\n",
       "      <th>0</th>\n",
       "      <th>1</th>\n",
       "      <th>2</th>\n",
       "      <th>3</th>\n",
       "    </tr>\n",
       "  </thead>\n",
       "  <tbody>\n",
       "    <tr>\n",
       "      <th>0</th>\n",
       "      <td>Kareem</td>\n",
       "      <td>23</td>\n",
       "      <td>Rawalpindi</td>\n",
       "      <td>Medical</td>\n",
       "    </tr>\n",
       "    <tr>\n",
       "      <th>1</th>\n",
       "      <td>Shahid</td>\n",
       "      <td>24</td>\n",
       "      <td>Faisalabad</td>\n",
       "      <td>Commerce</td>\n",
       "    </tr>\n",
       "    <tr>\n",
       "      <th>2</th>\n",
       "      <td>Jameel</td>\n",
       "      <td>20</td>\n",
       "      <td>Thatta</td>\n",
       "      <td>Engineering</td>\n",
       "    </tr>\n",
       "  </tbody>\n",
       "</table>\n",
       "</div>"
      ],
      "text/plain": [
       "        0   1           2            3\n",
       "0  Kareem  23  Rawalpindi      Medical\n",
       "1  Shahid  24  Faisalabad     Commerce\n",
       "2  Jameel  20      Thatta  Engineering"
      ]
     },
     "execution_count": 79,
     "metadata": {},
     "output_type": "execute_result"
    }
   ],
   "source": [
    "stds"
   ]
  },
  {
   "cell_type": "code",
   "execution_count": 80,
   "id": "8773037c",
   "metadata": {},
   "outputs": [],
   "source": [
    "stds = pd.DataFrame(list,columns=['Name','Age','City','Feculty'])"
   ]
  },
  {
   "cell_type": "code",
   "execution_count": 81,
   "id": "f486cc5e",
   "metadata": {},
   "outputs": [
    {
     "data": {
      "text/html": [
       "<div>\n",
       "<style scoped>\n",
       "    .dataframe tbody tr th:only-of-type {\n",
       "        vertical-align: middle;\n",
       "    }\n",
       "\n",
       "    .dataframe tbody tr th {\n",
       "        vertical-align: top;\n",
       "    }\n",
       "\n",
       "    .dataframe thead th {\n",
       "        text-align: right;\n",
       "    }\n",
       "</style>\n",
       "<table border=\"1\" class=\"dataframe\">\n",
       "  <thead>\n",
       "    <tr style=\"text-align: right;\">\n",
       "      <th></th>\n",
       "      <th>Name</th>\n",
       "      <th>Age</th>\n",
       "      <th>City</th>\n",
       "      <th>Feculty</th>\n",
       "    </tr>\n",
       "  </thead>\n",
       "  <tbody>\n",
       "    <tr>\n",
       "      <th>0</th>\n",
       "      <td>Kareem</td>\n",
       "      <td>23</td>\n",
       "      <td>Rawalpindi</td>\n",
       "      <td>Medical</td>\n",
       "    </tr>\n",
       "    <tr>\n",
       "      <th>1</th>\n",
       "      <td>Shahid</td>\n",
       "      <td>24</td>\n",
       "      <td>Faisalabad</td>\n",
       "      <td>Commerce</td>\n",
       "    </tr>\n",
       "    <tr>\n",
       "      <th>2</th>\n",
       "      <td>Jameel</td>\n",
       "      <td>20</td>\n",
       "      <td>Thatta</td>\n",
       "      <td>Engineering</td>\n",
       "    </tr>\n",
       "  </tbody>\n",
       "</table>\n",
       "</div>"
      ],
      "text/plain": [
       "     Name  Age        City      Feculty\n",
       "0  Kareem   23  Rawalpindi      Medical\n",
       "1  Shahid   24  Faisalabad     Commerce\n",
       "2  Jameel   20      Thatta  Engineering"
      ]
     },
     "execution_count": 81,
     "metadata": {},
     "output_type": "execute_result"
    }
   ],
   "source": [
    "stds"
   ]
  },
  {
   "cell_type": "markdown",
   "id": "7ac8617d",
   "metadata": {},
   "source": [
    "## Applying  Functions"
   ]
  },
  {
   "cell_type": "markdown",
   "id": "4f7065c7",
   "metadata": {},
   "source": [
    "#### Simple Functions"
   ]
  },
  {
   "cell_type": "code",
   "execution_count": 82,
   "id": "1e7d0bf2",
   "metadata": {},
   "outputs": [],
   "source": [
    "def calc_sum(x):\n",
    "    return x.sum()"
   ]
  },
  {
   "cell_type": "code",
   "execution_count": 83,
   "id": "1daffda7",
   "metadata": {},
   "outputs": [],
   "source": [
    "data = {\n",
    "  \"x\": [50, 40, 30],\n",
    "  \"y\": [300, 1112, 42]\n",
    "}"
   ]
  },
  {
   "cell_type": "code",
   "execution_count": 84,
   "id": "ea8b579d",
   "metadata": {},
   "outputs": [],
   "source": [
    "df = pd.DataFrame(data)"
   ]
  },
  {
   "cell_type": "code",
   "execution_count": 85,
   "id": "b608a27e",
   "metadata": {},
   "outputs": [],
   "source": [
    "x = df.apply(calc_sum)"
   ]
  },
  {
   "cell_type": "code",
   "execution_count": 86,
   "id": "9da7fe8e",
   "metadata": {},
   "outputs": [
    {
     "name": "stdout",
     "output_type": "stream",
     "text": [
      "x     120\n",
      "y    1454\n",
      "dtype: int64\n"
     ]
    }
   ],
   "source": [
    "print(x)"
   ]
  },
  {
   "cell_type": "markdown",
   "id": "9c4fc307",
   "metadata": {},
   "source": [
    "#### Complex Funtions"
   ]
  },
  {
   "cell_type": "code",
   "execution_count": 87,
   "id": "7809a156",
   "metadata": {},
   "outputs": [],
   "source": [
    "frame = pd.DataFrame({\n",
    "    'Name':['Rehbar','Nashrah','Bilal','Khadim'],\n",
    "    'Age':[40,45,30,35],\n",
    "    'CGPA':[3.5,4.0,3.9,4.1],\n",
    "    'City':['Karachi','Rawalpindi','Sialkot','Peshwar'],\n",
    "    'Semister':[2,3,3,4]\n",
    "})"
   ]
  },
  {
   "cell_type": "code",
   "execution_count": 88,
   "id": "d66c5dfe",
   "metadata": {},
   "outputs": [
    {
     "data": {
      "text/html": [
       "<div>\n",
       "<style scoped>\n",
       "    .dataframe tbody tr th:only-of-type {\n",
       "        vertical-align: middle;\n",
       "    }\n",
       "\n",
       "    .dataframe tbody tr th {\n",
       "        vertical-align: top;\n",
       "    }\n",
       "\n",
       "    .dataframe thead th {\n",
       "        text-align: right;\n",
       "    }\n",
       "</style>\n",
       "<table border=\"1\" class=\"dataframe\">\n",
       "  <thead>\n",
       "    <tr style=\"text-align: right;\">\n",
       "      <th></th>\n",
       "      <th>Name</th>\n",
       "      <th>Age</th>\n",
       "      <th>CGPA</th>\n",
       "      <th>City</th>\n",
       "      <th>Semister</th>\n",
       "    </tr>\n",
       "  </thead>\n",
       "  <tbody>\n",
       "    <tr>\n",
       "      <th>0</th>\n",
       "      <td>Rehbar</td>\n",
       "      <td>40</td>\n",
       "      <td>3.5</td>\n",
       "      <td>Karachi</td>\n",
       "      <td>2</td>\n",
       "    </tr>\n",
       "    <tr>\n",
       "      <th>1</th>\n",
       "      <td>Nashrah</td>\n",
       "      <td>45</td>\n",
       "      <td>4.0</td>\n",
       "      <td>Rawalpindi</td>\n",
       "      <td>3</td>\n",
       "    </tr>\n",
       "    <tr>\n",
       "      <th>2</th>\n",
       "      <td>Bilal</td>\n",
       "      <td>30</td>\n",
       "      <td>3.9</td>\n",
       "      <td>Sialkot</td>\n",
       "      <td>3</td>\n",
       "    </tr>\n",
       "    <tr>\n",
       "      <th>3</th>\n",
       "      <td>Khadim</td>\n",
       "      <td>35</td>\n",
       "      <td>4.1</td>\n",
       "      <td>Peshwar</td>\n",
       "      <td>4</td>\n",
       "    </tr>\n",
       "  </tbody>\n",
       "</table>\n",
       "</div>"
      ],
      "text/plain": [
       "      Name  Age  CGPA        City  Semister\n",
       "0   Rehbar   40   3.5     Karachi         2\n",
       "1  Nashrah   45   4.0  Rawalpindi         3\n",
       "2    Bilal   30   3.9     Sialkot         3\n",
       "3   Khadim   35   4.1     Peshwar         4"
      ]
     },
     "execution_count": 88,
     "metadata": {},
     "output_type": "execute_result"
    }
   ],
   "source": [
    "frame"
   ]
  },
  {
   "cell_type": "code",
   "execution_count": 89,
   "id": "496a97c3",
   "metadata": {},
   "outputs": [],
   "source": [
    "def old_young(age):\n",
    "    if(age > 35):\n",
    "        return 'Old'\n",
    "    else:\n",
    "        return 'Young'"
   ]
  },
  {
   "cell_type": "code",
   "execution_count": 90,
   "id": "d5f31e10",
   "metadata": {},
   "outputs": [],
   "source": [
    "frame['Status']=frame['Age'].apply(old_young)"
   ]
  },
  {
   "cell_type": "code",
   "execution_count": 91,
   "id": "d5c289b9",
   "metadata": {},
   "outputs": [
    {
     "data": {
      "text/html": [
       "<div>\n",
       "<style scoped>\n",
       "    .dataframe tbody tr th:only-of-type {\n",
       "        vertical-align: middle;\n",
       "    }\n",
       "\n",
       "    .dataframe tbody tr th {\n",
       "        vertical-align: top;\n",
       "    }\n",
       "\n",
       "    .dataframe thead th {\n",
       "        text-align: right;\n",
       "    }\n",
       "</style>\n",
       "<table border=\"1\" class=\"dataframe\">\n",
       "  <thead>\n",
       "    <tr style=\"text-align: right;\">\n",
       "      <th></th>\n",
       "      <th>Name</th>\n",
       "      <th>Age</th>\n",
       "      <th>CGPA</th>\n",
       "      <th>City</th>\n",
       "      <th>Semister</th>\n",
       "      <th>Status</th>\n",
       "    </tr>\n",
       "  </thead>\n",
       "  <tbody>\n",
       "    <tr>\n",
       "      <th>0</th>\n",
       "      <td>Rehbar</td>\n",
       "      <td>40</td>\n",
       "      <td>3.5</td>\n",
       "      <td>Karachi</td>\n",
       "      <td>2</td>\n",
       "      <td>Old</td>\n",
       "    </tr>\n",
       "    <tr>\n",
       "      <th>1</th>\n",
       "      <td>Nashrah</td>\n",
       "      <td>45</td>\n",
       "      <td>4.0</td>\n",
       "      <td>Rawalpindi</td>\n",
       "      <td>3</td>\n",
       "      <td>Old</td>\n",
       "    </tr>\n",
       "    <tr>\n",
       "      <th>2</th>\n",
       "      <td>Bilal</td>\n",
       "      <td>30</td>\n",
       "      <td>3.9</td>\n",
       "      <td>Sialkot</td>\n",
       "      <td>3</td>\n",
       "      <td>Young</td>\n",
       "    </tr>\n",
       "    <tr>\n",
       "      <th>3</th>\n",
       "      <td>Khadim</td>\n",
       "      <td>35</td>\n",
       "      <td>4.1</td>\n",
       "      <td>Peshwar</td>\n",
       "      <td>4</td>\n",
       "      <td>Young</td>\n",
       "    </tr>\n",
       "  </tbody>\n",
       "</table>\n",
       "</div>"
      ],
      "text/plain": [
       "      Name  Age  CGPA        City  Semister Status\n",
       "0   Rehbar   40   3.5     Karachi         2    Old\n",
       "1  Nashrah   45   4.0  Rawalpindi         3    Old\n",
       "2    Bilal   30   3.9     Sialkot         3  Young\n",
       "3   Khadim   35   4.1     Peshwar         4  Young"
      ]
     },
     "execution_count": 91,
     "metadata": {},
     "output_type": "execute_result"
    }
   ],
   "source": [
    "frame"
   ]
  },
  {
   "cell_type": "markdown",
   "id": "7b0f8186",
   "metadata": {},
   "source": [
    "#### Lambda Functions\n",
    "* They are one line functions\n",
    "* They don't have names"
   ]
  },
  {
   "cell_type": "code",
   "execution_count": 92,
   "id": "30a53533",
   "metadata": {},
   "outputs": [],
   "source": [
    "old_young = lambda age: \"Old\" if age>35 else \"Young\""
   ]
  },
  {
   "cell_type": "code",
   "execution_count": 93,
   "id": "46fafb37",
   "metadata": {},
   "outputs": [],
   "source": [
    "frame['Status']=frame['Age'].apply(old_young)"
   ]
  },
  {
   "cell_type": "code",
   "execution_count": 94,
   "id": "6a3ba840",
   "metadata": {},
   "outputs": [
    {
     "data": {
      "text/html": [
       "<div>\n",
       "<style scoped>\n",
       "    .dataframe tbody tr th:only-of-type {\n",
       "        vertical-align: middle;\n",
       "    }\n",
       "\n",
       "    .dataframe tbody tr th {\n",
       "        vertical-align: top;\n",
       "    }\n",
       "\n",
       "    .dataframe thead th {\n",
       "        text-align: right;\n",
       "    }\n",
       "</style>\n",
       "<table border=\"1\" class=\"dataframe\">\n",
       "  <thead>\n",
       "    <tr style=\"text-align: right;\">\n",
       "      <th></th>\n",
       "      <th>Name</th>\n",
       "      <th>Age</th>\n",
       "      <th>CGPA</th>\n",
       "      <th>City</th>\n",
       "      <th>Semister</th>\n",
       "      <th>Status</th>\n",
       "    </tr>\n",
       "  </thead>\n",
       "  <tbody>\n",
       "    <tr>\n",
       "      <th>0</th>\n",
       "      <td>Rehbar</td>\n",
       "      <td>40</td>\n",
       "      <td>3.5</td>\n",
       "      <td>Karachi</td>\n",
       "      <td>2</td>\n",
       "      <td>Old</td>\n",
       "    </tr>\n",
       "    <tr>\n",
       "      <th>1</th>\n",
       "      <td>Nashrah</td>\n",
       "      <td>45</td>\n",
       "      <td>4.0</td>\n",
       "      <td>Rawalpindi</td>\n",
       "      <td>3</td>\n",
       "      <td>Old</td>\n",
       "    </tr>\n",
       "    <tr>\n",
       "      <th>2</th>\n",
       "      <td>Bilal</td>\n",
       "      <td>30</td>\n",
       "      <td>3.9</td>\n",
       "      <td>Sialkot</td>\n",
       "      <td>3</td>\n",
       "      <td>Young</td>\n",
       "    </tr>\n",
       "    <tr>\n",
       "      <th>3</th>\n",
       "      <td>Khadim</td>\n",
       "      <td>35</td>\n",
       "      <td>4.1</td>\n",
       "      <td>Peshwar</td>\n",
       "      <td>4</td>\n",
       "      <td>Young</td>\n",
       "    </tr>\n",
       "  </tbody>\n",
       "</table>\n",
       "</div>"
      ],
      "text/plain": [
       "      Name  Age  CGPA        City  Semister Status\n",
       "0   Rehbar   40   3.5     Karachi         2    Old\n",
       "1  Nashrah   45   4.0  Rawalpindi         3    Old\n",
       "2    Bilal   30   3.9     Sialkot         3  Young\n",
       "3   Khadim   35   4.1     Peshwar         4  Young"
      ]
     },
     "execution_count": 94,
     "metadata": {},
     "output_type": "execute_result"
    }
   ],
   "source": [
    "frame"
   ]
  },
  {
   "cell_type": "markdown",
   "id": "977f0f5d",
   "metadata": {},
   "source": [
    "#### Lambda Functions in depth"
   ]
  },
  {
   "cell_type": "code",
   "execution_count": 95,
   "id": "13698a39",
   "metadata": {},
   "outputs": [
    {
     "data": {
      "text/html": [
       "<div>\n",
       "<style scoped>\n",
       "    .dataframe tbody tr th:only-of-type {\n",
       "        vertical-align: middle;\n",
       "    }\n",
       "\n",
       "    .dataframe tbody tr th {\n",
       "        vertical-align: top;\n",
       "    }\n",
       "\n",
       "    .dataframe thead th {\n",
       "        text-align: right;\n",
       "    }\n",
       "</style>\n",
       "<table border=\"1\" class=\"dataframe\">\n",
       "  <thead>\n",
       "    <tr style=\"text-align: right;\">\n",
       "      <th></th>\n",
       "      <th>Salary</th>\n",
       "      <th>Name</th>\n",
       "    </tr>\n",
       "  </thead>\n",
       "  <tbody>\n",
       "    <tr>\n",
       "      <th>0</th>\n",
       "      <td>2000</td>\n",
       "      <td>Rashid</td>\n",
       "    </tr>\n",
       "    <tr>\n",
       "      <th>1</th>\n",
       "      <td>3000</td>\n",
       "      <td>Rehan</td>\n",
       "    </tr>\n",
       "    <tr>\n",
       "      <th>2</th>\n",
       "      <td>2500</td>\n",
       "      <td>Karim</td>\n",
       "    </tr>\n",
       "    <tr>\n",
       "      <th>3</th>\n",
       "      <td>4000</td>\n",
       "      <td>Aahd</td>\n",
       "    </tr>\n",
       "  </tbody>\n",
       "</table>\n",
       "</div>"
      ],
      "text/plain": [
       "   Salary    Name\n",
       "0    2000  Rashid\n",
       "1    3000   Rehan\n",
       "2    2500   Karim\n",
       "3    4000    Aahd"
      ]
     },
     "execution_count": 95,
     "metadata": {},
     "output_type": "execute_result"
    }
   ],
   "source": [
    "employee = pd.DataFrame({\n",
    "    'Salary':[2000,3000,2500,4000],\n",
    "    'Name':['Rashid','Rehan','Karim','Aahd']\n",
    "})\n",
    "employee"
   ]
  },
  {
   "cell_type": "code",
   "execution_count": 96,
   "id": "8f1ad74a",
   "metadata": {},
   "outputs": [],
   "source": [
    "employee['Increment']=employee['Salary'].apply(lambda Salary: 50 if Salary<=2500 else 25)"
   ]
  },
  {
   "cell_type": "code",
   "execution_count": 97,
   "id": "d8c7b18c",
   "metadata": {},
   "outputs": [
    {
     "data": {
      "text/html": [
       "<div>\n",
       "<style scoped>\n",
       "    .dataframe tbody tr th:only-of-type {\n",
       "        vertical-align: middle;\n",
       "    }\n",
       "\n",
       "    .dataframe tbody tr th {\n",
       "        vertical-align: top;\n",
       "    }\n",
       "\n",
       "    .dataframe thead th {\n",
       "        text-align: right;\n",
       "    }\n",
       "</style>\n",
       "<table border=\"1\" class=\"dataframe\">\n",
       "  <thead>\n",
       "    <tr style=\"text-align: right;\">\n",
       "      <th></th>\n",
       "      <th>Salary</th>\n",
       "      <th>Name</th>\n",
       "      <th>Increment</th>\n",
       "    </tr>\n",
       "  </thead>\n",
       "  <tbody>\n",
       "    <tr>\n",
       "      <th>0</th>\n",
       "      <td>2000</td>\n",
       "      <td>Rashid</td>\n",
       "      <td>50</td>\n",
       "    </tr>\n",
       "    <tr>\n",
       "      <th>1</th>\n",
       "      <td>3000</td>\n",
       "      <td>Rehan</td>\n",
       "      <td>25</td>\n",
       "    </tr>\n",
       "    <tr>\n",
       "      <th>2</th>\n",
       "      <td>2500</td>\n",
       "      <td>Karim</td>\n",
       "      <td>50</td>\n",
       "    </tr>\n",
       "    <tr>\n",
       "      <th>3</th>\n",
       "      <td>4000</td>\n",
       "      <td>Aahd</td>\n",
       "      <td>25</td>\n",
       "    </tr>\n",
       "  </tbody>\n",
       "</table>\n",
       "</div>"
      ],
      "text/plain": [
       "   Salary    Name  Increment\n",
       "0    2000  Rashid         50\n",
       "1    3000   Rehan         25\n",
       "2    2500   Karim         50\n",
       "3    4000    Aahd         25"
      ]
     },
     "execution_count": 97,
     "metadata": {},
     "output_type": "execute_result"
    }
   ],
   "source": [
    "employee"
   ]
  },
  {
   "cell_type": "markdown",
   "id": "f1d88099",
   "metadata": {},
   "source": [
    "## Applying Numpy Functions"
   ]
  },
  {
   "cell_type": "markdown",
   "id": "f5ad64ac",
   "metadata": {},
   "source": [
    "Can apply almost all \"Numpy\" functions on \"Pandas\""
   ]
  },
  {
   "cell_type": "code",
   "execution_count": 98,
   "id": "c11fc380",
   "metadata": {},
   "outputs": [
    {
     "data": {
      "text/plain": [
       "0    50\n",
       "1    25\n",
       "2    50\n",
       "3    25\n",
       "Name: Increment, dtype: int64"
      ]
     },
     "execution_count": 98,
     "metadata": {},
     "output_type": "execute_result"
    }
   ],
   "source": [
    "np.abs(employee['Increment'])"
   ]
  },
  {
   "cell_type": "code",
   "execution_count": 99,
   "id": "7405e58f",
   "metadata": {
    "scrolled": true
   },
   "outputs": [
    {
     "data": {
      "text/plain": [
       "37.5"
      ]
     },
     "execution_count": 99,
     "metadata": {},
     "output_type": "execute_result"
    }
   ],
   "source": [
    "np.mean(employee['Increment'])"
   ]
  },
  {
   "cell_type": "code",
   "execution_count": 100,
   "id": "f715c41a",
   "metadata": {},
   "outputs": [
    {
     "data": {
      "text/plain": [
       "0    7.071068\n",
       "1    5.000000\n",
       "2    7.071068\n",
       "3    5.000000\n",
       "Name: Increment, dtype: float64"
      ]
     },
     "execution_count": 100,
     "metadata": {},
     "output_type": "execute_result"
    }
   ],
   "source": [
    "np.sqrt(employee['Increment'])"
   ]
  },
  {
   "cell_type": "markdown",
   "id": "dd39efd0",
   "metadata": {},
   "source": [
    "## Comman Pandas Functions"
   ]
  },
  {
   "cell_type": "code",
   "execution_count": 101,
   "id": "4bdbf4ab",
   "metadata": {},
   "outputs": [],
   "source": [
    "psl = pd.DataFrame({\n",
    "    'Teams':['Peshawar','Islamabad','Quetta','Karachi','Lahore','Multan'],\n",
    "    'Matches':[8,8,8,8,8,8],\n",
    "    'Win':[6,6,5,4,2,1],\n",
    "    'Loss':[2,2,3,4,6,7],\n",
    "    'NRR':[2.550,1.861,0.347,0.002,-0.012,-0.001],\n",
    "    'Points':[12,12,10,8,4,2]\n",
    "},index=[1,2,3,4,5,6])"
   ]
  },
  {
   "cell_type": "code",
   "execution_count": 102,
   "id": "5a865b26",
   "metadata": {
    "scrolled": false
   },
   "outputs": [
    {
     "data": {
      "text/html": [
       "<div>\n",
       "<style scoped>\n",
       "    .dataframe tbody tr th:only-of-type {\n",
       "        vertical-align: middle;\n",
       "    }\n",
       "\n",
       "    .dataframe tbody tr th {\n",
       "        vertical-align: top;\n",
       "    }\n",
       "\n",
       "    .dataframe thead th {\n",
       "        text-align: right;\n",
       "    }\n",
       "</style>\n",
       "<table border=\"1\" class=\"dataframe\">\n",
       "  <thead>\n",
       "    <tr style=\"text-align: right;\">\n",
       "      <th></th>\n",
       "      <th>Teams</th>\n",
       "      <th>Matches</th>\n",
       "      <th>Win</th>\n",
       "      <th>Loss</th>\n",
       "      <th>NRR</th>\n",
       "      <th>Points</th>\n",
       "    </tr>\n",
       "  </thead>\n",
       "  <tbody>\n",
       "    <tr>\n",
       "      <th>1</th>\n",
       "      <td>Peshawar</td>\n",
       "      <td>8</td>\n",
       "      <td>6</td>\n",
       "      <td>2</td>\n",
       "      <td>2.550</td>\n",
       "      <td>12</td>\n",
       "    </tr>\n",
       "    <tr>\n",
       "      <th>2</th>\n",
       "      <td>Islamabad</td>\n",
       "      <td>8</td>\n",
       "      <td>6</td>\n",
       "      <td>2</td>\n",
       "      <td>1.861</td>\n",
       "      <td>12</td>\n",
       "    </tr>\n",
       "    <tr>\n",
       "      <th>3</th>\n",
       "      <td>Quetta</td>\n",
       "      <td>8</td>\n",
       "      <td>5</td>\n",
       "      <td>3</td>\n",
       "      <td>0.347</td>\n",
       "      <td>10</td>\n",
       "    </tr>\n",
       "    <tr>\n",
       "      <th>4</th>\n",
       "      <td>Karachi</td>\n",
       "      <td>8</td>\n",
       "      <td>4</td>\n",
       "      <td>4</td>\n",
       "      <td>0.002</td>\n",
       "      <td>8</td>\n",
       "    </tr>\n",
       "    <tr>\n",
       "      <th>5</th>\n",
       "      <td>Lahore</td>\n",
       "      <td>8</td>\n",
       "      <td>2</td>\n",
       "      <td>6</td>\n",
       "      <td>-0.012</td>\n",
       "      <td>4</td>\n",
       "    </tr>\n",
       "    <tr>\n",
       "      <th>6</th>\n",
       "      <td>Multan</td>\n",
       "      <td>8</td>\n",
       "      <td>1</td>\n",
       "      <td>7</td>\n",
       "      <td>-0.001</td>\n",
       "      <td>2</td>\n",
       "    </tr>\n",
       "  </tbody>\n",
       "</table>\n",
       "</div>"
      ],
      "text/plain": [
       "       Teams  Matches  Win  Loss    NRR  Points\n",
       "1   Peshawar        8    6     2  2.550      12\n",
       "2  Islamabad        8    6     2  1.861      12\n",
       "3     Quetta        8    5     3  0.347      10\n",
       "4    Karachi        8    4     4  0.002       8\n",
       "5     Lahore        8    2     6 -0.012       4\n",
       "6     Multan        8    1     7 -0.001       2"
      ]
     },
     "execution_count": 102,
     "metadata": {},
     "output_type": "execute_result"
    }
   ],
   "source": [
    "psl"
   ]
  },
  {
   "cell_type": "markdown",
   "id": "9ba62e1d",
   "metadata": {},
   "source": [
    "#### For Displaying Starting lines\n",
    "\"head()\" is used to display the top five rows of a \"Dataframe\""
   ]
  },
  {
   "cell_type": "code",
   "execution_count": 103,
   "id": "91e62359",
   "metadata": {},
   "outputs": [
    {
     "data": {
      "text/html": [
       "<div>\n",
       "<style scoped>\n",
       "    .dataframe tbody tr th:only-of-type {\n",
       "        vertical-align: middle;\n",
       "    }\n",
       "\n",
       "    .dataframe tbody tr th {\n",
       "        vertical-align: top;\n",
       "    }\n",
       "\n",
       "    .dataframe thead th {\n",
       "        text-align: right;\n",
       "    }\n",
       "</style>\n",
       "<table border=\"1\" class=\"dataframe\">\n",
       "  <thead>\n",
       "    <tr style=\"text-align: right;\">\n",
       "      <th></th>\n",
       "      <th>Teams</th>\n",
       "      <th>Matches</th>\n",
       "      <th>Win</th>\n",
       "      <th>Loss</th>\n",
       "      <th>NRR</th>\n",
       "      <th>Points</th>\n",
       "    </tr>\n",
       "  </thead>\n",
       "  <tbody>\n",
       "    <tr>\n",
       "      <th>1</th>\n",
       "      <td>Peshawar</td>\n",
       "      <td>8</td>\n",
       "      <td>6</td>\n",
       "      <td>2</td>\n",
       "      <td>2.550</td>\n",
       "      <td>12</td>\n",
       "    </tr>\n",
       "    <tr>\n",
       "      <th>2</th>\n",
       "      <td>Islamabad</td>\n",
       "      <td>8</td>\n",
       "      <td>6</td>\n",
       "      <td>2</td>\n",
       "      <td>1.861</td>\n",
       "      <td>12</td>\n",
       "    </tr>\n",
       "    <tr>\n",
       "      <th>3</th>\n",
       "      <td>Quetta</td>\n",
       "      <td>8</td>\n",
       "      <td>5</td>\n",
       "      <td>3</td>\n",
       "      <td>0.347</td>\n",
       "      <td>10</td>\n",
       "    </tr>\n",
       "    <tr>\n",
       "      <th>4</th>\n",
       "      <td>Karachi</td>\n",
       "      <td>8</td>\n",
       "      <td>4</td>\n",
       "      <td>4</td>\n",
       "      <td>0.002</td>\n",
       "      <td>8</td>\n",
       "    </tr>\n",
       "    <tr>\n",
       "      <th>5</th>\n",
       "      <td>Lahore</td>\n",
       "      <td>8</td>\n",
       "      <td>2</td>\n",
       "      <td>6</td>\n",
       "      <td>-0.012</td>\n",
       "      <td>4</td>\n",
       "    </tr>\n",
       "  </tbody>\n",
       "</table>\n",
       "</div>"
      ],
      "text/plain": [
       "       Teams  Matches  Win  Loss    NRR  Points\n",
       "1   Peshawar        8    6     2  2.550      12\n",
       "2  Islamabad        8    6     2  1.861      12\n",
       "3     Quetta        8    5     3  0.347      10\n",
       "4    Karachi        8    4     4  0.002       8\n",
       "5     Lahore        8    2     6 -0.012       4"
      ]
     },
     "execution_count": 103,
     "metadata": {},
     "output_type": "execute_result"
    }
   ],
   "source": [
    "psl.head()"
   ]
  },
  {
   "cell_type": "markdown",
   "id": "ec92f546",
   "metadata": {},
   "source": [
    "* Can also specify the numbers of rows you want to display"
   ]
  },
  {
   "cell_type": "code",
   "execution_count": 104,
   "id": "fdf62eac",
   "metadata": {},
   "outputs": [
    {
     "data": {
      "text/html": [
       "<div>\n",
       "<style scoped>\n",
       "    .dataframe tbody tr th:only-of-type {\n",
       "        vertical-align: middle;\n",
       "    }\n",
       "\n",
       "    .dataframe tbody tr th {\n",
       "        vertical-align: top;\n",
       "    }\n",
       "\n",
       "    .dataframe thead th {\n",
       "        text-align: right;\n",
       "    }\n",
       "</style>\n",
       "<table border=\"1\" class=\"dataframe\">\n",
       "  <thead>\n",
       "    <tr style=\"text-align: right;\">\n",
       "      <th></th>\n",
       "      <th>Teams</th>\n",
       "      <th>Matches</th>\n",
       "      <th>Win</th>\n",
       "      <th>Loss</th>\n",
       "      <th>NRR</th>\n",
       "      <th>Points</th>\n",
       "    </tr>\n",
       "  </thead>\n",
       "  <tbody>\n",
       "    <tr>\n",
       "      <th>1</th>\n",
       "      <td>Peshawar</td>\n",
       "      <td>8</td>\n",
       "      <td>6</td>\n",
       "      <td>2</td>\n",
       "      <td>2.550</td>\n",
       "      <td>12</td>\n",
       "    </tr>\n",
       "    <tr>\n",
       "      <th>2</th>\n",
       "      <td>Islamabad</td>\n",
       "      <td>8</td>\n",
       "      <td>6</td>\n",
       "      <td>2</td>\n",
       "      <td>1.861</td>\n",
       "      <td>12</td>\n",
       "    </tr>\n",
       "  </tbody>\n",
       "</table>\n",
       "</div>"
      ],
      "text/plain": [
       "       Teams  Matches  Win  Loss    NRR  Points\n",
       "1   Peshawar        8    6     2  2.550      12\n",
       "2  Islamabad        8    6     2  1.861      12"
      ]
     },
     "execution_count": 104,
     "metadata": {},
     "output_type": "execute_result"
    }
   ],
   "source": [
    "psl.head(2)"
   ]
  },
  {
   "cell_type": "markdown",
   "id": "e2a58237",
   "metadata": {},
   "source": [
    "#### For displaying the end lines\n",
    "\"Tail()\" is used to display the end five rows of a \"Dataframe\""
   ]
  },
  {
   "cell_type": "code",
   "execution_count": 105,
   "id": "68d26c2b",
   "metadata": {},
   "outputs": [
    {
     "data": {
      "text/html": [
       "<div>\n",
       "<style scoped>\n",
       "    .dataframe tbody tr th:only-of-type {\n",
       "        vertical-align: middle;\n",
       "    }\n",
       "\n",
       "    .dataframe tbody tr th {\n",
       "        vertical-align: top;\n",
       "    }\n",
       "\n",
       "    .dataframe thead th {\n",
       "        text-align: right;\n",
       "    }\n",
       "</style>\n",
       "<table border=\"1\" class=\"dataframe\">\n",
       "  <thead>\n",
       "    <tr style=\"text-align: right;\">\n",
       "      <th></th>\n",
       "      <th>Teams</th>\n",
       "      <th>Matches</th>\n",
       "      <th>Win</th>\n",
       "      <th>Loss</th>\n",
       "      <th>NRR</th>\n",
       "      <th>Points</th>\n",
       "    </tr>\n",
       "  </thead>\n",
       "  <tbody>\n",
       "    <tr>\n",
       "      <th>2</th>\n",
       "      <td>Islamabad</td>\n",
       "      <td>8</td>\n",
       "      <td>6</td>\n",
       "      <td>2</td>\n",
       "      <td>1.861</td>\n",
       "      <td>12</td>\n",
       "    </tr>\n",
       "    <tr>\n",
       "      <th>3</th>\n",
       "      <td>Quetta</td>\n",
       "      <td>8</td>\n",
       "      <td>5</td>\n",
       "      <td>3</td>\n",
       "      <td>0.347</td>\n",
       "      <td>10</td>\n",
       "    </tr>\n",
       "    <tr>\n",
       "      <th>4</th>\n",
       "      <td>Karachi</td>\n",
       "      <td>8</td>\n",
       "      <td>4</td>\n",
       "      <td>4</td>\n",
       "      <td>0.002</td>\n",
       "      <td>8</td>\n",
       "    </tr>\n",
       "    <tr>\n",
       "      <th>5</th>\n",
       "      <td>Lahore</td>\n",
       "      <td>8</td>\n",
       "      <td>2</td>\n",
       "      <td>6</td>\n",
       "      <td>-0.012</td>\n",
       "      <td>4</td>\n",
       "    </tr>\n",
       "    <tr>\n",
       "      <th>6</th>\n",
       "      <td>Multan</td>\n",
       "      <td>8</td>\n",
       "      <td>1</td>\n",
       "      <td>7</td>\n",
       "      <td>-0.001</td>\n",
       "      <td>2</td>\n",
       "    </tr>\n",
       "  </tbody>\n",
       "</table>\n",
       "</div>"
      ],
      "text/plain": [
       "       Teams  Matches  Win  Loss    NRR  Points\n",
       "2  Islamabad        8    6     2  1.861      12\n",
       "3     Quetta        8    5     3  0.347      10\n",
       "4    Karachi        8    4     4  0.002       8\n",
       "5     Lahore        8    2     6 -0.012       4\n",
       "6     Multan        8    1     7 -0.001       2"
      ]
     },
     "execution_count": 105,
     "metadata": {},
     "output_type": "execute_result"
    }
   ],
   "source": [
    "psl.tail()"
   ]
  },
  {
   "cell_type": "markdown",
   "id": "ccf0244f",
   "metadata": {},
   "source": [
    "* Can also mention the numbers of rows you want to display"
   ]
  },
  {
   "cell_type": "code",
   "execution_count": 106,
   "id": "56278b3b",
   "metadata": {},
   "outputs": [
    {
     "data": {
      "text/html": [
       "<div>\n",
       "<style scoped>\n",
       "    .dataframe tbody tr th:only-of-type {\n",
       "        vertical-align: middle;\n",
       "    }\n",
       "\n",
       "    .dataframe tbody tr th {\n",
       "        vertical-align: top;\n",
       "    }\n",
       "\n",
       "    .dataframe thead th {\n",
       "        text-align: right;\n",
       "    }\n",
       "</style>\n",
       "<table border=\"1\" class=\"dataframe\">\n",
       "  <thead>\n",
       "    <tr style=\"text-align: right;\">\n",
       "      <th></th>\n",
       "      <th>Teams</th>\n",
       "      <th>Matches</th>\n",
       "      <th>Win</th>\n",
       "      <th>Loss</th>\n",
       "      <th>NRR</th>\n",
       "      <th>Points</th>\n",
       "    </tr>\n",
       "  </thead>\n",
       "  <tbody>\n",
       "    <tr>\n",
       "      <th>4</th>\n",
       "      <td>Karachi</td>\n",
       "      <td>8</td>\n",
       "      <td>4</td>\n",
       "      <td>4</td>\n",
       "      <td>0.002</td>\n",
       "      <td>8</td>\n",
       "    </tr>\n",
       "    <tr>\n",
       "      <th>5</th>\n",
       "      <td>Lahore</td>\n",
       "      <td>8</td>\n",
       "      <td>2</td>\n",
       "      <td>6</td>\n",
       "      <td>-0.012</td>\n",
       "      <td>4</td>\n",
       "    </tr>\n",
       "    <tr>\n",
       "      <th>6</th>\n",
       "      <td>Multan</td>\n",
       "      <td>8</td>\n",
       "      <td>1</td>\n",
       "      <td>7</td>\n",
       "      <td>-0.001</td>\n",
       "      <td>2</td>\n",
       "    </tr>\n",
       "  </tbody>\n",
       "</table>\n",
       "</div>"
      ],
      "text/plain": [
       "     Teams  Matches  Win  Loss    NRR  Points\n",
       "4  Karachi        8    4     4  0.002       8\n",
       "5   Lahore        8    2     6 -0.012       4\n",
       "6   Multan        8    1     7 -0.001       2"
      ]
     },
     "execution_count": 106,
     "metadata": {},
     "output_type": "execute_result"
    }
   ],
   "source": [
    "psl.tail(3)"
   ]
  },
  {
   "cell_type": "markdown",
   "id": "1e54a061",
   "metadata": {},
   "source": [
    "#### Converting data type\n",
    "The \"NRR\" value is in \"float\", we can convert it into other data type"
   ]
  },
  {
   "cell_type": "code",
   "execution_count": 107,
   "id": "b7dc7595",
   "metadata": {},
   "outputs": [
    {
     "data": {
      "text/plain": [
       "1    2.550\n",
       "2    1.861\n",
       "3    0.347\n",
       "4    0.002\n",
       "5   -0.012\n",
       "6   -0.001\n",
       "Name: NRR, dtype: float64"
      ]
     },
     "execution_count": 107,
     "metadata": {},
     "output_type": "execute_result"
    }
   ],
   "source": [
    "psl['NRR']"
   ]
  },
  {
   "cell_type": "code",
   "execution_count": 108,
   "id": "313118cf",
   "metadata": {},
   "outputs": [
    {
     "data": {
      "text/plain": [
       "1     2.55\n",
       "2    1.861\n",
       "3    0.347\n",
       "4    0.002\n",
       "5   -0.012\n",
       "6   -0.001\n",
       "Name: NRR, dtype: object"
      ]
     },
     "execution_count": 108,
     "metadata": {},
     "output_type": "execute_result"
    }
   ],
   "source": [
    "psl['NRR'].astype('object')"
   ]
  },
  {
   "cell_type": "code",
   "execution_count": 109,
   "id": "f79f3826",
   "metadata": {},
   "outputs": [
    {
     "data": {
      "text/plain": [
       "1    2\n",
       "2    1\n",
       "3    0\n",
       "4    0\n",
       "5    0\n",
       "6    0\n",
       "Name: NRR, dtype: int32"
      ]
     },
     "execution_count": 109,
     "metadata": {},
     "output_type": "execute_result"
    }
   ],
   "source": [
    "psl['NRR'].astype('int')"
   ]
  },
  {
   "cell_type": "markdown",
   "id": "90fb94f0",
   "metadata": {},
   "source": [
    "## Descriptive Statistics of a Dataframe"
   ]
  },
  {
   "cell_type": "code",
   "execution_count": 110,
   "id": "92e08514",
   "metadata": {},
   "outputs": [],
   "source": [
    "fr = pd.DataFrame({\n",
    "    'std_code1':[1867,8895,6153],\n",
    "    'std_code2':[7514,3546,8431]\n",
    "})"
   ]
  },
  {
   "cell_type": "code",
   "execution_count": 111,
   "id": "5548e2d2",
   "metadata": {},
   "outputs": [
    {
     "data": {
      "text/html": [
       "<div>\n",
       "<style scoped>\n",
       "    .dataframe tbody tr th:only-of-type {\n",
       "        vertical-align: middle;\n",
       "    }\n",
       "\n",
       "    .dataframe tbody tr th {\n",
       "        vertical-align: top;\n",
       "    }\n",
       "\n",
       "    .dataframe thead th {\n",
       "        text-align: right;\n",
       "    }\n",
       "</style>\n",
       "<table border=\"1\" class=\"dataframe\">\n",
       "  <thead>\n",
       "    <tr style=\"text-align: right;\">\n",
       "      <th></th>\n",
       "      <th>std_code1</th>\n",
       "      <th>std_code2</th>\n",
       "    </tr>\n",
       "  </thead>\n",
       "  <tbody>\n",
       "    <tr>\n",
       "      <th>0</th>\n",
       "      <td>1867</td>\n",
       "      <td>7514</td>\n",
       "    </tr>\n",
       "    <tr>\n",
       "      <th>1</th>\n",
       "      <td>8895</td>\n",
       "      <td>3546</td>\n",
       "    </tr>\n",
       "    <tr>\n",
       "      <th>2</th>\n",
       "      <td>6153</td>\n",
       "      <td>8431</td>\n",
       "    </tr>\n",
       "  </tbody>\n",
       "</table>\n",
       "</div>"
      ],
      "text/plain": [
       "   std_code1  std_code2\n",
       "0       1867       7514\n",
       "1       8895       3546\n",
       "2       6153       8431"
      ]
     },
     "execution_count": 111,
     "metadata": {},
     "output_type": "execute_result"
    }
   ],
   "source": [
    "fr"
   ]
  },
  {
   "cell_type": "markdown",
   "id": "f11f578c",
   "metadata": {},
   "source": [
    "#### \".describe()\" Function\n",
    "* It gives a varity of knowledge about the dataframe"
   ]
  },
  {
   "cell_type": "code",
   "execution_count": 112,
   "id": "a445c6bd",
   "metadata": {},
   "outputs": [
    {
     "data": {
      "text/html": [
       "<div>\n",
       "<style scoped>\n",
       "    .dataframe tbody tr th:only-of-type {\n",
       "        vertical-align: middle;\n",
       "    }\n",
       "\n",
       "    .dataframe tbody tr th {\n",
       "        vertical-align: top;\n",
       "    }\n",
       "\n",
       "    .dataframe thead th {\n",
       "        text-align: right;\n",
       "    }\n",
       "</style>\n",
       "<table border=\"1\" class=\"dataframe\">\n",
       "  <thead>\n",
       "    <tr style=\"text-align: right;\">\n",
       "      <th></th>\n",
       "      <th>Matches</th>\n",
       "      <th>Win</th>\n",
       "      <th>Loss</th>\n",
       "      <th>NRR</th>\n",
       "      <th>Points</th>\n",
       "    </tr>\n",
       "  </thead>\n",
       "  <tbody>\n",
       "    <tr>\n",
       "      <th>count</th>\n",
       "      <td>6.0</td>\n",
       "      <td>6.000000</td>\n",
       "      <td>6.000000</td>\n",
       "      <td>6.000000</td>\n",
       "      <td>6.000000</td>\n",
       "    </tr>\n",
       "    <tr>\n",
       "      <th>mean</th>\n",
       "      <td>8.0</td>\n",
       "      <td>4.000000</td>\n",
       "      <td>4.000000</td>\n",
       "      <td>0.791167</td>\n",
       "      <td>8.000000</td>\n",
       "    </tr>\n",
       "    <tr>\n",
       "      <th>std</th>\n",
       "      <td>0.0</td>\n",
       "      <td>2.097618</td>\n",
       "      <td>2.097618</td>\n",
       "      <td>1.125230</td>\n",
       "      <td>4.195235</td>\n",
       "    </tr>\n",
       "    <tr>\n",
       "      <th>min</th>\n",
       "      <td>8.0</td>\n",
       "      <td>1.000000</td>\n",
       "      <td>2.000000</td>\n",
       "      <td>-0.012000</td>\n",
       "      <td>2.000000</td>\n",
       "    </tr>\n",
       "    <tr>\n",
       "      <th>25%</th>\n",
       "      <td>8.0</td>\n",
       "      <td>2.500000</td>\n",
       "      <td>2.250000</td>\n",
       "      <td>-0.000250</td>\n",
       "      <td>5.000000</td>\n",
       "    </tr>\n",
       "    <tr>\n",
       "      <th>50%</th>\n",
       "      <td>8.0</td>\n",
       "      <td>4.500000</td>\n",
       "      <td>3.500000</td>\n",
       "      <td>0.174500</td>\n",
       "      <td>9.000000</td>\n",
       "    </tr>\n",
       "    <tr>\n",
       "      <th>75%</th>\n",
       "      <td>8.0</td>\n",
       "      <td>5.750000</td>\n",
       "      <td>5.500000</td>\n",
       "      <td>1.482500</td>\n",
       "      <td>11.500000</td>\n",
       "    </tr>\n",
       "    <tr>\n",
       "      <th>max</th>\n",
       "      <td>8.0</td>\n",
       "      <td>6.000000</td>\n",
       "      <td>7.000000</td>\n",
       "      <td>2.550000</td>\n",
       "      <td>12.000000</td>\n",
       "    </tr>\n",
       "  </tbody>\n",
       "</table>\n",
       "</div>"
      ],
      "text/plain": [
       "       Matches       Win      Loss       NRR     Points\n",
       "count      6.0  6.000000  6.000000  6.000000   6.000000\n",
       "mean       8.0  4.000000  4.000000  0.791167   8.000000\n",
       "std        0.0  2.097618  2.097618  1.125230   4.195235\n",
       "min        8.0  1.000000  2.000000 -0.012000   2.000000\n",
       "25%        8.0  2.500000  2.250000 -0.000250   5.000000\n",
       "50%        8.0  4.500000  3.500000  0.174500   9.000000\n",
       "75%        8.0  5.750000  5.500000  1.482500  11.500000\n",
       "max        8.0  6.000000  7.000000  2.550000  12.000000"
      ]
     },
     "execution_count": 112,
     "metadata": {},
     "output_type": "execute_result"
    }
   ],
   "source": [
    "psl.describe()"
   ]
  },
  {
   "cell_type": "markdown",
   "id": "7bbac0fb",
   "metadata": {},
   "source": [
    "#### \".sum()\" Function"
   ]
  },
  {
   "cell_type": "code",
   "execution_count": 113,
   "id": "c544da3b",
   "metadata": {},
   "outputs": [
    {
     "data": {
      "text/plain": [
       "std_code1    16915\n",
       "std_code2    19491\n",
       "dtype: int64"
      ]
     },
     "execution_count": 113,
     "metadata": {},
     "output_type": "execute_result"
    }
   ],
   "source": [
    "fr.sum()"
   ]
  },
  {
   "cell_type": "markdown",
   "id": "f07c2b19",
   "metadata": {},
   "source": [
    "#### \".cumsum()\" Function"
   ]
  },
  {
   "cell_type": "markdown",
   "id": "d56d26f5",
   "metadata": {},
   "source": [
    "* Cumlative sum of values"
   ]
  },
  {
   "cell_type": "code",
   "execution_count": 114,
   "id": "c0653a41",
   "metadata": {},
   "outputs": [
    {
     "data": {
      "text/html": [
       "<div>\n",
       "<style scoped>\n",
       "    .dataframe tbody tr th:only-of-type {\n",
       "        vertical-align: middle;\n",
       "    }\n",
       "\n",
       "    .dataframe tbody tr th {\n",
       "        vertical-align: top;\n",
       "    }\n",
       "\n",
       "    .dataframe thead th {\n",
       "        text-align: right;\n",
       "    }\n",
       "</style>\n",
       "<table border=\"1\" class=\"dataframe\">\n",
       "  <thead>\n",
       "    <tr style=\"text-align: right;\">\n",
       "      <th></th>\n",
       "      <th>std_code1</th>\n",
       "      <th>std_code2</th>\n",
       "    </tr>\n",
       "  </thead>\n",
       "  <tbody>\n",
       "    <tr>\n",
       "      <th>0</th>\n",
       "      <td>1867</td>\n",
       "      <td>7514</td>\n",
       "    </tr>\n",
       "    <tr>\n",
       "      <th>1</th>\n",
       "      <td>10762</td>\n",
       "      <td>11060</td>\n",
       "    </tr>\n",
       "    <tr>\n",
       "      <th>2</th>\n",
       "      <td>16915</td>\n",
       "      <td>19491</td>\n",
       "    </tr>\n",
       "  </tbody>\n",
       "</table>\n",
       "</div>"
      ],
      "text/plain": [
       "   std_code1  std_code2\n",
       "0       1867       7514\n",
       "1      10762      11060\n",
       "2      16915      19491"
      ]
     },
     "execution_count": 114,
     "metadata": {},
     "output_type": "execute_result"
    }
   ],
   "source": [
    "fr.cumsum()"
   ]
  },
  {
   "cell_type": "markdown",
   "id": "eb0bebb7",
   "metadata": {},
   "source": [
    "#### \".count()\" Function\n",
    "* Number of non-NA values"
   ]
  },
  {
   "cell_type": "code",
   "execution_count": 115,
   "id": "bf28538f",
   "metadata": {},
   "outputs": [
    {
     "data": {
      "text/plain": [
       "std_code1    3\n",
       "std_code2    3\n",
       "dtype: int64"
      ]
     },
     "execution_count": 115,
     "metadata": {},
     "output_type": "execute_result"
    }
   ],
   "source": [
    "fr.count()"
   ]
  },
  {
   "cell_type": "markdown",
   "id": "cbb02da9",
   "metadata": {},
   "source": [
    "#### \".min()/.max()\" Function\n",
    "* Compute minimum and maximum values"
   ]
  },
  {
   "cell_type": "code",
   "execution_count": 116,
   "id": "e95e9c45",
   "metadata": {},
   "outputs": [
    {
     "data": {
      "text/plain": [
       "std_code1    1867\n",
       "std_code2    3546\n",
       "dtype: int64"
      ]
     },
     "execution_count": 116,
     "metadata": {},
     "output_type": "execute_result"
    }
   ],
   "source": [
    "fr.min()"
   ]
  },
  {
   "cell_type": "code",
   "execution_count": 117,
   "id": "df772aba",
   "metadata": {},
   "outputs": [
    {
     "data": {
      "text/plain": [
       "std_code1    8895\n",
       "std_code2    8431\n",
       "dtype: int64"
      ]
     },
     "execution_count": 117,
     "metadata": {},
     "output_type": "execute_result"
    }
   ],
   "source": [
    "fr.max()"
   ]
  },
  {
   "cell_type": "markdown",
   "id": "df701f4a",
   "metadata": {},
   "source": [
    "#### \".argmin()/.argmax()\" Function\n",
    "* Compute index locations (intigers) in which minimum or maximum value obtained, respectively"
   ]
  },
  {
   "cell_type": "code",
   "execution_count": 118,
   "id": "bfe30608",
   "metadata": {},
   "outputs": [
    {
     "data": {
      "text/plain": [
       "0"
      ]
     },
     "execution_count": 118,
     "metadata": {},
     "output_type": "execute_result"
    }
   ],
   "source": [
    "np.argmin(fr)"
   ]
  },
  {
   "cell_type": "code",
   "execution_count": 119,
   "id": "ba1e53d7",
   "metadata": {},
   "outputs": [
    {
     "data": {
      "text/plain": [
       "2"
      ]
     },
     "execution_count": 119,
     "metadata": {},
     "output_type": "execute_result"
    }
   ],
   "source": [
    "np.argmax(fr)"
   ]
  },
  {
   "cell_type": "markdown",
   "id": "a5995435",
   "metadata": {},
   "source": [
    "#### \".quantile()\" Function\n",
    "* Compute sample quantile from 0 to 1"
   ]
  },
  {
   "cell_type": "code",
   "execution_count": 120,
   "id": "3a55fc1a",
   "metadata": {},
   "outputs": [
    {
     "data": {
      "text/plain": [
       "std_code1    6153.0\n",
       "std_code2    7514.0\n",
       "Name: 0.5, dtype: float64"
      ]
     },
     "execution_count": 120,
     "metadata": {},
     "output_type": "execute_result"
    }
   ],
   "source": [
    "fr.quantile()"
   ]
  },
  {
   "cell_type": "markdown",
   "id": "9bdf13c5",
   "metadata": {},
   "source": [
    "#### \".mean()\" Function"
   ]
  },
  {
   "cell_type": "code",
   "execution_count": 121,
   "id": "ae7d654d",
   "metadata": {},
   "outputs": [
    {
     "data": {
      "text/plain": [
       "std_code1    5638.333333\n",
       "std_code2    6497.000000\n",
       "dtype: float64"
      ]
     },
     "execution_count": 121,
     "metadata": {},
     "output_type": "execute_result"
    }
   ],
   "source": [
    "fr.mean()"
   ]
  },
  {
   "cell_type": "markdown",
   "id": "fd89bc19",
   "metadata": {},
   "source": [
    "\".median()\" Function\n",
    "* Airthmetic median (50% quantile) of values"
   ]
  },
  {
   "cell_type": "code",
   "execution_count": 122,
   "id": "665eae6b",
   "metadata": {},
   "outputs": [
    {
     "data": {
      "text/plain": [
       "std_code1    6153.0\n",
       "std_code2    7514.0\n",
       "dtype: float64"
      ]
     },
     "execution_count": 122,
     "metadata": {},
     "output_type": "execute_result"
    }
   ],
   "source": [
    "fr.median()"
   ]
  },
  {
   "cell_type": "markdown",
   "id": "7bad2f21",
   "metadata": {},
   "source": [
    "#### \".mad()\" Function\n",
    "* Mean absolute deviation from mean value"
   ]
  },
  {
   "cell_type": "code",
   "execution_count": 123,
   "id": "e966c1f9",
   "metadata": {},
   "outputs": [
    {
     "data": {
      "text/plain": [
       "std_code1    2514.222222\n",
       "std_code2    1967.333333\n",
       "dtype: float64"
      ]
     },
     "execution_count": 123,
     "metadata": {},
     "output_type": "execute_result"
    }
   ],
   "source": [
    "fr.mad()"
   ]
  },
  {
   "cell_type": "markdown",
   "id": "78c18642",
   "metadata": {},
   "source": [
    "#### \".prod()\" Function\n",
    "* Product of values"
   ]
  },
  {
   "cell_type": "code",
   "execution_count": 124,
   "id": "bbc6a0ec",
   "metadata": {},
   "outputs": [
    {
     "data": {
      "text/plain": [
       "std_code1    102182655645\n",
       "std_code2    224640993564\n",
       "dtype: int64"
      ]
     },
     "execution_count": 124,
     "metadata": {},
     "output_type": "execute_result"
    }
   ],
   "source": [
    "fr.prod()"
   ]
  },
  {
   "cell_type": "markdown",
   "id": "3fa9df56",
   "metadata": {},
   "source": [
    "#### \".var()\" Function\n",
    "* Sample variance of values"
   ]
  },
  {
   "cell_type": "code",
   "execution_count": 125,
   "id": "c250463c",
   "metadata": {},
   "outputs": [
    {
     "data": {
      "text/plain": [
       "std_code1    1.254686e+07\n",
       "std_code2    6.741523e+06\n",
       "dtype: float64"
      ]
     },
     "execution_count": 125,
     "metadata": {},
     "output_type": "execute_result"
    }
   ],
   "source": [
    "fr.var()"
   ]
  },
  {
   "cell_type": "markdown",
   "id": "b66b0cbb",
   "metadata": {},
   "source": [
    "#### \".std()\" Function\n",
    "* Sample standard deviation of values"
   ]
  },
  {
   "cell_type": "code",
   "execution_count": 126,
   "id": "304d8b58",
   "metadata": {},
   "outputs": [
    {
     "data": {
      "text/plain": [
       "std_code1    3542.154335\n",
       "std_code2    2596.444299\n",
       "dtype: float64"
      ]
     },
     "execution_count": 126,
     "metadata": {},
     "output_type": "execute_result"
    }
   ],
   "source": [
    "fr.std()"
   ]
  },
  {
   "cell_type": "markdown",
   "id": "9fed817a",
   "metadata": {},
   "source": [
    "#### \".skew()\" Function\n",
    "* Sample skewness (third moment) of value"
   ]
  },
  {
   "cell_type": "code",
   "execution_count": 127,
   "id": "5324d956",
   "metadata": {},
   "outputs": [
    {
     "data": {
      "text/plain": [
       "std_code1   -0.640036\n",
       "std_code2   -1.492183\n",
       "dtype: float64"
      ]
     },
     "execution_count": 127,
     "metadata": {},
     "output_type": "execute_result"
    }
   ],
   "source": [
    "fr.skew()"
   ]
  },
  {
   "cell_type": "markdown",
   "id": "8409c923",
   "metadata": {},
   "source": [
    "#### \".kurt()\" Function\n",
    "* Sample kurtosis (fourth moment) of values"
   ]
  },
  {
   "cell_type": "code",
   "execution_count": 128,
   "id": "cb9c271e",
   "metadata": {},
   "outputs": [
    {
     "data": {
      "text/plain": [
       "std_code1   NaN\n",
       "std_code2   NaN\n",
       "dtype: float64"
      ]
     },
     "execution_count": 128,
     "metadata": {},
     "output_type": "execute_result"
    }
   ],
   "source": [
    "fr.kurt()"
   ]
  },
  {
   "cell_type": "markdown",
   "id": "48e8fc1a",
   "metadata": {},
   "source": [
    "#### \".cummin()/.cummax()\" Function\n",
    "* Cummulative minimum or maximum of values, respectively"
   ]
  },
  {
   "cell_type": "code",
   "execution_count": 129,
   "id": "be631b48",
   "metadata": {},
   "outputs": [
    {
     "data": {
      "text/html": [
       "<div>\n",
       "<style scoped>\n",
       "    .dataframe tbody tr th:only-of-type {\n",
       "        vertical-align: middle;\n",
       "    }\n",
       "\n",
       "    .dataframe tbody tr th {\n",
       "        vertical-align: top;\n",
       "    }\n",
       "\n",
       "    .dataframe thead th {\n",
       "        text-align: right;\n",
       "    }\n",
       "</style>\n",
       "<table border=\"1\" class=\"dataframe\">\n",
       "  <thead>\n",
       "    <tr style=\"text-align: right;\">\n",
       "      <th></th>\n",
       "      <th>std_code1</th>\n",
       "      <th>std_code2</th>\n",
       "    </tr>\n",
       "  </thead>\n",
       "  <tbody>\n",
       "    <tr>\n",
       "      <th>0</th>\n",
       "      <td>1867</td>\n",
       "      <td>7514</td>\n",
       "    </tr>\n",
       "    <tr>\n",
       "      <th>1</th>\n",
       "      <td>1867</td>\n",
       "      <td>3546</td>\n",
       "    </tr>\n",
       "    <tr>\n",
       "      <th>2</th>\n",
       "      <td>1867</td>\n",
       "      <td>3546</td>\n",
       "    </tr>\n",
       "  </tbody>\n",
       "</table>\n",
       "</div>"
      ],
      "text/plain": [
       "   std_code1  std_code2\n",
       "0       1867       7514\n",
       "1       1867       3546\n",
       "2       1867       3546"
      ]
     },
     "execution_count": 129,
     "metadata": {},
     "output_type": "execute_result"
    }
   ],
   "source": [
    "fr.cummin()"
   ]
  },
  {
   "cell_type": "code",
   "execution_count": 130,
   "id": "38dbf3e0",
   "metadata": {},
   "outputs": [
    {
     "data": {
      "text/html": [
       "<div>\n",
       "<style scoped>\n",
       "    .dataframe tbody tr th:only-of-type {\n",
       "        vertical-align: middle;\n",
       "    }\n",
       "\n",
       "    .dataframe tbody tr th {\n",
       "        vertical-align: top;\n",
       "    }\n",
       "\n",
       "    .dataframe thead th {\n",
       "        text-align: right;\n",
       "    }\n",
       "</style>\n",
       "<table border=\"1\" class=\"dataframe\">\n",
       "  <thead>\n",
       "    <tr style=\"text-align: right;\">\n",
       "      <th></th>\n",
       "      <th>std_code1</th>\n",
       "      <th>std_code2</th>\n",
       "    </tr>\n",
       "  </thead>\n",
       "  <tbody>\n",
       "    <tr>\n",
       "      <th>0</th>\n",
       "      <td>1867</td>\n",
       "      <td>7514</td>\n",
       "    </tr>\n",
       "    <tr>\n",
       "      <th>1</th>\n",
       "      <td>8895</td>\n",
       "      <td>7514</td>\n",
       "    </tr>\n",
       "    <tr>\n",
       "      <th>2</th>\n",
       "      <td>8895</td>\n",
       "      <td>8431</td>\n",
       "    </tr>\n",
       "  </tbody>\n",
       "</table>\n",
       "</div>"
      ],
      "text/plain": [
       "   std_code1  std_code2\n",
       "0       1867       7514\n",
       "1       8895       7514\n",
       "2       8895       8431"
      ]
     },
     "execution_count": 130,
     "metadata": {},
     "output_type": "execute_result"
    }
   ],
   "source": [
    "fr.cummax()"
   ]
  },
  {
   "cell_type": "markdown",
   "id": "3ef1d022",
   "metadata": {},
   "source": [
    "#### \".cumprod()\" Function\n",
    "* Cummulative product o values"
   ]
  },
  {
   "cell_type": "code",
   "execution_count": 131,
   "id": "3ba9b146",
   "metadata": {},
   "outputs": [
    {
     "data": {
      "text/html": [
       "<div>\n",
       "<style scoped>\n",
       "    .dataframe tbody tr th:only-of-type {\n",
       "        vertical-align: middle;\n",
       "    }\n",
       "\n",
       "    .dataframe tbody tr th {\n",
       "        vertical-align: top;\n",
       "    }\n",
       "\n",
       "    .dataframe thead th {\n",
       "        text-align: right;\n",
       "    }\n",
       "</style>\n",
       "<table border=\"1\" class=\"dataframe\">\n",
       "  <thead>\n",
       "    <tr style=\"text-align: right;\">\n",
       "      <th></th>\n",
       "      <th>std_code1</th>\n",
       "      <th>std_code2</th>\n",
       "    </tr>\n",
       "  </thead>\n",
       "  <tbody>\n",
       "    <tr>\n",
       "      <th>0</th>\n",
       "      <td>1867</td>\n",
       "      <td>7514</td>\n",
       "    </tr>\n",
       "    <tr>\n",
       "      <th>1</th>\n",
       "      <td>16606965</td>\n",
       "      <td>26644644</td>\n",
       "    </tr>\n",
       "    <tr>\n",
       "      <th>2</th>\n",
       "      <td>102182655645</td>\n",
       "      <td>224640993564</td>\n",
       "    </tr>\n",
       "  </tbody>\n",
       "</table>\n",
       "</div>"
      ],
      "text/plain": [
       "      std_code1     std_code2\n",
       "0          1867          7514\n",
       "1      16606965      26644644\n",
       "2  102182655645  224640993564"
      ]
     },
     "execution_count": 131,
     "metadata": {},
     "output_type": "execute_result"
    }
   ],
   "source": [
    "fr.cumprod()"
   ]
  },
  {
   "cell_type": "markdown",
   "id": "e29d32fc",
   "metadata": {},
   "source": [
    "#### \".diff()\" Function\n",
    "* Compute first arithmetic difference (useful for time series)"
   ]
  },
  {
   "cell_type": "code",
   "execution_count": 132,
   "id": "45ba0433",
   "metadata": {},
   "outputs": [
    {
     "data": {
      "text/html": [
       "<div>\n",
       "<style scoped>\n",
       "    .dataframe tbody tr th:only-of-type {\n",
       "        vertical-align: middle;\n",
       "    }\n",
       "\n",
       "    .dataframe tbody tr th {\n",
       "        vertical-align: top;\n",
       "    }\n",
       "\n",
       "    .dataframe thead th {\n",
       "        text-align: right;\n",
       "    }\n",
       "</style>\n",
       "<table border=\"1\" class=\"dataframe\">\n",
       "  <thead>\n",
       "    <tr style=\"text-align: right;\">\n",
       "      <th></th>\n",
       "      <th>std_code1</th>\n",
       "      <th>std_code2</th>\n",
       "    </tr>\n",
       "  </thead>\n",
       "  <tbody>\n",
       "    <tr>\n",
       "      <th>0</th>\n",
       "      <td>NaN</td>\n",
       "      <td>NaN</td>\n",
       "    </tr>\n",
       "    <tr>\n",
       "      <th>1</th>\n",
       "      <td>7028.0</td>\n",
       "      <td>-3968.0</td>\n",
       "    </tr>\n",
       "    <tr>\n",
       "      <th>2</th>\n",
       "      <td>-2742.0</td>\n",
       "      <td>4885.0</td>\n",
       "    </tr>\n",
       "  </tbody>\n",
       "</table>\n",
       "</div>"
      ],
      "text/plain": [
       "   std_code1  std_code2\n",
       "0        NaN        NaN\n",
       "1     7028.0    -3968.0\n",
       "2    -2742.0     4885.0"
      ]
     },
     "execution_count": 132,
     "metadata": {},
     "output_type": "execute_result"
    }
   ],
   "source": [
    "fr.diff()"
   ]
  },
  {
   "cell_type": "markdown",
   "id": "9b8f74c4",
   "metadata": {},
   "source": [
    "#### \".pct_change()\" Function\n",
    "* Compute percentage changes"
   ]
  },
  {
   "cell_type": "code",
   "execution_count": 133,
   "id": "25b066a7",
   "metadata": {},
   "outputs": [
    {
     "data": {
      "text/html": [
       "<div>\n",
       "<style scoped>\n",
       "    .dataframe tbody tr th:only-of-type {\n",
       "        vertical-align: middle;\n",
       "    }\n",
       "\n",
       "    .dataframe tbody tr th {\n",
       "        vertical-align: top;\n",
       "    }\n",
       "\n",
       "    .dataframe thead th {\n",
       "        text-align: right;\n",
       "    }\n",
       "</style>\n",
       "<table border=\"1\" class=\"dataframe\">\n",
       "  <thead>\n",
       "    <tr style=\"text-align: right;\">\n",
       "      <th></th>\n",
       "      <th>std_code1</th>\n",
       "      <th>std_code2</th>\n",
       "    </tr>\n",
       "  </thead>\n",
       "  <tbody>\n",
       "    <tr>\n",
       "      <th>0</th>\n",
       "      <td>NaN</td>\n",
       "      <td>NaN</td>\n",
       "    </tr>\n",
       "    <tr>\n",
       "      <th>1</th>\n",
       "      <td>3.764328</td>\n",
       "      <td>-0.528081</td>\n",
       "    </tr>\n",
       "    <tr>\n",
       "      <th>2</th>\n",
       "      <td>-0.308263</td>\n",
       "      <td>1.377609</td>\n",
       "    </tr>\n",
       "  </tbody>\n",
       "</table>\n",
       "</div>"
      ],
      "text/plain": [
       "   std_code1  std_code2\n",
       "0        NaN        NaN\n",
       "1   3.764328  -0.528081\n",
       "2  -0.308263   1.377609"
      ]
     },
     "execution_count": 133,
     "metadata": {},
     "output_type": "execute_result"
    }
   ],
   "source": [
    "fr.pct_change()"
   ]
  },
  {
   "cell_type": "markdown",
   "id": "4bce0894",
   "metadata": {},
   "source": [
    "## Saving \"DataFrame\" Into \"CSV\" File"
   ]
  },
  {
   "cell_type": "code",
   "execution_count": 134,
   "id": "a3f10c4c",
   "metadata": {},
   "outputs": [
    {
     "data": {
      "text/html": [
       "<div>\n",
       "<style scoped>\n",
       "    .dataframe tbody tr th:only-of-type {\n",
       "        vertical-align: middle;\n",
       "    }\n",
       "\n",
       "    .dataframe tbody tr th {\n",
       "        vertical-align: top;\n",
       "    }\n",
       "\n",
       "    .dataframe thead th {\n",
       "        text-align: right;\n",
       "    }\n",
       "</style>\n",
       "<table border=\"1\" class=\"dataframe\">\n",
       "  <thead>\n",
       "    <tr style=\"text-align: right;\">\n",
       "      <th></th>\n",
       "      <th>Teams</th>\n",
       "      <th>Matches</th>\n",
       "      <th>Win</th>\n",
       "      <th>Loss</th>\n",
       "      <th>NRR</th>\n",
       "      <th>Points</th>\n",
       "    </tr>\n",
       "  </thead>\n",
       "  <tbody>\n",
       "    <tr>\n",
       "      <th>1</th>\n",
       "      <td>Peshawar</td>\n",
       "      <td>8</td>\n",
       "      <td>6</td>\n",
       "      <td>2</td>\n",
       "      <td>2.550</td>\n",
       "      <td>12</td>\n",
       "    </tr>\n",
       "    <tr>\n",
       "      <th>2</th>\n",
       "      <td>Islamabad</td>\n",
       "      <td>8</td>\n",
       "      <td>6</td>\n",
       "      <td>2</td>\n",
       "      <td>1.861</td>\n",
       "      <td>12</td>\n",
       "    </tr>\n",
       "    <tr>\n",
       "      <th>3</th>\n",
       "      <td>Quetta</td>\n",
       "      <td>8</td>\n",
       "      <td>5</td>\n",
       "      <td>3</td>\n",
       "      <td>0.347</td>\n",
       "      <td>10</td>\n",
       "    </tr>\n",
       "    <tr>\n",
       "      <th>4</th>\n",
       "      <td>Karachi</td>\n",
       "      <td>8</td>\n",
       "      <td>4</td>\n",
       "      <td>4</td>\n",
       "      <td>0.002</td>\n",
       "      <td>8</td>\n",
       "    </tr>\n",
       "    <tr>\n",
       "      <th>5</th>\n",
       "      <td>Lahore</td>\n",
       "      <td>8</td>\n",
       "      <td>2</td>\n",
       "      <td>6</td>\n",
       "      <td>-0.012</td>\n",
       "      <td>4</td>\n",
       "    </tr>\n",
       "    <tr>\n",
       "      <th>6</th>\n",
       "      <td>Multan</td>\n",
       "      <td>8</td>\n",
       "      <td>1</td>\n",
       "      <td>7</td>\n",
       "      <td>-0.001</td>\n",
       "      <td>2</td>\n",
       "    </tr>\n",
       "  </tbody>\n",
       "</table>\n",
       "</div>"
      ],
      "text/plain": [
       "       Teams  Matches  Win  Loss    NRR  Points\n",
       "1   Peshawar        8    6     2  2.550      12\n",
       "2  Islamabad        8    6     2  1.861      12\n",
       "3     Quetta        8    5     3  0.347      10\n",
       "4    Karachi        8    4     4  0.002       8\n",
       "5     Lahore        8    2     6 -0.012       4\n",
       "6     Multan        8    1     7 -0.001       2"
      ]
     },
     "execution_count": 134,
     "metadata": {},
     "output_type": "execute_result"
    }
   ],
   "source": [
    "psl"
   ]
  },
  {
   "cell_type": "code",
   "execution_count": 135,
   "id": "216fbe52",
   "metadata": {},
   "outputs": [],
   "source": [
    "psl.to_csv('PSL Ranking Chart.csv')"
   ]
  },
  {
   "cell_type": "markdown",
   "id": "cd387e10",
   "metadata": {},
   "source": [
    "# Reading Data in Pandas\n",
    "There are various type of data that pandas can read, but I am just showing the methods of two data types"
   ]
  },
  {
   "cell_type": "markdown",
   "id": "611167a8",
   "metadata": {},
   "source": [
    "## Reading The \"CSV\" File"
   ]
  },
  {
   "cell_type": "markdown",
   "id": "7cf49ba0",
   "metadata": {},
   "source": [
    "This method is widely use in \"Machine Learning\""
   ]
  },
  {
   "cell_type": "code",
   "execution_count": 136,
   "id": "9d85b726",
   "metadata": {},
   "outputs": [],
   "source": [
    "match = pd.read_csv('PSL Ranking Chart.csv')"
   ]
  },
  {
   "cell_type": "code",
   "execution_count": 137,
   "id": "0d1341a7",
   "metadata": {},
   "outputs": [
    {
     "data": {
      "text/html": [
       "<div>\n",
       "<style scoped>\n",
       "    .dataframe tbody tr th:only-of-type {\n",
       "        vertical-align: middle;\n",
       "    }\n",
       "\n",
       "    .dataframe tbody tr th {\n",
       "        vertical-align: top;\n",
       "    }\n",
       "\n",
       "    .dataframe thead th {\n",
       "        text-align: right;\n",
       "    }\n",
       "</style>\n",
       "<table border=\"1\" class=\"dataframe\">\n",
       "  <thead>\n",
       "    <tr style=\"text-align: right;\">\n",
       "      <th></th>\n",
       "      <th>Unnamed: 0</th>\n",
       "      <th>Teams</th>\n",
       "      <th>Matches</th>\n",
       "      <th>Win</th>\n",
       "      <th>Loss</th>\n",
       "      <th>NRR</th>\n",
       "      <th>Points</th>\n",
       "    </tr>\n",
       "  </thead>\n",
       "  <tbody>\n",
       "    <tr>\n",
       "      <th>0</th>\n",
       "      <td>1</td>\n",
       "      <td>Peshawar</td>\n",
       "      <td>8</td>\n",
       "      <td>6</td>\n",
       "      <td>2</td>\n",
       "      <td>2.550</td>\n",
       "      <td>12</td>\n",
       "    </tr>\n",
       "    <tr>\n",
       "      <th>1</th>\n",
       "      <td>2</td>\n",
       "      <td>Islamabad</td>\n",
       "      <td>8</td>\n",
       "      <td>6</td>\n",
       "      <td>2</td>\n",
       "      <td>1.861</td>\n",
       "      <td>12</td>\n",
       "    </tr>\n",
       "    <tr>\n",
       "      <th>2</th>\n",
       "      <td>3</td>\n",
       "      <td>Quetta</td>\n",
       "      <td>8</td>\n",
       "      <td>5</td>\n",
       "      <td>3</td>\n",
       "      <td>0.347</td>\n",
       "      <td>10</td>\n",
       "    </tr>\n",
       "    <tr>\n",
       "      <th>3</th>\n",
       "      <td>4</td>\n",
       "      <td>Karachi</td>\n",
       "      <td>8</td>\n",
       "      <td>4</td>\n",
       "      <td>4</td>\n",
       "      <td>0.002</td>\n",
       "      <td>8</td>\n",
       "    </tr>\n",
       "    <tr>\n",
       "      <th>4</th>\n",
       "      <td>5</td>\n",
       "      <td>Lahore</td>\n",
       "      <td>8</td>\n",
       "      <td>2</td>\n",
       "      <td>6</td>\n",
       "      <td>-0.012</td>\n",
       "      <td>4</td>\n",
       "    </tr>\n",
       "    <tr>\n",
       "      <th>5</th>\n",
       "      <td>6</td>\n",
       "      <td>Multan</td>\n",
       "      <td>8</td>\n",
       "      <td>1</td>\n",
       "      <td>7</td>\n",
       "      <td>-0.001</td>\n",
       "      <td>2</td>\n",
       "    </tr>\n",
       "  </tbody>\n",
       "</table>\n",
       "</div>"
      ],
      "text/plain": [
       "   Unnamed: 0      Teams  Matches  Win  Loss    NRR  Points\n",
       "0           1   Peshawar        8    6     2  2.550      12\n",
       "1           2  Islamabad        8    6     2  1.861      12\n",
       "2           3     Quetta        8    5     3  0.347      10\n",
       "3           4    Karachi        8    4     4  0.002       8\n",
       "4           5     Lahore        8    2     6 -0.012       4\n",
       "5           6     Multan        8    1     7 -0.001       2"
      ]
     },
     "execution_count": 137,
     "metadata": {},
     "output_type": "execute_result"
    }
   ],
   "source": [
    "match"
   ]
  },
  {
   "cell_type": "markdown",
   "id": "0e7ceb5b",
   "metadata": {},
   "source": [
    "While reading a \"csv file\" it generates an another index row \"Unnamed:0\", we can skip this by specifying index"
   ]
  },
  {
   "cell_type": "code",
   "execution_count": 138,
   "id": "6710190e",
   "metadata": {},
   "outputs": [],
   "source": [
    "match = pd.read_csv('PSL Ranking Chart.csv',index_col=0)"
   ]
  },
  {
   "cell_type": "code",
   "execution_count": 139,
   "id": "cbd4493f",
   "metadata": {},
   "outputs": [
    {
     "data": {
      "text/html": [
       "<div>\n",
       "<style scoped>\n",
       "    .dataframe tbody tr th:only-of-type {\n",
       "        vertical-align: middle;\n",
       "    }\n",
       "\n",
       "    .dataframe tbody tr th {\n",
       "        vertical-align: top;\n",
       "    }\n",
       "\n",
       "    .dataframe thead th {\n",
       "        text-align: right;\n",
       "    }\n",
       "</style>\n",
       "<table border=\"1\" class=\"dataframe\">\n",
       "  <thead>\n",
       "    <tr style=\"text-align: right;\">\n",
       "      <th></th>\n",
       "      <th>Teams</th>\n",
       "      <th>Matches</th>\n",
       "      <th>Win</th>\n",
       "      <th>Loss</th>\n",
       "      <th>NRR</th>\n",
       "      <th>Points</th>\n",
       "    </tr>\n",
       "  </thead>\n",
       "  <tbody>\n",
       "    <tr>\n",
       "      <th>1</th>\n",
       "      <td>Peshawar</td>\n",
       "      <td>8</td>\n",
       "      <td>6</td>\n",
       "      <td>2</td>\n",
       "      <td>2.550</td>\n",
       "      <td>12</td>\n",
       "    </tr>\n",
       "    <tr>\n",
       "      <th>2</th>\n",
       "      <td>Islamabad</td>\n",
       "      <td>8</td>\n",
       "      <td>6</td>\n",
       "      <td>2</td>\n",
       "      <td>1.861</td>\n",
       "      <td>12</td>\n",
       "    </tr>\n",
       "    <tr>\n",
       "      <th>3</th>\n",
       "      <td>Quetta</td>\n",
       "      <td>8</td>\n",
       "      <td>5</td>\n",
       "      <td>3</td>\n",
       "      <td>0.347</td>\n",
       "      <td>10</td>\n",
       "    </tr>\n",
       "    <tr>\n",
       "      <th>4</th>\n",
       "      <td>Karachi</td>\n",
       "      <td>8</td>\n",
       "      <td>4</td>\n",
       "      <td>4</td>\n",
       "      <td>0.002</td>\n",
       "      <td>8</td>\n",
       "    </tr>\n",
       "    <tr>\n",
       "      <th>5</th>\n",
       "      <td>Lahore</td>\n",
       "      <td>8</td>\n",
       "      <td>2</td>\n",
       "      <td>6</td>\n",
       "      <td>-0.012</td>\n",
       "      <td>4</td>\n",
       "    </tr>\n",
       "    <tr>\n",
       "      <th>6</th>\n",
       "      <td>Multan</td>\n",
       "      <td>8</td>\n",
       "      <td>1</td>\n",
       "      <td>7</td>\n",
       "      <td>-0.001</td>\n",
       "      <td>2</td>\n",
       "    </tr>\n",
       "  </tbody>\n",
       "</table>\n",
       "</div>"
      ],
      "text/plain": [
       "       Teams  Matches  Win  Loss    NRR  Points\n",
       "1   Peshawar        8    6     2  2.550      12\n",
       "2  Islamabad        8    6     2  1.861      12\n",
       "3     Quetta        8    5     3  0.347      10\n",
       "4    Karachi        8    4     4  0.002       8\n",
       "5     Lahore        8    2     6 -0.012       4\n",
       "6     Multan        8    1     7 -0.001       2"
      ]
     },
     "execution_count": 139,
     "metadata": {},
     "output_type": "execute_result"
    }
   ],
   "source": [
    "match"
   ]
  },
  {
   "cell_type": "markdown",
   "id": "8537927b",
   "metadata": {},
   "source": [
    "#### Skipping the \"Header\"\n",
    "This method is use for finding a certain column in a very large spreadsheet"
   ]
  },
  {
   "cell_type": "code",
   "execution_count": 140,
   "id": "dcfe0b17",
   "metadata": {},
   "outputs": [
    {
     "data": {
      "text/html": [
       "<div>\n",
       "<style scoped>\n",
       "    .dataframe tbody tr th:only-of-type {\n",
       "        vertical-align: middle;\n",
       "    }\n",
       "\n",
       "    .dataframe tbody tr th {\n",
       "        vertical-align: top;\n",
       "    }\n",
       "\n",
       "    .dataframe thead th {\n",
       "        text-align: right;\n",
       "    }\n",
       "</style>\n",
       "<table border=\"1\" class=\"dataframe\">\n",
       "  <thead>\n",
       "    <tr style=\"text-align: right;\">\n",
       "      <th></th>\n",
       "      <th>1</th>\n",
       "      <th>2</th>\n",
       "      <th>3</th>\n",
       "      <th>4</th>\n",
       "      <th>5</th>\n",
       "      <th>6</th>\n",
       "    </tr>\n",
       "    <tr>\n",
       "      <th>0</th>\n",
       "      <th></th>\n",
       "      <th></th>\n",
       "      <th></th>\n",
       "      <th></th>\n",
       "      <th></th>\n",
       "      <th></th>\n",
       "    </tr>\n",
       "  </thead>\n",
       "  <tbody>\n",
       "    <tr>\n",
       "      <th>NaN</th>\n",
       "      <td>Teams</td>\n",
       "      <td>Matches</td>\n",
       "      <td>Win</td>\n",
       "      <td>Loss</td>\n",
       "      <td>NRR</td>\n",
       "      <td>Points</td>\n",
       "    </tr>\n",
       "    <tr>\n",
       "      <th>1.0</th>\n",
       "      <td>Peshawar</td>\n",
       "      <td>8</td>\n",
       "      <td>6</td>\n",
       "      <td>2</td>\n",
       "      <td>2.55</td>\n",
       "      <td>12</td>\n",
       "    </tr>\n",
       "    <tr>\n",
       "      <th>2.0</th>\n",
       "      <td>Islamabad</td>\n",
       "      <td>8</td>\n",
       "      <td>6</td>\n",
       "      <td>2</td>\n",
       "      <td>1.861</td>\n",
       "      <td>12</td>\n",
       "    </tr>\n",
       "    <tr>\n",
       "      <th>3.0</th>\n",
       "      <td>Quetta</td>\n",
       "      <td>8</td>\n",
       "      <td>5</td>\n",
       "      <td>3</td>\n",
       "      <td>0.347</td>\n",
       "      <td>10</td>\n",
       "    </tr>\n",
       "    <tr>\n",
       "      <th>4.0</th>\n",
       "      <td>Karachi</td>\n",
       "      <td>8</td>\n",
       "      <td>4</td>\n",
       "      <td>4</td>\n",
       "      <td>0.002</td>\n",
       "      <td>8</td>\n",
       "    </tr>\n",
       "    <tr>\n",
       "      <th>5.0</th>\n",
       "      <td>Lahore</td>\n",
       "      <td>8</td>\n",
       "      <td>2</td>\n",
       "      <td>6</td>\n",
       "      <td>-0.012</td>\n",
       "      <td>4</td>\n",
       "    </tr>\n",
       "    <tr>\n",
       "      <th>6.0</th>\n",
       "      <td>Multan</td>\n",
       "      <td>8</td>\n",
       "      <td>1</td>\n",
       "      <td>7</td>\n",
       "      <td>-0.001</td>\n",
       "      <td>2</td>\n",
       "    </tr>\n",
       "  </tbody>\n",
       "</table>\n",
       "</div>"
      ],
      "text/plain": [
       "             1        2    3     4       5       6\n",
       "0                                                 \n",
       "NaN      Teams  Matches  Win  Loss     NRR  Points\n",
       "1.0   Peshawar        8    6     2    2.55      12\n",
       "2.0  Islamabad        8    6     2   1.861      12\n",
       "3.0     Quetta        8    5     3   0.347      10\n",
       "4.0    Karachi        8    4     4   0.002       8\n",
       "5.0     Lahore        8    2     6  -0.012       4\n",
       "6.0     Multan        8    1     7  -0.001       2"
      ]
     },
     "metadata": {},
     "output_type": "display_data"
    }
   ],
   "source": [
    "match = pd.read_csv('PSL Ranking Chart.csv',index_col=0,header=None)\n",
    "display(match)"
   ]
  },
  {
   "cell_type": "markdown",
   "id": "cd67e46d",
   "metadata": {},
   "source": [
    "#### Specifying Index by using Column(which is present in the DataFrame)!\n",
    "Can also make index of a column present in the DataFrame."
   ]
  },
  {
   "cell_type": "code",
   "execution_count": 141,
   "id": "588e7359",
   "metadata": {},
   "outputs": [
    {
     "data": {
      "text/html": [
       "<div>\n",
       "<style scoped>\n",
       "    .dataframe tbody tr th:only-of-type {\n",
       "        vertical-align: middle;\n",
       "    }\n",
       "\n",
       "    .dataframe tbody tr th {\n",
       "        vertical-align: top;\n",
       "    }\n",
       "\n",
       "    .dataframe thead th {\n",
       "        text-align: right;\n",
       "    }\n",
       "</style>\n",
       "<table border=\"1\" class=\"dataframe\">\n",
       "  <thead>\n",
       "    <tr style=\"text-align: right;\">\n",
       "      <th></th>\n",
       "      <th>Unnamed: 0</th>\n",
       "      <th>Teams</th>\n",
       "      <th>Matches</th>\n",
       "      <th>Win</th>\n",
       "      <th>Loss</th>\n",
       "      <th>Points</th>\n",
       "    </tr>\n",
       "    <tr>\n",
       "      <th>NRR</th>\n",
       "      <th></th>\n",
       "      <th></th>\n",
       "      <th></th>\n",
       "      <th></th>\n",
       "      <th></th>\n",
       "      <th></th>\n",
       "    </tr>\n",
       "  </thead>\n",
       "  <tbody>\n",
       "    <tr>\n",
       "      <th>2.550</th>\n",
       "      <td>1</td>\n",
       "      <td>Peshawar</td>\n",
       "      <td>8</td>\n",
       "      <td>6</td>\n",
       "      <td>2</td>\n",
       "      <td>12</td>\n",
       "    </tr>\n",
       "    <tr>\n",
       "      <th>1.861</th>\n",
       "      <td>2</td>\n",
       "      <td>Islamabad</td>\n",
       "      <td>8</td>\n",
       "      <td>6</td>\n",
       "      <td>2</td>\n",
       "      <td>12</td>\n",
       "    </tr>\n",
       "    <tr>\n",
       "      <th>0.347</th>\n",
       "      <td>3</td>\n",
       "      <td>Quetta</td>\n",
       "      <td>8</td>\n",
       "      <td>5</td>\n",
       "      <td>3</td>\n",
       "      <td>10</td>\n",
       "    </tr>\n",
       "    <tr>\n",
       "      <th>0.002</th>\n",
       "      <td>4</td>\n",
       "      <td>Karachi</td>\n",
       "      <td>8</td>\n",
       "      <td>4</td>\n",
       "      <td>4</td>\n",
       "      <td>8</td>\n",
       "    </tr>\n",
       "    <tr>\n",
       "      <th>-0.012</th>\n",
       "      <td>5</td>\n",
       "      <td>Lahore</td>\n",
       "      <td>8</td>\n",
       "      <td>2</td>\n",
       "      <td>6</td>\n",
       "      <td>4</td>\n",
       "    </tr>\n",
       "    <tr>\n",
       "      <th>-0.001</th>\n",
       "      <td>6</td>\n",
       "      <td>Multan</td>\n",
       "      <td>8</td>\n",
       "      <td>1</td>\n",
       "      <td>7</td>\n",
       "      <td>2</td>\n",
       "    </tr>\n",
       "  </tbody>\n",
       "</table>\n",
       "</div>"
      ],
      "text/plain": [
       "        Unnamed: 0      Teams  Matches  Win  Loss  Points\n",
       "NRR                                                      \n",
       " 2.550           1   Peshawar        8    6     2      12\n",
       " 1.861           2  Islamabad        8    6     2      12\n",
       " 0.347           3     Quetta        8    5     3      10\n",
       " 0.002           4    Karachi        8    4     4       8\n",
       "-0.012           5     Lahore        8    2     6       4\n",
       "-0.001           6     Multan        8    1     7       2"
      ]
     },
     "execution_count": 141,
     "metadata": {},
     "output_type": "execute_result"
    }
   ],
   "source": [
    "pd.read_csv('PSL Ranking Chart.csv', index_col='NRR')"
   ]
  },
  {
   "cell_type": "markdown",
   "id": "7f162fb2",
   "metadata": {},
   "source": [
    "#### Skipping the Unwanted rows of DataFrame!\n",
    "Can also skip the rows that are unwanted."
   ]
  },
  {
   "cell_type": "code",
   "execution_count": 142,
   "id": "73877b84",
   "metadata": {},
   "outputs": [
    {
     "data": {
      "text/html": [
       "<div>\n",
       "<style scoped>\n",
       "    .dataframe tbody tr th:only-of-type {\n",
       "        vertical-align: middle;\n",
       "    }\n",
       "\n",
       "    .dataframe tbody tr th {\n",
       "        vertical-align: top;\n",
       "    }\n",
       "\n",
       "    .dataframe thead th {\n",
       "        text-align: right;\n",
       "    }\n",
       "</style>\n",
       "<table border=\"1\" class=\"dataframe\">\n",
       "  <thead>\n",
       "    <tr style=\"text-align: right;\">\n",
       "      <th></th>\n",
       "      <th>1</th>\n",
       "      <th>Peshawar</th>\n",
       "      <th>8</th>\n",
       "      <th>6</th>\n",
       "      <th>2</th>\n",
       "      <th>2.55</th>\n",
       "      <th>12</th>\n",
       "    </tr>\n",
       "  </thead>\n",
       "  <tbody>\n",
       "    <tr>\n",
       "      <th>0</th>\n",
       "      <td>3</td>\n",
       "      <td>Quetta</td>\n",
       "      <td>8</td>\n",
       "      <td>5</td>\n",
       "      <td>3</td>\n",
       "      <td>0.347</td>\n",
       "      <td>10</td>\n",
       "    </tr>\n",
       "    <tr>\n",
       "      <th>1</th>\n",
       "      <td>4</td>\n",
       "      <td>Karachi</td>\n",
       "      <td>8</td>\n",
       "      <td>4</td>\n",
       "      <td>4</td>\n",
       "      <td>0.002</td>\n",
       "      <td>8</td>\n",
       "    </tr>\n",
       "    <tr>\n",
       "      <th>2</th>\n",
       "      <td>6</td>\n",
       "      <td>Multan</td>\n",
       "      <td>8</td>\n",
       "      <td>1</td>\n",
       "      <td>7</td>\n",
       "      <td>-0.001</td>\n",
       "      <td>2</td>\n",
       "    </tr>\n",
       "  </tbody>\n",
       "</table>\n",
       "</div>"
      ],
      "text/plain": [
       "   1 Peshawar  8  6  2   2.55  12\n",
       "0  3   Quetta  8  5  3  0.347  10\n",
       "1  4  Karachi  8  4  4  0.002   8\n",
       "2  6   Multan  8  1  7 -0.001   2"
      ]
     },
     "execution_count": 142,
     "metadata": {},
     "output_type": "execute_result"
    }
   ],
   "source": [
    "pd.read_csv('PSL Ranking Chart.csv', skiprows=[0,2,5])"
   ]
  },
  {
   "cell_type": "markdown",
   "id": "42f05a65",
   "metadata": {},
   "source": [
    "#### Custom \"Null\" Values!\n",
    "We can also adjust a costum value for null! For example, there a some values in the DataFrame that you want to show \"Null\". Such as in the \"PSL Ranking Chart.csv\" there is a column of \"Matches\" according to which all the teams have played \"8\" matches if I want to nullify the \"Matches\" I just have to mention that \"8 = N/A\"!"
   ]
  },
  {
   "cell_type": "code",
   "execution_count": 143,
   "id": "77fb39d2",
   "metadata": {},
   "outputs": [
    {
     "data": {
      "text/html": [
       "<div>\n",
       "<style scoped>\n",
       "    .dataframe tbody tr th:only-of-type {\n",
       "        vertical-align: middle;\n",
       "    }\n",
       "\n",
       "    .dataframe tbody tr th {\n",
       "        vertical-align: top;\n",
       "    }\n",
       "\n",
       "    .dataframe thead th {\n",
       "        text-align: right;\n",
       "    }\n",
       "</style>\n",
       "<table border=\"1\" class=\"dataframe\">\n",
       "  <thead>\n",
       "    <tr style=\"text-align: right;\">\n",
       "      <th></th>\n",
       "      <th>Unnamed: 0</th>\n",
       "      <th>Teams</th>\n",
       "      <th>Matches</th>\n",
       "      <th>Win</th>\n",
       "      <th>Loss</th>\n",
       "      <th>NRR</th>\n",
       "      <th>Points</th>\n",
       "    </tr>\n",
       "  </thead>\n",
       "  <tbody>\n",
       "    <tr>\n",
       "      <th>0</th>\n",
       "      <td>1</td>\n",
       "      <td>Peshawar</td>\n",
       "      <td>NaN</td>\n",
       "      <td>6</td>\n",
       "      <td>2</td>\n",
       "      <td>2.550</td>\n",
       "      <td>12.0</td>\n",
       "    </tr>\n",
       "    <tr>\n",
       "      <th>1</th>\n",
       "      <td>2</td>\n",
       "      <td>Islamabad</td>\n",
       "      <td>NaN</td>\n",
       "      <td>6</td>\n",
       "      <td>2</td>\n",
       "      <td>1.861</td>\n",
       "      <td>12.0</td>\n",
       "    </tr>\n",
       "    <tr>\n",
       "      <th>2</th>\n",
       "      <td>3</td>\n",
       "      <td>Quetta</td>\n",
       "      <td>NaN</td>\n",
       "      <td>5</td>\n",
       "      <td>3</td>\n",
       "      <td>0.347</td>\n",
       "      <td>10.0</td>\n",
       "    </tr>\n",
       "    <tr>\n",
       "      <th>3</th>\n",
       "      <td>4</td>\n",
       "      <td>Karachi</td>\n",
       "      <td>NaN</td>\n",
       "      <td>4</td>\n",
       "      <td>4</td>\n",
       "      <td>0.002</td>\n",
       "      <td>NaN</td>\n",
       "    </tr>\n",
       "    <tr>\n",
       "      <th>4</th>\n",
       "      <td>5</td>\n",
       "      <td>Lahore</td>\n",
       "      <td>NaN</td>\n",
       "      <td>2</td>\n",
       "      <td>6</td>\n",
       "      <td>-0.012</td>\n",
       "      <td>4.0</td>\n",
       "    </tr>\n",
       "    <tr>\n",
       "      <th>5</th>\n",
       "      <td>6</td>\n",
       "      <td>Multan</td>\n",
       "      <td>NaN</td>\n",
       "      <td>1</td>\n",
       "      <td>7</td>\n",
       "      <td>-0.001</td>\n",
       "      <td>2.0</td>\n",
       "    </tr>\n",
       "  </tbody>\n",
       "</table>\n",
       "</div>"
      ],
      "text/plain": [
       "   Unnamed: 0      Teams  Matches  Win  Loss    NRR  Points\n",
       "0           1   Peshawar      NaN    6     2  2.550    12.0\n",
       "1           2  Islamabad      NaN    6     2  1.861    12.0\n",
       "2           3     Quetta      NaN    5     3  0.347    10.0\n",
       "3           4    Karachi      NaN    4     4  0.002     NaN\n",
       "4           5     Lahore      NaN    2     6 -0.012     4.0\n",
       "5           6     Multan      NaN    1     7 -0.001     2.0"
      ]
     },
     "execution_count": 143,
     "metadata": {},
     "output_type": "execute_result"
    }
   ],
   "source": [
    "pd.read_csv('PSL Ranking Chart.csv', na_values = 8)"
   ]
  },
  {
   "cell_type": "markdown",
   "id": "87e51eb1",
   "metadata": {},
   "source": [
    "* Can also do this for the multiple Values! But it will not be very suitable for large scale data handeling!"
   ]
  },
  {
   "cell_type": "code",
   "execution_count": 144,
   "id": "fbba067e",
   "metadata": {},
   "outputs": [
    {
     "data": {
      "text/html": [
       "<div>\n",
       "<style scoped>\n",
       "    .dataframe tbody tr th:only-of-type {\n",
       "        vertical-align: middle;\n",
       "    }\n",
       "\n",
       "    .dataframe tbody tr th {\n",
       "        vertical-align: top;\n",
       "    }\n",
       "\n",
       "    .dataframe thead th {\n",
       "        text-align: right;\n",
       "    }\n",
       "</style>\n",
       "<table border=\"1\" class=\"dataframe\">\n",
       "  <thead>\n",
       "    <tr style=\"text-align: right;\">\n",
       "      <th></th>\n",
       "      <th>Unnamed: 0</th>\n",
       "      <th>Teams</th>\n",
       "      <th>Matches</th>\n",
       "      <th>Win</th>\n",
       "      <th>Loss</th>\n",
       "      <th>NRR</th>\n",
       "      <th>Points</th>\n",
       "    </tr>\n",
       "  </thead>\n",
       "  <tbody>\n",
       "    <tr>\n",
       "      <th>0</th>\n",
       "      <td>1.0</td>\n",
       "      <td>Peshawar</td>\n",
       "      <td>8</td>\n",
       "      <td>NaN</td>\n",
       "      <td>NaN</td>\n",
       "      <td>2.550</td>\n",
       "      <td>12.0</td>\n",
       "    </tr>\n",
       "    <tr>\n",
       "      <th>1</th>\n",
       "      <td>NaN</td>\n",
       "      <td>NaN</td>\n",
       "      <td>8</td>\n",
       "      <td>NaN</td>\n",
       "      <td>NaN</td>\n",
       "      <td>1.861</td>\n",
       "      <td>12.0</td>\n",
       "    </tr>\n",
       "    <tr>\n",
       "      <th>2</th>\n",
       "      <td>3.0</td>\n",
       "      <td>Quetta</td>\n",
       "      <td>8</td>\n",
       "      <td>5.0</td>\n",
       "      <td>3.0</td>\n",
       "      <td>0.347</td>\n",
       "      <td>10.0</td>\n",
       "    </tr>\n",
       "    <tr>\n",
       "      <th>3</th>\n",
       "      <td>4.0</td>\n",
       "      <td>Karachi</td>\n",
       "      <td>8</td>\n",
       "      <td>4.0</td>\n",
       "      <td>4.0</td>\n",
       "      <td>0.002</td>\n",
       "      <td>8.0</td>\n",
       "    </tr>\n",
       "    <tr>\n",
       "      <th>4</th>\n",
       "      <td>5.0</td>\n",
       "      <td>Lahore</td>\n",
       "      <td>8</td>\n",
       "      <td>NaN</td>\n",
       "      <td>NaN</td>\n",
       "      <td>-0.012</td>\n",
       "      <td>4.0</td>\n",
       "    </tr>\n",
       "    <tr>\n",
       "      <th>5</th>\n",
       "      <td>NaN</td>\n",
       "      <td>Multan</td>\n",
       "      <td>8</td>\n",
       "      <td>1.0</td>\n",
       "      <td>7.0</td>\n",
       "      <td>-0.001</td>\n",
       "      <td>NaN</td>\n",
       "    </tr>\n",
       "  </tbody>\n",
       "</table>\n",
       "</div>"
      ],
      "text/plain": [
       "   Unnamed: 0     Teams  Matches  Win  Loss    NRR  Points\n",
       "0         1.0  Peshawar        8  NaN   NaN  2.550    12.0\n",
       "1         NaN       NaN        8  NaN   NaN  1.861    12.0\n",
       "2         3.0    Quetta        8  5.0   3.0  0.347    10.0\n",
       "3         4.0   Karachi        8  4.0   4.0  0.002     8.0\n",
       "4         5.0    Lahore        8  NaN   NaN -0.012     4.0\n",
       "5         NaN    Multan        8  1.0   7.0 -0.001     NaN"
      ]
     },
     "execution_count": 144,
     "metadata": {},
     "output_type": "execute_result"
    }
   ],
   "source": [
    "pd.read_csv('PSL Ranking Chart.csv', na_values = [2,'Islamabad',6])"
   ]
  },
  {
   "cell_type": "markdown",
   "id": "38044b79",
   "metadata": {},
   "source": [
    "* Can Also Mention Multiple Columns! Suitable for large scale data handeling!"
   ]
  },
  {
   "cell_type": "code",
   "execution_count": 145,
   "id": "7d10433f",
   "metadata": {},
   "outputs": [],
   "source": [
    "null = {'Teams':'Islamabad', 'Win':6, 'Matches':8, 'NRR': [2.550,-0.012] }"
   ]
  },
  {
   "cell_type": "code",
   "execution_count": 146,
   "id": "a54100a4",
   "metadata": {},
   "outputs": [
    {
     "data": {
      "text/html": [
       "<div>\n",
       "<style scoped>\n",
       "    .dataframe tbody tr th:only-of-type {\n",
       "        vertical-align: middle;\n",
       "    }\n",
       "\n",
       "    .dataframe tbody tr th {\n",
       "        vertical-align: top;\n",
       "    }\n",
       "\n",
       "    .dataframe thead th {\n",
       "        text-align: right;\n",
       "    }\n",
       "</style>\n",
       "<table border=\"1\" class=\"dataframe\">\n",
       "  <thead>\n",
       "    <tr style=\"text-align: right;\">\n",
       "      <th></th>\n",
       "      <th>Unnamed: 0</th>\n",
       "      <th>Teams</th>\n",
       "      <th>Matches</th>\n",
       "      <th>Win</th>\n",
       "      <th>Loss</th>\n",
       "      <th>NRR</th>\n",
       "      <th>Points</th>\n",
       "    </tr>\n",
       "  </thead>\n",
       "  <tbody>\n",
       "    <tr>\n",
       "      <th>0</th>\n",
       "      <td>1</td>\n",
       "      <td>Peshawar</td>\n",
       "      <td>NaN</td>\n",
       "      <td>NaN</td>\n",
       "      <td>2</td>\n",
       "      <td>NaN</td>\n",
       "      <td>12</td>\n",
       "    </tr>\n",
       "    <tr>\n",
       "      <th>1</th>\n",
       "      <td>2</td>\n",
       "      <td>NaN</td>\n",
       "      <td>NaN</td>\n",
       "      <td>NaN</td>\n",
       "      <td>2</td>\n",
       "      <td>1.861</td>\n",
       "      <td>12</td>\n",
       "    </tr>\n",
       "    <tr>\n",
       "      <th>2</th>\n",
       "      <td>3</td>\n",
       "      <td>Quetta</td>\n",
       "      <td>NaN</td>\n",
       "      <td>5.0</td>\n",
       "      <td>3</td>\n",
       "      <td>0.347</td>\n",
       "      <td>10</td>\n",
       "    </tr>\n",
       "    <tr>\n",
       "      <th>3</th>\n",
       "      <td>4</td>\n",
       "      <td>Karachi</td>\n",
       "      <td>NaN</td>\n",
       "      <td>4.0</td>\n",
       "      <td>4</td>\n",
       "      <td>0.002</td>\n",
       "      <td>8</td>\n",
       "    </tr>\n",
       "    <tr>\n",
       "      <th>4</th>\n",
       "      <td>5</td>\n",
       "      <td>Lahore</td>\n",
       "      <td>NaN</td>\n",
       "      <td>2.0</td>\n",
       "      <td>6</td>\n",
       "      <td>NaN</td>\n",
       "      <td>4</td>\n",
       "    </tr>\n",
       "    <tr>\n",
       "      <th>5</th>\n",
       "      <td>6</td>\n",
       "      <td>Multan</td>\n",
       "      <td>NaN</td>\n",
       "      <td>1.0</td>\n",
       "      <td>7</td>\n",
       "      <td>-0.001</td>\n",
       "      <td>2</td>\n",
       "    </tr>\n",
       "  </tbody>\n",
       "</table>\n",
       "</div>"
      ],
      "text/plain": [
       "   Unnamed: 0     Teams  Matches  Win  Loss    NRR  Points\n",
       "0           1  Peshawar      NaN  NaN     2    NaN      12\n",
       "1           2       NaN      NaN  NaN     2  1.861      12\n",
       "2           3    Quetta      NaN  5.0     3  0.347      10\n",
       "3           4   Karachi      NaN  4.0     4  0.002       8\n",
       "4           5    Lahore      NaN  2.0     6    NaN       4\n",
       "5           6    Multan      NaN  1.0     7 -0.001       2"
      ]
     },
     "execution_count": 146,
     "metadata": {},
     "output_type": "execute_result"
    }
   ],
   "source": [
    "pd.read_csv('PSL Ranking Chart.csv', na_values = null)"
   ]
  },
  {
   "cell_type": "markdown",
   "id": "afbae00b",
   "metadata": {},
   "source": [
    "## Reading The Excel File"
   ]
  },
  {
   "cell_type": "code",
   "execution_count": 147,
   "id": "3fe42978",
   "metadata": {},
   "outputs": [],
   "source": [
    "info = pd.read_excel('PSL Chart.xlsx',index_col=0)"
   ]
  },
  {
   "cell_type": "code",
   "execution_count": 148,
   "id": "6c6dcb3b",
   "metadata": {},
   "outputs": [
    {
     "data": {
      "text/html": [
       "<div>\n",
       "<style scoped>\n",
       "    .dataframe tbody tr th:only-of-type {\n",
       "        vertical-align: middle;\n",
       "    }\n",
       "\n",
       "    .dataframe tbody tr th {\n",
       "        vertical-align: top;\n",
       "    }\n",
       "\n",
       "    .dataframe thead th {\n",
       "        text-align: right;\n",
       "    }\n",
       "</style>\n",
       "<table border=\"1\" class=\"dataframe\">\n",
       "  <thead>\n",
       "    <tr style=\"text-align: right;\">\n",
       "      <th></th>\n",
       "      <th>Teams</th>\n",
       "      <th>Matches</th>\n",
       "      <th>Win</th>\n",
       "      <th>Loss</th>\n",
       "      <th>NRR</th>\n",
       "      <th>Points</th>\n",
       "    </tr>\n",
       "  </thead>\n",
       "  <tbody>\n",
       "    <tr>\n",
       "      <th>1</th>\n",
       "      <td>Peshawar</td>\n",
       "      <td>8</td>\n",
       "      <td>6</td>\n",
       "      <td>2</td>\n",
       "      <td>2.550</td>\n",
       "      <td>12</td>\n",
       "    </tr>\n",
       "    <tr>\n",
       "      <th>2</th>\n",
       "      <td>Islamabad</td>\n",
       "      <td>8</td>\n",
       "      <td>6</td>\n",
       "      <td>2</td>\n",
       "      <td>1.861</td>\n",
       "      <td>12</td>\n",
       "    </tr>\n",
       "    <tr>\n",
       "      <th>3</th>\n",
       "      <td>Quetta</td>\n",
       "      <td>8</td>\n",
       "      <td>5</td>\n",
       "      <td>3</td>\n",
       "      <td>0.347</td>\n",
       "      <td>10</td>\n",
       "    </tr>\n",
       "    <tr>\n",
       "      <th>4</th>\n",
       "      <td>Karachi</td>\n",
       "      <td>8</td>\n",
       "      <td>4</td>\n",
       "      <td>4</td>\n",
       "      <td>0.002</td>\n",
       "      <td>8</td>\n",
       "    </tr>\n",
       "    <tr>\n",
       "      <th>5</th>\n",
       "      <td>Lahore</td>\n",
       "      <td>8</td>\n",
       "      <td>2</td>\n",
       "      <td>6</td>\n",
       "      <td>-0.012</td>\n",
       "      <td>4</td>\n",
       "    </tr>\n",
       "    <tr>\n",
       "      <th>6</th>\n",
       "      <td>Multan</td>\n",
       "      <td>8</td>\n",
       "      <td>1</td>\n",
       "      <td>7</td>\n",
       "      <td>-0.001</td>\n",
       "      <td>2</td>\n",
       "    </tr>\n",
       "  </tbody>\n",
       "</table>\n",
       "</div>"
      ],
      "text/plain": [
       "       Teams  Matches  Win  Loss    NRR  Points\n",
       "1   Peshawar        8    6     2  2.550      12\n",
       "2  Islamabad        8    6     2  1.861      12\n",
       "3     Quetta        8    5     3  0.347      10\n",
       "4    Karachi        8    4     4  0.002       8\n",
       "5     Lahore        8    2     6 -0.012       4\n",
       "6     Multan        8    1     7 -0.001       2"
      ]
     },
     "execution_count": 148,
     "metadata": {},
     "output_type": "execute_result"
    }
   ],
   "source": [
    "info"
   ]
  },
  {
   "cell_type": "markdown",
   "id": "5b9932e0",
   "metadata": {},
   "source": [
    "## Filtering Out Missing Values"
   ]
  },
  {
   "cell_type": "code",
   "execution_count": 149,
   "id": "8b549f06",
   "metadata": {},
   "outputs": [],
   "source": [
    "frame = pd.read_csv('frame.csv',index_col=0)"
   ]
  },
  {
   "cell_type": "code",
   "execution_count": 150,
   "id": "fbf4346e",
   "metadata": {},
   "outputs": [
    {
     "data": {
      "text/html": [
       "<div>\n",
       "<style scoped>\n",
       "    .dataframe tbody tr th:only-of-type {\n",
       "        vertical-align: middle;\n",
       "    }\n",
       "\n",
       "    .dataframe tbody tr th {\n",
       "        vertical-align: top;\n",
       "    }\n",
       "\n",
       "    .dataframe thead th {\n",
       "        text-align: right;\n",
       "    }\n",
       "</style>\n",
       "<table border=\"1\" class=\"dataframe\">\n",
       "  <thead>\n",
       "    <tr style=\"text-align: right;\">\n",
       "      <th></th>\n",
       "      <th>Name</th>\n",
       "      <th>Age</th>\n",
       "      <th>Profession</th>\n",
       "      <th>Income</th>\n",
       "      <th>Job Site</th>\n",
       "      <th>Experience</th>\n",
       "      <th>Residence</th>\n",
       "    </tr>\n",
       "  </thead>\n",
       "  <tbody>\n",
       "    <tr>\n",
       "      <th>0</th>\n",
       "      <td>Kashif</td>\n",
       "      <td>63</td>\n",
       "      <td>Mechanical Engineer</td>\n",
       "      <td>55000</td>\n",
       "      <td>Freelancing</td>\n",
       "      <td>5</td>\n",
       "      <td>U.S.A</td>\n",
       "    </tr>\n",
       "    <tr>\n",
       "      <th>1</th>\n",
       "      <td>Imran</td>\n",
       "      <td>0</td>\n",
       "      <td>Constructor</td>\n",
       "      <td>40000</td>\n",
       "      <td>Shipyard</td>\n",
       "      <td>10</td>\n",
       "      <td>Hongkong</td>\n",
       "    </tr>\n",
       "    <tr>\n",
       "      <th>2</th>\n",
       "      <td>0</td>\n",
       "      <td>38</td>\n",
       "      <td>Insructor</td>\n",
       "      <td>10000</td>\n",
       "      <td>Gym</td>\n",
       "      <td>4</td>\n",
       "      <td>England</td>\n",
       "    </tr>\n",
       "    <tr>\n",
       "      <th>3</th>\n",
       "      <td>Moein</td>\n",
       "      <td>45</td>\n",
       "      <td>Heart Surgeon</td>\n",
       "      <td>60000</td>\n",
       "      <td>Itly National Hospital</td>\n",
       "      <td>0</td>\n",
       "      <td>NaN</td>\n",
       "    </tr>\n",
       "    <tr>\n",
       "      <th>4</th>\n",
       "      <td>Shafiq</td>\n",
       "      <td>58</td>\n",
       "      <td>0</td>\n",
       "      <td>0</td>\n",
       "      <td>Airport</td>\n",
       "      <td>8</td>\n",
       "      <td>France</td>\n",
       "    </tr>\n",
       "    <tr>\n",
       "      <th>5</th>\n",
       "      <td>Danial</td>\n",
       "      <td>29</td>\n",
       "      <td>Racer</td>\n",
       "      <td>0</td>\n",
       "      <td>F1 Racing Arina</td>\n",
       "      <td>6</td>\n",
       "      <td>NaN</td>\n",
       "    </tr>\n",
       "  </tbody>\n",
       "</table>\n",
       "</div>"
      ],
      "text/plain": [
       "     Name  Age           Profession  Income                Job Site  \\\n",
       "0  Kashif   63  Mechanical Engineer   55000             Freelancing   \n",
       "1   Imran    0          Constructor   40000                Shipyard   \n",
       "2       0   38            Insructor   10000                     Gym   \n",
       "3   Moein   45        Heart Surgeon   60000  Itly National Hospital   \n",
       "4  Shafiq   58                    0       0                 Airport   \n",
       "5  Danial   29                Racer       0         F1 Racing Arina   \n",
       "\n",
       "   Experience Residence  \n",
       "0           5     U.S.A  \n",
       "1          10  Hongkong  \n",
       "2           4   England  \n",
       "3           0       NaN  \n",
       "4           8    France  \n",
       "5           6       NaN  "
      ]
     },
     "execution_count": 150,
     "metadata": {},
     "output_type": "execute_result"
    }
   ],
   "source": [
    "frame.columns=['Name','Age','Profession','Income','Job Site','Experience','Residence']\n",
    "frame"
   ]
  },
  {
   "cell_type": "code",
   "execution_count": 151,
   "id": "3af2e36d",
   "metadata": {},
   "outputs": [
    {
     "data": {
      "text/html": [
       "<div>\n",
       "<style scoped>\n",
       "    .dataframe tbody tr th:only-of-type {\n",
       "        vertical-align: middle;\n",
       "    }\n",
       "\n",
       "    .dataframe tbody tr th {\n",
       "        vertical-align: top;\n",
       "    }\n",
       "\n",
       "    .dataframe thead th {\n",
       "        text-align: right;\n",
       "    }\n",
       "</style>\n",
       "<table border=\"1\" class=\"dataframe\">\n",
       "  <thead>\n",
       "    <tr style=\"text-align: right;\">\n",
       "      <th></th>\n",
       "      <th>Name</th>\n",
       "      <th>Age</th>\n",
       "      <th>Profession</th>\n",
       "      <th>Income</th>\n",
       "      <th>Job Site</th>\n",
       "      <th>Experience</th>\n",
       "      <th>Residence</th>\n",
       "    </tr>\n",
       "  </thead>\n",
       "  <tbody>\n",
       "    <tr>\n",
       "      <th>0</th>\n",
       "      <td>False</td>\n",
       "      <td>False</td>\n",
       "      <td>False</td>\n",
       "      <td>False</td>\n",
       "      <td>False</td>\n",
       "      <td>False</td>\n",
       "      <td>False</td>\n",
       "    </tr>\n",
       "    <tr>\n",
       "      <th>1</th>\n",
       "      <td>False</td>\n",
       "      <td>False</td>\n",
       "      <td>False</td>\n",
       "      <td>False</td>\n",
       "      <td>False</td>\n",
       "      <td>False</td>\n",
       "      <td>False</td>\n",
       "    </tr>\n",
       "    <tr>\n",
       "      <th>2</th>\n",
       "      <td>False</td>\n",
       "      <td>False</td>\n",
       "      <td>False</td>\n",
       "      <td>False</td>\n",
       "      <td>False</td>\n",
       "      <td>False</td>\n",
       "      <td>False</td>\n",
       "    </tr>\n",
       "    <tr>\n",
       "      <th>3</th>\n",
       "      <td>False</td>\n",
       "      <td>False</td>\n",
       "      <td>False</td>\n",
       "      <td>False</td>\n",
       "      <td>False</td>\n",
       "      <td>False</td>\n",
       "      <td>True</td>\n",
       "    </tr>\n",
       "    <tr>\n",
       "      <th>4</th>\n",
       "      <td>False</td>\n",
       "      <td>False</td>\n",
       "      <td>False</td>\n",
       "      <td>False</td>\n",
       "      <td>False</td>\n",
       "      <td>False</td>\n",
       "      <td>False</td>\n",
       "    </tr>\n",
       "    <tr>\n",
       "      <th>5</th>\n",
       "      <td>False</td>\n",
       "      <td>False</td>\n",
       "      <td>False</td>\n",
       "      <td>False</td>\n",
       "      <td>False</td>\n",
       "      <td>False</td>\n",
       "      <td>True</td>\n",
       "    </tr>\n",
       "  </tbody>\n",
       "</table>\n",
       "</div>"
      ],
      "text/plain": [
       "    Name    Age  Profession  Income  Job Site  Experience  Residence\n",
       "0  False  False       False   False     False       False      False\n",
       "1  False  False       False   False     False       False      False\n",
       "2  False  False       False   False     False       False      False\n",
       "3  False  False       False   False     False       False       True\n",
       "4  False  False       False   False     False       False      False\n",
       "5  False  False       False   False     False       False       True"
      ]
     },
     "execution_count": 151,
     "metadata": {},
     "output_type": "execute_result"
    }
   ],
   "source": [
    "frame.isna()"
   ]
  },
  {
   "cell_type": "code",
   "execution_count": 152,
   "id": "90271ee7",
   "metadata": {},
   "outputs": [
    {
     "data": {
      "text/plain": [
       "Name          0\n",
       "Age           0\n",
       "Profession    0\n",
       "Income        0\n",
       "Job Site      0\n",
       "Experience    0\n",
       "Residence     2\n",
       "dtype: int64"
      ]
     },
     "execution_count": 152,
     "metadata": {},
     "output_type": "execute_result"
    }
   ],
   "source": [
    "frame.isna().sum()"
   ]
  },
  {
   "cell_type": "markdown",
   "id": "3b67b41f",
   "metadata": {},
   "source": [
    "#### To check which values are not null"
   ]
  },
  {
   "cell_type": "code",
   "execution_count": 153,
   "id": "9dcd755d",
   "metadata": {},
   "outputs": [
    {
     "data": {
      "text/plain": [
       "<bound method NDFrame._add_numeric_operations.<locals>.sum of    Name   Age  Profession  Income  Job Site  Experience  Residence\n",
       "0  True  True        True    True      True        True       True\n",
       "1  True  True        True    True      True        True       True\n",
       "2  True  True        True    True      True        True       True\n",
       "3  True  True        True    True      True        True      False\n",
       "4  True  True        True    True      True        True       True\n",
       "5  True  True        True    True      True        True      False>"
      ]
     },
     "execution_count": 153,
     "metadata": {},
     "output_type": "execute_result"
    }
   ],
   "source": [
    "(~frame.isna()).sum"
   ]
  },
  {
   "cell_type": "markdown",
   "id": "2bfc665d",
   "metadata": {},
   "source": [
    "#### Taking values out of it"
   ]
  },
  {
   "cell_type": "code",
   "execution_count": 154,
   "id": "80c50beb",
   "metadata": {},
   "outputs": [
    {
     "data": {
      "text/html": [
       "<div>\n",
       "<style scoped>\n",
       "    .dataframe tbody tr th:only-of-type {\n",
       "        vertical-align: middle;\n",
       "    }\n",
       "\n",
       "    .dataframe tbody tr th {\n",
       "        vertical-align: top;\n",
       "    }\n",
       "\n",
       "    .dataframe thead th {\n",
       "        text-align: right;\n",
       "    }\n",
       "</style>\n",
       "<table border=\"1\" class=\"dataframe\">\n",
       "  <thead>\n",
       "    <tr style=\"text-align: right;\">\n",
       "      <th></th>\n",
       "      <th>Name</th>\n",
       "      <th>Age</th>\n",
       "      <th>Profession</th>\n",
       "      <th>Income</th>\n",
       "      <th>Job Site</th>\n",
       "      <th>Experience</th>\n",
       "      <th>Residence</th>\n",
       "    </tr>\n",
       "  </thead>\n",
       "  <tbody>\n",
       "    <tr>\n",
       "      <th>1</th>\n",
       "      <td>Imran</td>\n",
       "      <td>0</td>\n",
       "      <td>Constructor</td>\n",
       "      <td>40000</td>\n",
       "      <td>Shipyard</td>\n",
       "      <td>10</td>\n",
       "      <td>Hongkong</td>\n",
       "    </tr>\n",
       "  </tbody>\n",
       "</table>\n",
       "</div>"
      ],
      "text/plain": [
       "    Name  Age   Profession  Income  Job Site  Experience Residence\n",
       "1  Imran    0  Constructor   40000  Shipyard          10  Hongkong"
      ]
     },
     "execution_count": 154,
     "metadata": {},
     "output_type": "execute_result"
    }
   ],
   "source": [
    "frame[frame['Income']==40000]"
   ]
  },
  {
   "cell_type": "code",
   "execution_count": 155,
   "id": "6aa21047",
   "metadata": {},
   "outputs": [
    {
     "data": {
      "text/html": [
       "<div>\n",
       "<style scoped>\n",
       "    .dataframe tbody tr th:only-of-type {\n",
       "        vertical-align: middle;\n",
       "    }\n",
       "\n",
       "    .dataframe tbody tr th {\n",
       "        vertical-align: top;\n",
       "    }\n",
       "\n",
       "    .dataframe thead th {\n",
       "        text-align: right;\n",
       "    }\n",
       "</style>\n",
       "<table border=\"1\" class=\"dataframe\">\n",
       "  <thead>\n",
       "    <tr style=\"text-align: right;\">\n",
       "      <th></th>\n",
       "      <th>Name</th>\n",
       "      <th>Age</th>\n",
       "      <th>Profession</th>\n",
       "      <th>Income</th>\n",
       "      <th>Job Site</th>\n",
       "      <th>Experience</th>\n",
       "      <th>Residence</th>\n",
       "    </tr>\n",
       "  </thead>\n",
       "  <tbody>\n",
       "    <tr>\n",
       "      <th>3</th>\n",
       "      <td>Moein</td>\n",
       "      <td>45</td>\n",
       "      <td>Heart Surgeon</td>\n",
       "      <td>60000</td>\n",
       "      <td>Itly National Hospital</td>\n",
       "      <td>0</td>\n",
       "      <td>NaN</td>\n",
       "    </tr>\n",
       "    <tr>\n",
       "      <th>5</th>\n",
       "      <td>Danial</td>\n",
       "      <td>29</td>\n",
       "      <td>Racer</td>\n",
       "      <td>0</td>\n",
       "      <td>F1 Racing Arina</td>\n",
       "      <td>6</td>\n",
       "      <td>NaN</td>\n",
       "    </tr>\n",
       "  </tbody>\n",
       "</table>\n",
       "</div>"
      ],
      "text/plain": [
       "     Name  Age     Profession  Income                Job Site  Experience  \\\n",
       "3   Moein   45  Heart Surgeon   60000  Itly National Hospital           0   \n",
       "5  Danial   29          Racer       0         F1 Racing Arina           6   \n",
       "\n",
       "  Residence  \n",
       "3       NaN  \n",
       "5       NaN  "
      ]
     },
     "execution_count": 155,
     "metadata": {},
     "output_type": "execute_result"
    }
   ],
   "source": [
    "frame[frame['Residence'].isna()]"
   ]
  },
  {
   "cell_type": "markdown",
   "id": "8b680721",
   "metadata": {},
   "source": [
    "#### Filling the 'Nan' slot for a single column"
   ]
  },
  {
   "cell_type": "code",
   "execution_count": 156,
   "id": "e80acf8a",
   "metadata": {},
   "outputs": [
    {
     "data": {
      "text/plain": [
       "0       U.S.A\n",
       "1    Hongkong\n",
       "2     England\n",
       "3           0\n",
       "4      France\n",
       "5           0\n",
       "Name: Residence, dtype: object"
      ]
     },
     "execution_count": 156,
     "metadata": {},
     "output_type": "execute_result"
    }
   ],
   "source": [
    "frame['Residence'].fillna(0)"
   ]
  },
  {
   "cell_type": "code",
   "execution_count": 157,
   "id": "4bd4423e",
   "metadata": {},
   "outputs": [
    {
     "data": {
      "text/html": [
       "<div>\n",
       "<style scoped>\n",
       "    .dataframe tbody tr th:only-of-type {\n",
       "        vertical-align: middle;\n",
       "    }\n",
       "\n",
       "    .dataframe tbody tr th {\n",
       "        vertical-align: top;\n",
       "    }\n",
       "\n",
       "    .dataframe thead th {\n",
       "        text-align: right;\n",
       "    }\n",
       "</style>\n",
       "<table border=\"1\" class=\"dataframe\">\n",
       "  <thead>\n",
       "    <tr style=\"text-align: right;\">\n",
       "      <th></th>\n",
       "      <th>Name</th>\n",
       "      <th>Age</th>\n",
       "      <th>Profession</th>\n",
       "      <th>Income</th>\n",
       "      <th>Job Site</th>\n",
       "      <th>Experience</th>\n",
       "      <th>Residence</th>\n",
       "    </tr>\n",
       "  </thead>\n",
       "  <tbody>\n",
       "    <tr>\n",
       "      <th>3</th>\n",
       "      <td>Moein</td>\n",
       "      <td>45</td>\n",
       "      <td>Heart Surgeon</td>\n",
       "      <td>60000</td>\n",
       "      <td>Itly National Hospital</td>\n",
       "      <td>0</td>\n",
       "      <td>NaN</td>\n",
       "    </tr>\n",
       "    <tr>\n",
       "      <th>5</th>\n",
       "      <td>Danial</td>\n",
       "      <td>29</td>\n",
       "      <td>Racer</td>\n",
       "      <td>0</td>\n",
       "      <td>F1 Racing Arina</td>\n",
       "      <td>6</td>\n",
       "      <td>NaN</td>\n",
       "    </tr>\n",
       "  </tbody>\n",
       "</table>\n",
       "</div>"
      ],
      "text/plain": [
       "     Name  Age     Profession  Income                Job Site  Experience  \\\n",
       "3   Moein   45  Heart Surgeon   60000  Itly National Hospital           0   \n",
       "5  Danial   29          Racer       0         F1 Racing Arina           6   \n",
       "\n",
       "  Residence  \n",
       "3       NaN  \n",
       "5       NaN  "
      ]
     },
     "execution_count": 157,
     "metadata": {},
     "output_type": "execute_result"
    }
   ],
   "source": [
    "frame[frame['Residence'].isna()]"
   ]
  },
  {
   "cell_type": "markdown",
   "id": "27677725",
   "metadata": {},
   "source": [
    "#### Filling 'Nan' slot for all over the dataframe"
   ]
  },
  {
   "cell_type": "markdown",
   "id": "01daf22d",
   "metadata": {},
   "source": [
    "* Most of the \"Nan\" related functions are \"not inplace\" and can be inplace by 'inplace=True' but the following function is \"inplace\" function by default!"
   ]
  },
  {
   "cell_type": "code",
   "execution_count": 158,
   "id": "bd0ef926",
   "metadata": {},
   "outputs": [
    {
     "data": {
      "text/html": [
       "<div>\n",
       "<style scoped>\n",
       "    .dataframe tbody tr th:only-of-type {\n",
       "        vertical-align: middle;\n",
       "    }\n",
       "\n",
       "    .dataframe tbody tr th {\n",
       "        vertical-align: top;\n",
       "    }\n",
       "\n",
       "    .dataframe thead th {\n",
       "        text-align: right;\n",
       "    }\n",
       "</style>\n",
       "<table border=\"1\" class=\"dataframe\">\n",
       "  <thead>\n",
       "    <tr style=\"text-align: right;\">\n",
       "      <th></th>\n",
       "      <th>Name</th>\n",
       "      <th>Age</th>\n",
       "      <th>Profession</th>\n",
       "      <th>Income</th>\n",
       "      <th>Job Site</th>\n",
       "      <th>Experience</th>\n",
       "      <th>Residence</th>\n",
       "    </tr>\n",
       "  </thead>\n",
       "  <tbody>\n",
       "    <tr>\n",
       "      <th>0</th>\n",
       "      <td>Kashif</td>\n",
       "      <td>63</td>\n",
       "      <td>Mechanical Engineer</td>\n",
       "      <td>55000</td>\n",
       "      <td>Freelancing</td>\n",
       "      <td>5</td>\n",
       "      <td>U.S.A</td>\n",
       "    </tr>\n",
       "    <tr>\n",
       "      <th>1</th>\n",
       "      <td>Imran</td>\n",
       "      <td>0</td>\n",
       "      <td>Constructor</td>\n",
       "      <td>40000</td>\n",
       "      <td>Shipyard</td>\n",
       "      <td>10</td>\n",
       "      <td>Hongkong</td>\n",
       "    </tr>\n",
       "    <tr>\n",
       "      <th>2</th>\n",
       "      <td>0</td>\n",
       "      <td>38</td>\n",
       "      <td>Insructor</td>\n",
       "      <td>10000</td>\n",
       "      <td>Gym</td>\n",
       "      <td>4</td>\n",
       "      <td>England</td>\n",
       "    </tr>\n",
       "    <tr>\n",
       "      <th>3</th>\n",
       "      <td>Moein</td>\n",
       "      <td>45</td>\n",
       "      <td>Heart Surgeon</td>\n",
       "      <td>60000</td>\n",
       "      <td>Itly National Hospital</td>\n",
       "      <td>0</td>\n",
       "      <td>0</td>\n",
       "    </tr>\n",
       "    <tr>\n",
       "      <th>4</th>\n",
       "      <td>Shafiq</td>\n",
       "      <td>58</td>\n",
       "      <td>0</td>\n",
       "      <td>0</td>\n",
       "      <td>Airport</td>\n",
       "      <td>8</td>\n",
       "      <td>France</td>\n",
       "    </tr>\n",
       "    <tr>\n",
       "      <th>5</th>\n",
       "      <td>Danial</td>\n",
       "      <td>29</td>\n",
       "      <td>Racer</td>\n",
       "      <td>0</td>\n",
       "      <td>F1 Racing Arina</td>\n",
       "      <td>6</td>\n",
       "      <td>0</td>\n",
       "    </tr>\n",
       "  </tbody>\n",
       "</table>\n",
       "</div>"
      ],
      "text/plain": [
       "     Name  Age           Profession  Income                Job Site  \\\n",
       "0  Kashif   63  Mechanical Engineer   55000             Freelancing   \n",
       "1   Imran    0          Constructor   40000                Shipyard   \n",
       "2       0   38            Insructor   10000                     Gym   \n",
       "3   Moein   45        Heart Surgeon   60000  Itly National Hospital   \n",
       "4  Shafiq   58                    0       0                 Airport   \n",
       "5  Danial   29                Racer       0         F1 Racing Arina   \n",
       "\n",
       "   Experience Residence  \n",
       "0           5     U.S.A  \n",
       "1          10  Hongkong  \n",
       "2           4   England  \n",
       "3           0         0  \n",
       "4           8    France  \n",
       "5           6         0  "
      ]
     },
     "execution_count": 158,
     "metadata": {},
     "output_type": "execute_result"
    }
   ],
   "source": [
    "frame.fillna(0,inplace=False)"
   ]
  },
  {
   "cell_type": "code",
   "execution_count": 159,
   "id": "aa9cee03",
   "metadata": {},
   "outputs": [
    {
     "data": {
      "text/html": [
       "<div>\n",
       "<style scoped>\n",
       "    .dataframe tbody tr th:only-of-type {\n",
       "        vertical-align: middle;\n",
       "    }\n",
       "\n",
       "    .dataframe tbody tr th {\n",
       "        vertical-align: top;\n",
       "    }\n",
       "\n",
       "    .dataframe thead th {\n",
       "        text-align: right;\n",
       "    }\n",
       "</style>\n",
       "<table border=\"1\" class=\"dataframe\">\n",
       "  <thead>\n",
       "    <tr style=\"text-align: right;\">\n",
       "      <th></th>\n",
       "      <th>Name</th>\n",
       "      <th>Age</th>\n",
       "      <th>Profession</th>\n",
       "      <th>Income</th>\n",
       "      <th>Job Site</th>\n",
       "      <th>Experience</th>\n",
       "      <th>Residence</th>\n",
       "    </tr>\n",
       "  </thead>\n",
       "  <tbody>\n",
       "    <tr>\n",
       "      <th>0</th>\n",
       "      <td>Kashif</td>\n",
       "      <td>63</td>\n",
       "      <td>Mechanical Engineer</td>\n",
       "      <td>55000</td>\n",
       "      <td>Freelancing</td>\n",
       "      <td>5</td>\n",
       "      <td>U.S.A</td>\n",
       "    </tr>\n",
       "    <tr>\n",
       "      <th>1</th>\n",
       "      <td>Imran</td>\n",
       "      <td>0</td>\n",
       "      <td>Constructor</td>\n",
       "      <td>40000</td>\n",
       "      <td>Shipyard</td>\n",
       "      <td>10</td>\n",
       "      <td>Hongkong</td>\n",
       "    </tr>\n",
       "    <tr>\n",
       "      <th>2</th>\n",
       "      <td>0</td>\n",
       "      <td>38</td>\n",
       "      <td>Insructor</td>\n",
       "      <td>10000</td>\n",
       "      <td>Gym</td>\n",
       "      <td>4</td>\n",
       "      <td>England</td>\n",
       "    </tr>\n",
       "    <tr>\n",
       "      <th>3</th>\n",
       "      <td>Moein</td>\n",
       "      <td>45</td>\n",
       "      <td>Heart Surgeon</td>\n",
       "      <td>60000</td>\n",
       "      <td>Itly National Hospital</td>\n",
       "      <td>0</td>\n",
       "      <td>NaN</td>\n",
       "    </tr>\n",
       "    <tr>\n",
       "      <th>4</th>\n",
       "      <td>Shafiq</td>\n",
       "      <td>58</td>\n",
       "      <td>0</td>\n",
       "      <td>0</td>\n",
       "      <td>Airport</td>\n",
       "      <td>8</td>\n",
       "      <td>France</td>\n",
       "    </tr>\n",
       "    <tr>\n",
       "      <th>5</th>\n",
       "      <td>Danial</td>\n",
       "      <td>29</td>\n",
       "      <td>Racer</td>\n",
       "      <td>0</td>\n",
       "      <td>F1 Racing Arina</td>\n",
       "      <td>6</td>\n",
       "      <td>NaN</td>\n",
       "    </tr>\n",
       "  </tbody>\n",
       "</table>\n",
       "</div>"
      ],
      "text/plain": [
       "     Name  Age           Profession  Income                Job Site  \\\n",
       "0  Kashif   63  Mechanical Engineer   55000             Freelancing   \n",
       "1   Imran    0          Constructor   40000                Shipyard   \n",
       "2       0   38            Insructor   10000                     Gym   \n",
       "3   Moein   45        Heart Surgeon   60000  Itly National Hospital   \n",
       "4  Shafiq   58                    0       0                 Airport   \n",
       "5  Danial   29                Racer       0         F1 Racing Arina   \n",
       "\n",
       "   Experience Residence  \n",
       "0           5     U.S.A  \n",
       "1          10  Hongkong  \n",
       "2           4   England  \n",
       "3           0       NaN  \n",
       "4           8    France  \n",
       "5           6       NaN  "
      ]
     },
     "execution_count": 159,
     "metadata": {},
     "output_type": "execute_result"
    }
   ],
   "source": [
    "frame"
   ]
  },
  {
   "cell_type": "markdown",
   "id": "32527bb8",
   "metadata": {},
   "source": [
    "#### Filling  \"Nan\" slot by the above data\n",
    "* The slots which contains \"Nan\" will take the value of the above slot!\n",
    "* \"ffill\" means forward fill."
   ]
  },
  {
   "cell_type": "code",
   "execution_count": 160,
   "id": "d7bf99fd",
   "metadata": {},
   "outputs": [
    {
     "data": {
      "text/html": [
       "<div>\n",
       "<style scoped>\n",
       "    .dataframe tbody tr th:only-of-type {\n",
       "        vertical-align: middle;\n",
       "    }\n",
       "\n",
       "    .dataframe tbody tr th {\n",
       "        vertical-align: top;\n",
       "    }\n",
       "\n",
       "    .dataframe thead th {\n",
       "        text-align: right;\n",
       "    }\n",
       "</style>\n",
       "<table border=\"1\" class=\"dataframe\">\n",
       "  <thead>\n",
       "    <tr style=\"text-align: right;\">\n",
       "      <th></th>\n",
       "      <th>Name</th>\n",
       "      <th>Age</th>\n",
       "      <th>Profession</th>\n",
       "      <th>Income</th>\n",
       "      <th>Job Site</th>\n",
       "      <th>Experience</th>\n",
       "      <th>Residence</th>\n",
       "    </tr>\n",
       "  </thead>\n",
       "  <tbody>\n",
       "    <tr>\n",
       "      <th>0</th>\n",
       "      <td>Kashif</td>\n",
       "      <td>63</td>\n",
       "      <td>Mechanical Engineer</td>\n",
       "      <td>55000</td>\n",
       "      <td>Freelancing</td>\n",
       "      <td>5</td>\n",
       "      <td>U.S.A</td>\n",
       "    </tr>\n",
       "    <tr>\n",
       "      <th>1</th>\n",
       "      <td>Imran</td>\n",
       "      <td>0</td>\n",
       "      <td>Constructor</td>\n",
       "      <td>40000</td>\n",
       "      <td>Shipyard</td>\n",
       "      <td>10</td>\n",
       "      <td>Hongkong</td>\n",
       "    </tr>\n",
       "    <tr>\n",
       "      <th>2</th>\n",
       "      <td>0</td>\n",
       "      <td>38</td>\n",
       "      <td>Insructor</td>\n",
       "      <td>10000</td>\n",
       "      <td>Gym</td>\n",
       "      <td>4</td>\n",
       "      <td>England</td>\n",
       "    </tr>\n",
       "    <tr>\n",
       "      <th>3</th>\n",
       "      <td>Moein</td>\n",
       "      <td>45</td>\n",
       "      <td>Heart Surgeon</td>\n",
       "      <td>60000</td>\n",
       "      <td>Itly National Hospital</td>\n",
       "      <td>0</td>\n",
       "      <td>England</td>\n",
       "    </tr>\n",
       "    <tr>\n",
       "      <th>4</th>\n",
       "      <td>Shafiq</td>\n",
       "      <td>58</td>\n",
       "      <td>0</td>\n",
       "      <td>0</td>\n",
       "      <td>Airport</td>\n",
       "      <td>8</td>\n",
       "      <td>France</td>\n",
       "    </tr>\n",
       "    <tr>\n",
       "      <th>5</th>\n",
       "      <td>Danial</td>\n",
       "      <td>29</td>\n",
       "      <td>Racer</td>\n",
       "      <td>0</td>\n",
       "      <td>F1 Racing Arina</td>\n",
       "      <td>6</td>\n",
       "      <td>France</td>\n",
       "    </tr>\n",
       "  </tbody>\n",
       "</table>\n",
       "</div>"
      ],
      "text/plain": [
       "     Name  Age           Profession  Income                Job Site  \\\n",
       "0  Kashif   63  Mechanical Engineer   55000             Freelancing   \n",
       "1   Imran    0          Constructor   40000                Shipyard   \n",
       "2       0   38            Insructor   10000                     Gym   \n",
       "3   Moein   45        Heart Surgeon   60000  Itly National Hospital   \n",
       "4  Shafiq   58                    0       0                 Airport   \n",
       "5  Danial   29                Racer       0         F1 Racing Arina   \n",
       "\n",
       "   Experience Residence  \n",
       "0           5     U.S.A  \n",
       "1          10  Hongkong  \n",
       "2           4   England  \n",
       "3           0   England  \n",
       "4           8    France  \n",
       "5           6    France  "
      ]
     },
     "execution_count": 160,
     "metadata": {},
     "output_type": "execute_result"
    }
   ],
   "source": [
    "frame.fillna(method=\"ffill\")"
   ]
  },
  {
   "cell_type": "markdown",
   "id": "7c5084e0",
   "metadata": {},
   "source": [
    "* Can also metion the limit, so after reaching the limit it will not proceed further \"Forward Filling\"!"
   ]
  },
  {
   "cell_type": "code",
   "execution_count": 161,
   "id": "e9da9a56",
   "metadata": {},
   "outputs": [
    {
     "data": {
      "text/html": [
       "<div>\n",
       "<style scoped>\n",
       "    .dataframe tbody tr th:only-of-type {\n",
       "        vertical-align: middle;\n",
       "    }\n",
       "\n",
       "    .dataframe tbody tr th {\n",
       "        vertical-align: top;\n",
       "    }\n",
       "\n",
       "    .dataframe thead th {\n",
       "        text-align: right;\n",
       "    }\n",
       "</style>\n",
       "<table border=\"1\" class=\"dataframe\">\n",
       "  <thead>\n",
       "    <tr style=\"text-align: right;\">\n",
       "      <th></th>\n",
       "      <th>Name</th>\n",
       "      <th>Age</th>\n",
       "      <th>Profession</th>\n",
       "      <th>Income</th>\n",
       "      <th>Job Site</th>\n",
       "      <th>Experience</th>\n",
       "      <th>Residence</th>\n",
       "    </tr>\n",
       "  </thead>\n",
       "  <tbody>\n",
       "    <tr>\n",
       "      <th>0</th>\n",
       "      <td>Kashif</td>\n",
       "      <td>63</td>\n",
       "      <td>Mechanical Engineer</td>\n",
       "      <td>55000</td>\n",
       "      <td>Freelancing</td>\n",
       "      <td>5</td>\n",
       "      <td>U.S.A</td>\n",
       "    </tr>\n",
       "    <tr>\n",
       "      <th>1</th>\n",
       "      <td>Imran</td>\n",
       "      <td>0</td>\n",
       "      <td>Constructor</td>\n",
       "      <td>40000</td>\n",
       "      <td>Shipyard</td>\n",
       "      <td>10</td>\n",
       "      <td>Hongkong</td>\n",
       "    </tr>\n",
       "    <tr>\n",
       "      <th>2</th>\n",
       "      <td>0</td>\n",
       "      <td>38</td>\n",
       "      <td>Insructor</td>\n",
       "      <td>10000</td>\n",
       "      <td>Gym</td>\n",
       "      <td>4</td>\n",
       "      <td>England</td>\n",
       "    </tr>\n",
       "    <tr>\n",
       "      <th>3</th>\n",
       "      <td>Moein</td>\n",
       "      <td>45</td>\n",
       "      <td>Heart Surgeon</td>\n",
       "      <td>60000</td>\n",
       "      <td>Itly National Hospital</td>\n",
       "      <td>0</td>\n",
       "      <td>England</td>\n",
       "    </tr>\n",
       "    <tr>\n",
       "      <th>4</th>\n",
       "      <td>Shafiq</td>\n",
       "      <td>58</td>\n",
       "      <td>0</td>\n",
       "      <td>0</td>\n",
       "      <td>Airport</td>\n",
       "      <td>8</td>\n",
       "      <td>France</td>\n",
       "    </tr>\n",
       "    <tr>\n",
       "      <th>5</th>\n",
       "      <td>Danial</td>\n",
       "      <td>29</td>\n",
       "      <td>Racer</td>\n",
       "      <td>0</td>\n",
       "      <td>F1 Racing Arina</td>\n",
       "      <td>6</td>\n",
       "      <td>France</td>\n",
       "    </tr>\n",
       "  </tbody>\n",
       "</table>\n",
       "</div>"
      ],
      "text/plain": [
       "     Name  Age           Profession  Income                Job Site  \\\n",
       "0  Kashif   63  Mechanical Engineer   55000             Freelancing   \n",
       "1   Imran    0          Constructor   40000                Shipyard   \n",
       "2       0   38            Insructor   10000                     Gym   \n",
       "3   Moein   45        Heart Surgeon   60000  Itly National Hospital   \n",
       "4  Shafiq   58                    0       0                 Airport   \n",
       "5  Danial   29                Racer       0         F1 Racing Arina   \n",
       "\n",
       "   Experience Residence  \n",
       "0           5     U.S.A  \n",
       "1          10  Hongkong  \n",
       "2           4   England  \n",
       "3           0   England  \n",
       "4           8    France  \n",
       "5           6    France  "
      ]
     },
     "execution_count": 161,
     "metadata": {},
     "output_type": "execute_result"
    }
   ],
   "source": [
    "frame.fillna(method=\"ffill\",limit=1)"
   ]
  },
  {
   "cell_type": "markdown",
   "id": "3a93404e",
   "metadata": {},
   "source": [
    "#### Dropping \"Nan\"\n",
    "* It drops the entire row which has \"Nan\" Value"
   ]
  },
  {
   "cell_type": "code",
   "execution_count": 162,
   "id": "4857be27",
   "metadata": {},
   "outputs": [
    {
     "data": {
      "text/html": [
       "<div>\n",
       "<style scoped>\n",
       "    .dataframe tbody tr th:only-of-type {\n",
       "        vertical-align: middle;\n",
       "    }\n",
       "\n",
       "    .dataframe tbody tr th {\n",
       "        vertical-align: top;\n",
       "    }\n",
       "\n",
       "    .dataframe thead th {\n",
       "        text-align: right;\n",
       "    }\n",
       "</style>\n",
       "<table border=\"1\" class=\"dataframe\">\n",
       "  <thead>\n",
       "    <tr style=\"text-align: right;\">\n",
       "      <th></th>\n",
       "      <th>Name</th>\n",
       "      <th>Age</th>\n",
       "      <th>Profession</th>\n",
       "      <th>Income</th>\n",
       "      <th>Job Site</th>\n",
       "      <th>Experience</th>\n",
       "      <th>Residence</th>\n",
       "    </tr>\n",
       "  </thead>\n",
       "  <tbody>\n",
       "    <tr>\n",
       "      <th>0</th>\n",
       "      <td>Kashif</td>\n",
       "      <td>63</td>\n",
       "      <td>Mechanical Engineer</td>\n",
       "      <td>55000</td>\n",
       "      <td>Freelancing</td>\n",
       "      <td>5</td>\n",
       "      <td>U.S.A</td>\n",
       "    </tr>\n",
       "    <tr>\n",
       "      <th>1</th>\n",
       "      <td>Imran</td>\n",
       "      <td>0</td>\n",
       "      <td>Constructor</td>\n",
       "      <td>40000</td>\n",
       "      <td>Shipyard</td>\n",
       "      <td>10</td>\n",
       "      <td>Hongkong</td>\n",
       "    </tr>\n",
       "    <tr>\n",
       "      <th>2</th>\n",
       "      <td>0</td>\n",
       "      <td>38</td>\n",
       "      <td>Insructor</td>\n",
       "      <td>10000</td>\n",
       "      <td>Gym</td>\n",
       "      <td>4</td>\n",
       "      <td>England</td>\n",
       "    </tr>\n",
       "    <tr>\n",
       "      <th>4</th>\n",
       "      <td>Shafiq</td>\n",
       "      <td>58</td>\n",
       "      <td>0</td>\n",
       "      <td>0</td>\n",
       "      <td>Airport</td>\n",
       "      <td>8</td>\n",
       "      <td>France</td>\n",
       "    </tr>\n",
       "  </tbody>\n",
       "</table>\n",
       "</div>"
      ],
      "text/plain": [
       "     Name  Age           Profession  Income     Job Site  Experience Residence\n",
       "0  Kashif   63  Mechanical Engineer   55000  Freelancing           5     U.S.A\n",
       "1   Imran    0          Constructor   40000     Shipyard          10  Hongkong\n",
       "2       0   38            Insructor   10000          Gym           4   England\n",
       "4  Shafiq   58                    0       0      Airport           8    France"
      ]
     },
     "execution_count": 162,
     "metadata": {},
     "output_type": "execute_result"
    }
   ],
   "source": [
    "frame.dropna()"
   ]
  },
  {
   "cell_type": "markdown",
   "id": "43cc1eb7",
   "metadata": {},
   "source": [
    "#### Applying Conditions For Dropping\n",
    "* Condion for dropping can be apply by using \"how\"\n",
    "* If we do \"how=all\" it will not drop the row until all of the row is \"Nan\""
   ]
  },
  {
   "cell_type": "code",
   "execution_count": 163,
   "id": "33cad17f",
   "metadata": {},
   "outputs": [
    {
     "data": {
      "text/html": [
       "<div>\n",
       "<style scoped>\n",
       "    .dataframe tbody tr th:only-of-type {\n",
       "        vertical-align: middle;\n",
       "    }\n",
       "\n",
       "    .dataframe tbody tr th {\n",
       "        vertical-align: top;\n",
       "    }\n",
       "\n",
       "    .dataframe thead th {\n",
       "        text-align: right;\n",
       "    }\n",
       "</style>\n",
       "<table border=\"1\" class=\"dataframe\">\n",
       "  <thead>\n",
       "    <tr style=\"text-align: right;\">\n",
       "      <th></th>\n",
       "      <th>Name</th>\n",
       "      <th>Age</th>\n",
       "      <th>Profession</th>\n",
       "      <th>Income</th>\n",
       "      <th>Job Site</th>\n",
       "      <th>Experience</th>\n",
       "      <th>Residence</th>\n",
       "    </tr>\n",
       "  </thead>\n",
       "  <tbody>\n",
       "    <tr>\n",
       "      <th>0</th>\n",
       "      <td>Kashif</td>\n",
       "      <td>63</td>\n",
       "      <td>Mechanical Engineer</td>\n",
       "      <td>55000</td>\n",
       "      <td>Freelancing</td>\n",
       "      <td>5</td>\n",
       "      <td>U.S.A</td>\n",
       "    </tr>\n",
       "    <tr>\n",
       "      <th>1</th>\n",
       "      <td>Imran</td>\n",
       "      <td>0</td>\n",
       "      <td>Constructor</td>\n",
       "      <td>40000</td>\n",
       "      <td>Shipyard</td>\n",
       "      <td>10</td>\n",
       "      <td>Hongkong</td>\n",
       "    </tr>\n",
       "    <tr>\n",
       "      <th>2</th>\n",
       "      <td>0</td>\n",
       "      <td>38</td>\n",
       "      <td>Insructor</td>\n",
       "      <td>10000</td>\n",
       "      <td>Gym</td>\n",
       "      <td>4</td>\n",
       "      <td>England</td>\n",
       "    </tr>\n",
       "    <tr>\n",
       "      <th>3</th>\n",
       "      <td>Moein</td>\n",
       "      <td>45</td>\n",
       "      <td>Heart Surgeon</td>\n",
       "      <td>60000</td>\n",
       "      <td>Itly National Hospital</td>\n",
       "      <td>0</td>\n",
       "      <td>NaN</td>\n",
       "    </tr>\n",
       "    <tr>\n",
       "      <th>4</th>\n",
       "      <td>Shafiq</td>\n",
       "      <td>58</td>\n",
       "      <td>0</td>\n",
       "      <td>0</td>\n",
       "      <td>Airport</td>\n",
       "      <td>8</td>\n",
       "      <td>France</td>\n",
       "    </tr>\n",
       "    <tr>\n",
       "      <th>5</th>\n",
       "      <td>Danial</td>\n",
       "      <td>29</td>\n",
       "      <td>Racer</td>\n",
       "      <td>0</td>\n",
       "      <td>F1 Racing Arina</td>\n",
       "      <td>6</td>\n",
       "      <td>NaN</td>\n",
       "    </tr>\n",
       "  </tbody>\n",
       "</table>\n",
       "</div>"
      ],
      "text/plain": [
       "     Name  Age           Profession  Income                Job Site  \\\n",
       "0  Kashif   63  Mechanical Engineer   55000             Freelancing   \n",
       "1   Imran    0          Constructor   40000                Shipyard   \n",
       "2       0   38            Insructor   10000                     Gym   \n",
       "3   Moein   45        Heart Surgeon   60000  Itly National Hospital   \n",
       "4  Shafiq   58                    0       0                 Airport   \n",
       "5  Danial   29                Racer       0         F1 Racing Arina   \n",
       "\n",
       "   Experience Residence  \n",
       "0           5     U.S.A  \n",
       "1          10  Hongkong  \n",
       "2           4   England  \n",
       "3           0       NaN  \n",
       "4           8    France  \n",
       "5           6       NaN  "
      ]
     },
     "execution_count": 163,
     "metadata": {},
     "output_type": "execute_result"
    }
   ],
   "source": [
    "frame.dropna(how='all')"
   ]
  },
  {
   "cell_type": "markdown",
   "id": "49efed26",
   "metadata": {},
   "source": [
    "#### Applying Threshold Condition\n",
    "* Threshold is also a function by which we can apply a certain condition of skipping \"NA\" rows!\n",
    "* In the code line below, \"thresh=1\" means the function will not drop \"NA\" there is atleast one column without \"NA\" in a single row. If the row only consist of \"NA\" then it will drop!"
   ]
  },
  {
   "cell_type": "code",
   "execution_count": 164,
   "id": "72f2b402",
   "metadata": {},
   "outputs": [
    {
     "data": {
      "text/html": [
       "<div>\n",
       "<style scoped>\n",
       "    .dataframe tbody tr th:only-of-type {\n",
       "        vertical-align: middle;\n",
       "    }\n",
       "\n",
       "    .dataframe tbody tr th {\n",
       "        vertical-align: top;\n",
       "    }\n",
       "\n",
       "    .dataframe thead th {\n",
       "        text-align: right;\n",
       "    }\n",
       "</style>\n",
       "<table border=\"1\" class=\"dataframe\">\n",
       "  <thead>\n",
       "    <tr style=\"text-align: right;\">\n",
       "      <th></th>\n",
       "      <th>Name</th>\n",
       "      <th>Age</th>\n",
       "      <th>Profession</th>\n",
       "      <th>Income</th>\n",
       "      <th>Job Site</th>\n",
       "      <th>Experience</th>\n",
       "      <th>Residence</th>\n",
       "    </tr>\n",
       "  </thead>\n",
       "  <tbody>\n",
       "    <tr>\n",
       "      <th>0</th>\n",
       "      <td>Kashif</td>\n",
       "      <td>63</td>\n",
       "      <td>Mechanical Engineer</td>\n",
       "      <td>55000</td>\n",
       "      <td>Freelancing</td>\n",
       "      <td>5</td>\n",
       "      <td>U.S.A</td>\n",
       "    </tr>\n",
       "    <tr>\n",
       "      <th>1</th>\n",
       "      <td>Imran</td>\n",
       "      <td>0</td>\n",
       "      <td>Constructor</td>\n",
       "      <td>40000</td>\n",
       "      <td>Shipyard</td>\n",
       "      <td>10</td>\n",
       "      <td>Hongkong</td>\n",
       "    </tr>\n",
       "    <tr>\n",
       "      <th>2</th>\n",
       "      <td>0</td>\n",
       "      <td>38</td>\n",
       "      <td>Insructor</td>\n",
       "      <td>10000</td>\n",
       "      <td>Gym</td>\n",
       "      <td>4</td>\n",
       "      <td>England</td>\n",
       "    </tr>\n",
       "    <tr>\n",
       "      <th>3</th>\n",
       "      <td>Moein</td>\n",
       "      <td>45</td>\n",
       "      <td>Heart Surgeon</td>\n",
       "      <td>60000</td>\n",
       "      <td>Itly National Hospital</td>\n",
       "      <td>0</td>\n",
       "      <td>NaN</td>\n",
       "    </tr>\n",
       "    <tr>\n",
       "      <th>4</th>\n",
       "      <td>Shafiq</td>\n",
       "      <td>58</td>\n",
       "      <td>0</td>\n",
       "      <td>0</td>\n",
       "      <td>Airport</td>\n",
       "      <td>8</td>\n",
       "      <td>France</td>\n",
       "    </tr>\n",
       "    <tr>\n",
       "      <th>5</th>\n",
       "      <td>Danial</td>\n",
       "      <td>29</td>\n",
       "      <td>Racer</td>\n",
       "      <td>0</td>\n",
       "      <td>F1 Racing Arina</td>\n",
       "      <td>6</td>\n",
       "      <td>NaN</td>\n",
       "    </tr>\n",
       "  </tbody>\n",
       "</table>\n",
       "</div>"
      ],
      "text/plain": [
       "     Name  Age           Profession  Income                Job Site  \\\n",
       "0  Kashif   63  Mechanical Engineer   55000             Freelancing   \n",
       "1   Imran    0          Constructor   40000                Shipyard   \n",
       "2       0   38            Insructor   10000                     Gym   \n",
       "3   Moein   45        Heart Surgeon   60000  Itly National Hospital   \n",
       "4  Shafiq   58                    0       0                 Airport   \n",
       "5  Danial   29                Racer       0         F1 Racing Arina   \n",
       "\n",
       "   Experience Residence  \n",
       "0           5     U.S.A  \n",
       "1          10  Hongkong  \n",
       "2           4   England  \n",
       "3           0       NaN  \n",
       "4           8    France  \n",
       "5           6       NaN  "
      ]
     },
     "execution_count": 164,
     "metadata": {},
     "output_type": "execute_result"
    }
   ],
   "source": [
    "frame.dropna(thresh=1)"
   ]
  },
  {
   "cell_type": "markdown",
   "id": "1011e7a8",
   "metadata": {},
   "source": [
    "* Now it will drop!"
   ]
  },
  {
   "cell_type": "code",
   "execution_count": 165,
   "id": "e21a91cd",
   "metadata": {},
   "outputs": [
    {
     "data": {
      "text/html": [
       "<div>\n",
       "<style scoped>\n",
       "    .dataframe tbody tr th:only-of-type {\n",
       "        vertical-align: middle;\n",
       "    }\n",
       "\n",
       "    .dataframe tbody tr th {\n",
       "        vertical-align: top;\n",
       "    }\n",
       "\n",
       "    .dataframe thead th {\n",
       "        text-align: right;\n",
       "    }\n",
       "</style>\n",
       "<table border=\"1\" class=\"dataframe\">\n",
       "  <thead>\n",
       "    <tr style=\"text-align: right;\">\n",
       "      <th></th>\n",
       "      <th>Name</th>\n",
       "      <th>Age</th>\n",
       "      <th>Profession</th>\n",
       "      <th>Income</th>\n",
       "      <th>Job Site</th>\n",
       "      <th>Experience</th>\n",
       "      <th>Residence</th>\n",
       "    </tr>\n",
       "  </thead>\n",
       "  <tbody>\n",
       "    <tr>\n",
       "      <th>0</th>\n",
       "      <td>Kashif</td>\n",
       "      <td>63</td>\n",
       "      <td>Mechanical Engineer</td>\n",
       "      <td>55000</td>\n",
       "      <td>Freelancing</td>\n",
       "      <td>5</td>\n",
       "      <td>U.S.A</td>\n",
       "    </tr>\n",
       "    <tr>\n",
       "      <th>1</th>\n",
       "      <td>Imran</td>\n",
       "      <td>0</td>\n",
       "      <td>Constructor</td>\n",
       "      <td>40000</td>\n",
       "      <td>Shipyard</td>\n",
       "      <td>10</td>\n",
       "      <td>Hongkong</td>\n",
       "    </tr>\n",
       "    <tr>\n",
       "      <th>2</th>\n",
       "      <td>0</td>\n",
       "      <td>38</td>\n",
       "      <td>Insructor</td>\n",
       "      <td>10000</td>\n",
       "      <td>Gym</td>\n",
       "      <td>4</td>\n",
       "      <td>England</td>\n",
       "    </tr>\n",
       "    <tr>\n",
       "      <th>4</th>\n",
       "      <td>Shafiq</td>\n",
       "      <td>58</td>\n",
       "      <td>0</td>\n",
       "      <td>0</td>\n",
       "      <td>Airport</td>\n",
       "      <td>8</td>\n",
       "      <td>France</td>\n",
       "    </tr>\n",
       "  </tbody>\n",
       "</table>\n",
       "</div>"
      ],
      "text/plain": [
       "     Name  Age           Profession  Income     Job Site  Experience Residence\n",
       "0  Kashif   63  Mechanical Engineer   55000  Freelancing           5     U.S.A\n",
       "1   Imran    0          Constructor   40000     Shipyard          10  Hongkong\n",
       "2       0   38            Insructor   10000          Gym           4   England\n",
       "4  Shafiq   58                    0       0      Airport           8    France"
      ]
     },
     "execution_count": 165,
     "metadata": {},
     "output_type": "execute_result"
    }
   ],
   "source": [
    "frame.dropna(thresh=7)"
   ]
  },
  {
   "cell_type": "markdown",
   "id": "43a221ec",
   "metadata": {},
   "source": [
    "* We can also mention the axis!"
   ]
  },
  {
   "cell_type": "code",
   "execution_count": 166,
   "id": "0c20d3a7",
   "metadata": {},
   "outputs": [
    {
     "data": {
      "text/html": [
       "<div>\n",
       "<style scoped>\n",
       "    .dataframe tbody tr th:only-of-type {\n",
       "        vertical-align: middle;\n",
       "    }\n",
       "\n",
       "    .dataframe tbody tr th {\n",
       "        vertical-align: top;\n",
       "    }\n",
       "\n",
       "    .dataframe thead th {\n",
       "        text-align: right;\n",
       "    }\n",
       "</style>\n",
       "<table border=\"1\" class=\"dataframe\">\n",
       "  <thead>\n",
       "    <tr style=\"text-align: right;\">\n",
       "      <th></th>\n",
       "      <th>Name</th>\n",
       "      <th>Age</th>\n",
       "      <th>Profession</th>\n",
       "      <th>Income</th>\n",
       "      <th>Job Site</th>\n",
       "      <th>Experience</th>\n",
       "    </tr>\n",
       "  </thead>\n",
       "  <tbody>\n",
       "    <tr>\n",
       "      <th>0</th>\n",
       "      <td>Kashif</td>\n",
       "      <td>63</td>\n",
       "      <td>Mechanical Engineer</td>\n",
       "      <td>55000</td>\n",
       "      <td>Freelancing</td>\n",
       "      <td>5</td>\n",
       "    </tr>\n",
       "    <tr>\n",
       "      <th>1</th>\n",
       "      <td>Imran</td>\n",
       "      <td>0</td>\n",
       "      <td>Constructor</td>\n",
       "      <td>40000</td>\n",
       "      <td>Shipyard</td>\n",
       "      <td>10</td>\n",
       "    </tr>\n",
       "    <tr>\n",
       "      <th>2</th>\n",
       "      <td>0</td>\n",
       "      <td>38</td>\n",
       "      <td>Insructor</td>\n",
       "      <td>10000</td>\n",
       "      <td>Gym</td>\n",
       "      <td>4</td>\n",
       "    </tr>\n",
       "    <tr>\n",
       "      <th>3</th>\n",
       "      <td>Moein</td>\n",
       "      <td>45</td>\n",
       "      <td>Heart Surgeon</td>\n",
       "      <td>60000</td>\n",
       "      <td>Itly National Hospital</td>\n",
       "      <td>0</td>\n",
       "    </tr>\n",
       "    <tr>\n",
       "      <th>4</th>\n",
       "      <td>Shafiq</td>\n",
       "      <td>58</td>\n",
       "      <td>0</td>\n",
       "      <td>0</td>\n",
       "      <td>Airport</td>\n",
       "      <td>8</td>\n",
       "    </tr>\n",
       "    <tr>\n",
       "      <th>5</th>\n",
       "      <td>Danial</td>\n",
       "      <td>29</td>\n",
       "      <td>Racer</td>\n",
       "      <td>0</td>\n",
       "      <td>F1 Racing Arina</td>\n",
       "      <td>6</td>\n",
       "    </tr>\n",
       "  </tbody>\n",
       "</table>\n",
       "</div>"
      ],
      "text/plain": [
       "     Name  Age           Profession  Income                Job Site  \\\n",
       "0  Kashif   63  Mechanical Engineer   55000             Freelancing   \n",
       "1   Imran    0          Constructor   40000                Shipyard   \n",
       "2       0   38            Insructor   10000                     Gym   \n",
       "3   Moein   45        Heart Surgeon   60000  Itly National Hospital   \n",
       "4  Shafiq   58                    0       0                 Airport   \n",
       "5  Danial   29                Racer       0         F1 Racing Arina   \n",
       "\n",
       "   Experience  \n",
       "0           5  \n",
       "1          10  \n",
       "2           4  \n",
       "3           0  \n",
       "4           8  \n",
       "5           6  "
      ]
     },
     "execution_count": 166,
     "metadata": {},
     "output_type": "execute_result"
    }
   ],
   "source": [
    "frame.dropna(thresh=5,axis=1)"
   ]
  },
  {
   "cell_type": "markdown",
   "id": "de40ff45",
   "metadata": {},
   "source": [
    "#### Dropping Duplicate Data\n",
    "* Suppose there is same data in multiple slots then dropping them will make the DataFrame much easier to understand!\n",
    "* To show the example of \"Dropping Duplicate Data\" I am using a DataFrame \"info\" which is in the beginning of this \"Jupyter File\"!"
   ]
  },
  {
   "cell_type": "code",
   "execution_count": 167,
   "id": "eebd09b2",
   "metadata": {},
   "outputs": [
    {
     "data": {
      "text/html": [
       "<div>\n",
       "<style scoped>\n",
       "    .dataframe tbody tr th:only-of-type {\n",
       "        vertical-align: middle;\n",
       "    }\n",
       "\n",
       "    .dataframe tbody tr th {\n",
       "        vertical-align: top;\n",
       "    }\n",
       "\n",
       "    .dataframe thead th {\n",
       "        text-align: right;\n",
       "    }\n",
       "</style>\n",
       "<table border=\"1\" class=\"dataframe\">\n",
       "  <thead>\n",
       "    <tr style=\"text-align: right;\">\n",
       "      <th></th>\n",
       "      <th>Teams</th>\n",
       "      <th>Matches</th>\n",
       "      <th>Win</th>\n",
       "      <th>Loss</th>\n",
       "      <th>NRR</th>\n",
       "      <th>Points</th>\n",
       "    </tr>\n",
       "  </thead>\n",
       "  <tbody>\n",
       "    <tr>\n",
       "      <th>1</th>\n",
       "      <td>Peshawar</td>\n",
       "      <td>8</td>\n",
       "      <td>6</td>\n",
       "      <td>2</td>\n",
       "      <td>2.550</td>\n",
       "      <td>12</td>\n",
       "    </tr>\n",
       "    <tr>\n",
       "      <th>2</th>\n",
       "      <td>Islamabad</td>\n",
       "      <td>8</td>\n",
       "      <td>6</td>\n",
       "      <td>2</td>\n",
       "      <td>1.861</td>\n",
       "      <td>12</td>\n",
       "    </tr>\n",
       "    <tr>\n",
       "      <th>3</th>\n",
       "      <td>Quetta</td>\n",
       "      <td>8</td>\n",
       "      <td>5</td>\n",
       "      <td>3</td>\n",
       "      <td>0.347</td>\n",
       "      <td>10</td>\n",
       "    </tr>\n",
       "    <tr>\n",
       "      <th>4</th>\n",
       "      <td>Karachi</td>\n",
       "      <td>8</td>\n",
       "      <td>4</td>\n",
       "      <td>4</td>\n",
       "      <td>0.002</td>\n",
       "      <td>8</td>\n",
       "    </tr>\n",
       "    <tr>\n",
       "      <th>5</th>\n",
       "      <td>Lahore</td>\n",
       "      <td>8</td>\n",
       "      <td>2</td>\n",
       "      <td>6</td>\n",
       "      <td>-0.012</td>\n",
       "      <td>4</td>\n",
       "    </tr>\n",
       "    <tr>\n",
       "      <th>6</th>\n",
       "      <td>Multan</td>\n",
       "      <td>8</td>\n",
       "      <td>1</td>\n",
       "      <td>7</td>\n",
       "      <td>-0.001</td>\n",
       "      <td>2</td>\n",
       "    </tr>\n",
       "  </tbody>\n",
       "</table>\n",
       "</div>"
      ],
      "text/plain": [
       "       Teams  Matches  Win  Loss    NRR  Points\n",
       "1   Peshawar        8    6     2  2.550      12\n",
       "2  Islamabad        8    6     2  1.861      12\n",
       "3     Quetta        8    5     3  0.347      10\n",
       "4    Karachi        8    4     4  0.002       8\n",
       "5     Lahore        8    2     6 -0.012       4\n",
       "6     Multan        8    1     7 -0.001       2"
      ]
     },
     "execution_count": 167,
     "metadata": {},
     "output_type": "execute_result"
    }
   ],
   "source": [
    "info"
   ]
  },
  {
   "cell_type": "code",
   "execution_count": 168,
   "id": "974c94af",
   "metadata": {},
   "outputs": [
    {
     "data": {
      "text/html": [
       "<div>\n",
       "<style scoped>\n",
       "    .dataframe tbody tr th:only-of-type {\n",
       "        vertical-align: middle;\n",
       "    }\n",
       "\n",
       "    .dataframe tbody tr th {\n",
       "        vertical-align: top;\n",
       "    }\n",
       "\n",
       "    .dataframe thead th {\n",
       "        text-align: right;\n",
       "    }\n",
       "</style>\n",
       "<table border=\"1\" class=\"dataframe\">\n",
       "  <thead>\n",
       "    <tr style=\"text-align: right;\">\n",
       "      <th></th>\n",
       "      <th>Teams</th>\n",
       "      <th>Matches</th>\n",
       "      <th>Win</th>\n",
       "      <th>Loss</th>\n",
       "      <th>NRR</th>\n",
       "      <th>Points</th>\n",
       "    </tr>\n",
       "  </thead>\n",
       "  <tbody>\n",
       "    <tr>\n",
       "      <th>1</th>\n",
       "      <td>Peshawar</td>\n",
       "      <td>8</td>\n",
       "      <td>6</td>\n",
       "      <td>2</td>\n",
       "      <td>2.550</td>\n",
       "      <td>12</td>\n",
       "    </tr>\n",
       "    <tr>\n",
       "      <th>3</th>\n",
       "      <td>Quetta</td>\n",
       "      <td>8</td>\n",
       "      <td>5</td>\n",
       "      <td>3</td>\n",
       "      <td>0.347</td>\n",
       "      <td>10</td>\n",
       "    </tr>\n",
       "    <tr>\n",
       "      <th>4</th>\n",
       "      <td>Karachi</td>\n",
       "      <td>8</td>\n",
       "      <td>4</td>\n",
       "      <td>4</td>\n",
       "      <td>0.002</td>\n",
       "      <td>8</td>\n",
       "    </tr>\n",
       "    <tr>\n",
       "      <th>5</th>\n",
       "      <td>Lahore</td>\n",
       "      <td>8</td>\n",
       "      <td>2</td>\n",
       "      <td>6</td>\n",
       "      <td>-0.012</td>\n",
       "      <td>4</td>\n",
       "    </tr>\n",
       "    <tr>\n",
       "      <th>6</th>\n",
       "      <td>Multan</td>\n",
       "      <td>8</td>\n",
       "      <td>1</td>\n",
       "      <td>7</td>\n",
       "      <td>-0.001</td>\n",
       "      <td>2</td>\n",
       "    </tr>\n",
       "  </tbody>\n",
       "</table>\n",
       "</div>"
      ],
      "text/plain": [
       "      Teams  Matches  Win  Loss    NRR  Points\n",
       "1  Peshawar        8    6     2  2.550      12\n",
       "3    Quetta        8    5     3  0.347      10\n",
       "4   Karachi        8    4     4  0.002       8\n",
       "5    Lahore        8    2     6 -0.012       4\n",
       "6    Multan        8    1     7 -0.001       2"
      ]
     },
     "execution_count": 168,
     "metadata": {},
     "output_type": "execute_result"
    }
   ],
   "source": [
    "info.drop_duplicates('Points')"
   ]
  },
  {
   "cell_type": "markdown",
   "id": "aff53ba9",
   "metadata": {},
   "source": [
    "* By default it starts to search from top to bottom (Well it's a interpreted language) by which the first duplicate value remains but all the others are gone, To keep the last duplicate value,"
   ]
  },
  {
   "cell_type": "code",
   "execution_count": 169,
   "id": "4d53663d",
   "metadata": {},
   "outputs": [
    {
     "data": {
      "text/html": [
       "<div>\n",
       "<style scoped>\n",
       "    .dataframe tbody tr th:only-of-type {\n",
       "        vertical-align: middle;\n",
       "    }\n",
       "\n",
       "    .dataframe tbody tr th {\n",
       "        vertical-align: top;\n",
       "    }\n",
       "\n",
       "    .dataframe thead th {\n",
       "        text-align: right;\n",
       "    }\n",
       "</style>\n",
       "<table border=\"1\" class=\"dataframe\">\n",
       "  <thead>\n",
       "    <tr style=\"text-align: right;\">\n",
       "      <th></th>\n",
       "      <th>Teams</th>\n",
       "      <th>Matches</th>\n",
       "      <th>Win</th>\n",
       "      <th>Loss</th>\n",
       "      <th>NRR</th>\n",
       "      <th>Points</th>\n",
       "    </tr>\n",
       "  </thead>\n",
       "  <tbody>\n",
       "    <tr>\n",
       "      <th>2</th>\n",
       "      <td>Islamabad</td>\n",
       "      <td>8</td>\n",
       "      <td>6</td>\n",
       "      <td>2</td>\n",
       "      <td>1.861</td>\n",
       "      <td>12</td>\n",
       "    </tr>\n",
       "    <tr>\n",
       "      <th>3</th>\n",
       "      <td>Quetta</td>\n",
       "      <td>8</td>\n",
       "      <td>5</td>\n",
       "      <td>3</td>\n",
       "      <td>0.347</td>\n",
       "      <td>10</td>\n",
       "    </tr>\n",
       "    <tr>\n",
       "      <th>4</th>\n",
       "      <td>Karachi</td>\n",
       "      <td>8</td>\n",
       "      <td>4</td>\n",
       "      <td>4</td>\n",
       "      <td>0.002</td>\n",
       "      <td>8</td>\n",
       "    </tr>\n",
       "    <tr>\n",
       "      <th>5</th>\n",
       "      <td>Lahore</td>\n",
       "      <td>8</td>\n",
       "      <td>2</td>\n",
       "      <td>6</td>\n",
       "      <td>-0.012</td>\n",
       "      <td>4</td>\n",
       "    </tr>\n",
       "    <tr>\n",
       "      <th>6</th>\n",
       "      <td>Multan</td>\n",
       "      <td>8</td>\n",
       "      <td>1</td>\n",
       "      <td>7</td>\n",
       "      <td>-0.001</td>\n",
       "      <td>2</td>\n",
       "    </tr>\n",
       "  </tbody>\n",
       "</table>\n",
       "</div>"
      ],
      "text/plain": [
       "       Teams  Matches  Win  Loss    NRR  Points\n",
       "2  Islamabad        8    6     2  1.861      12\n",
       "3     Quetta        8    5     3  0.347      10\n",
       "4    Karachi        8    4     4  0.002       8\n",
       "5     Lahore        8    2     6 -0.012       4\n",
       "6     Multan        8    1     7 -0.001       2"
      ]
     },
     "execution_count": 169,
     "metadata": {},
     "output_type": "execute_result"
    }
   ],
   "source": [
    "info.drop_duplicates('Points',keep=\"last\")"
   ]
  },
  {
   "cell_type": "markdown",
   "id": "2a913a7b",
   "metadata": {},
   "source": [
    "## Conerting Data-Frame to \"Standard Read File\"\n",
    "First we have to import 'sys'"
   ]
  },
  {
   "cell_type": "code",
   "execution_count": 170,
   "id": "b6044526",
   "metadata": {},
   "outputs": [],
   "source": [
    "import sys"
   ]
  },
  {
   "cell_type": "code",
   "execution_count": 171,
   "id": "6151409c",
   "metadata": {},
   "outputs": [
    {
     "name": "stdout",
     "output_type": "stream",
     "text": [
      ",Name,Age,Profession,Income,Job Site,Experience,Residence\r\n",
      "0,Kashif,63,Mechanical Engineer,55000,Freelancing,5,U.S.A\r\n",
      "1,Imran,0,Constructor,40000,Shipyard,10,Hongkong\r\n",
      "2,0,38,Insructor,10000,Gym,4,England\r\n",
      "3,Moein,45,Heart Surgeon,60000,Itly National Hospital,0,\r\n",
      "4,Shafiq,58,0,0,Airport,8,France\r\n",
      "5,Danial,29,Racer,0,F1 Racing Arina,6,\r\n"
     ]
    }
   ],
   "source": [
    "frame.to_csv(sys.stdout)"
   ]
  },
  {
   "cell_type": "markdown",
   "id": "86378b56",
   "metadata": {},
   "source": [
    "## Mentioning Separator\n",
    "Separator can be anything!"
   ]
  },
  {
   "cell_type": "code",
   "execution_count": 172,
   "id": "1ee2a7e1",
   "metadata": {},
   "outputs": [
    {
     "name": "stdout",
     "output_type": "stream",
     "text": [
      "~Name~Age~Profession~Income~Job Site~Experience~Residence\r\n",
      "0~Kashif~63~Mechanical Engineer~55000~Freelancing~5~U.S.A\r\n",
      "1~Imran~0~Constructor~40000~Shipyard~10~Hongkong\r\n",
      "2~0~38~Insructor~10000~Gym~4~England\r\n",
      "3~Moein~45~Heart Surgeon~60000~Itly National Hospital~0~\r\n",
      "4~Shafiq~58~0~0~Airport~8~France\r\n",
      "5~Danial~29~Racer~0~F1 Racing Arina~6~\r\n"
     ]
    }
   ],
   "source": [
    "frame.to_csv(sys.stdout,sep='~')"
   ]
  },
  {
   "cell_type": "code",
   "execution_count": 173,
   "id": "c93ac7db",
   "metadata": {},
   "outputs": [
    {
     "name": "stdout",
     "output_type": "stream",
     "text": [
      "*Name*Age*Profession*Income*Job Site*Experience*Residence\r\n",
      "0*Kashif*63*Mechanical Engineer*55000*Freelancing*5*U.S.A\r\n",
      "1*Imran*0*Constructor*40000*Shipyard*10*Hongkong\r\n",
      "2*0*38*Insructor*10000*Gym*4*England\r\n",
      "3*Moein*45*Heart Surgeon*60000*Itly National Hospital*0*\r\n",
      "4*Shafiq*58*0*0*Airport*8*France\r\n",
      "5*Danial*29*Racer*0*F1 Racing Arina*6*\r\n"
     ]
    }
   ],
   "source": [
    "frame.to_csv(sys.stdout,sep='*')"
   ]
  },
  {
   "cell_type": "markdown",
   "id": "c0d0b4a0",
   "metadata": {},
   "source": [
    "#### Tab Separated"
   ]
  },
  {
   "cell_type": "code",
   "execution_count": 174,
   "id": "a6d6540b",
   "metadata": {},
   "outputs": [
    {
     "name": "stdout",
     "output_type": "stream",
     "text": [
      "\tName\tAge\tProfession\tIncome\tJob Site\tExperience\tResidence\r\n",
      "0\tKashif\t63\tMechanical Engineer\t55000\tFreelancing\t5\tU.S.A\r\n",
      "1\tImran\t0\tConstructor\t40000\tShipyard\t10\tHongkong\r\n",
      "2\t0\t38\tInsructor\t10000\tGym\t4\tEngland\r\n",
      "3\tMoein\t45\tHeart Surgeon\t60000\tItly National Hospital\t0\t\r\n",
      "4\tShafiq\t58\t0\t0\tAirport\t8\tFrance\r\n",
      "5\tDanial\t29\tRacer\t0\tF1 Racing Arina\t6\t\r\n"
     ]
    }
   ],
   "source": [
    "frame.to_csv(sys.stdout,sep='\\t')"
   ]
  },
  {
   "cell_type": "markdown",
   "id": "63c0ba5e",
   "metadata": {},
   "source": [
    "## Applying Funtion on a Single or Specific column"
   ]
  },
  {
   "cell_type": "markdown",
   "id": "d6bdd6f9",
   "metadata": {},
   "source": [
    "#### Example # 1:"
   ]
  },
  {
   "cell_type": "code",
   "execution_count": 175,
   "id": "31ce1fbf",
   "metadata": {},
   "outputs": [
    {
     "data": {
      "text/html": [
       "<div>\n",
       "<style scoped>\n",
       "    .dataframe tbody tr th:only-of-type {\n",
       "        vertical-align: middle;\n",
       "    }\n",
       "\n",
       "    .dataframe tbody tr th {\n",
       "        vertical-align: top;\n",
       "    }\n",
       "\n",
       "    .dataframe thead th {\n",
       "        text-align: right;\n",
       "    }\n",
       "</style>\n",
       "<table border=\"1\" class=\"dataframe\">\n",
       "  <thead>\n",
       "    <tr style=\"text-align: right;\">\n",
       "      <th></th>\n",
       "      <th>Name</th>\n",
       "      <th>Age</th>\n",
       "      <th>Profession</th>\n",
       "      <th>Income</th>\n",
       "      <th>Job Site</th>\n",
       "      <th>Experience</th>\n",
       "      <th>Residence</th>\n",
       "    </tr>\n",
       "  </thead>\n",
       "  <tbody>\n",
       "    <tr>\n",
       "      <th>0</th>\n",
       "      <td>Kashif</td>\n",
       "      <td>63</td>\n",
       "      <td>Mechanical Engineer</td>\n",
       "      <td>55000</td>\n",
       "      <td>Freelancing</td>\n",
       "      <td>5</td>\n",
       "      <td>U.S.A</td>\n",
       "    </tr>\n",
       "    <tr>\n",
       "      <th>1</th>\n",
       "      <td>Imran</td>\n",
       "      <td>0</td>\n",
       "      <td>Constructor</td>\n",
       "      <td>40000</td>\n",
       "      <td>Shipyard</td>\n",
       "      <td>10</td>\n",
       "      <td>Hongkong</td>\n",
       "    </tr>\n",
       "    <tr>\n",
       "      <th>2</th>\n",
       "      <td>0</td>\n",
       "      <td>38</td>\n",
       "      <td>Insructor</td>\n",
       "      <td>10000</td>\n",
       "      <td>Gym</td>\n",
       "      <td>4</td>\n",
       "      <td>England</td>\n",
       "    </tr>\n",
       "    <tr>\n",
       "      <th>3</th>\n",
       "      <td>Moein</td>\n",
       "      <td>45</td>\n",
       "      <td>Heart Surgeon</td>\n",
       "      <td>60000</td>\n",
       "      <td>Itly National Hospital</td>\n",
       "      <td>0</td>\n",
       "      <td>NaN</td>\n",
       "    </tr>\n",
       "    <tr>\n",
       "      <th>4</th>\n",
       "      <td>Shafiq</td>\n",
       "      <td>58</td>\n",
       "      <td>0</td>\n",
       "      <td>0</td>\n",
       "      <td>Airport</td>\n",
       "      <td>8</td>\n",
       "      <td>France</td>\n",
       "    </tr>\n",
       "    <tr>\n",
       "      <th>5</th>\n",
       "      <td>Danial</td>\n",
       "      <td>29</td>\n",
       "      <td>Racer</td>\n",
       "      <td>0</td>\n",
       "      <td>F1 Racing Arina</td>\n",
       "      <td>6</td>\n",
       "      <td>NaN</td>\n",
       "    </tr>\n",
       "  </tbody>\n",
       "</table>\n",
       "</div>"
      ],
      "text/plain": [
       "     Name  Age           Profession  Income                Job Site  \\\n",
       "0  Kashif   63  Mechanical Engineer   55000             Freelancing   \n",
       "1   Imran    0          Constructor   40000                Shipyard   \n",
       "2       0   38            Insructor   10000                     Gym   \n",
       "3   Moein   45        Heart Surgeon   60000  Itly National Hospital   \n",
       "4  Shafiq   58                    0       0                 Airport   \n",
       "5  Danial   29                Racer       0         F1 Racing Arina   \n",
       "\n",
       "   Experience Residence  \n",
       "0           5     U.S.A  \n",
       "1          10  Hongkong  \n",
       "2           4   England  \n",
       "3           0       NaN  \n",
       "4           8    France  \n",
       "5           6       NaN  "
      ]
     },
     "execution_count": 175,
     "metadata": {},
     "output_type": "execute_result"
    }
   ],
   "source": [
    "frame"
   ]
  },
  {
   "cell_type": "markdown",
   "id": "4529955c",
   "metadata": {},
   "source": [
    "* \"x\" in the code below is \"any number\"!\n",
    "* Adding \"300\" in \"Income\"."
   ]
  },
  {
   "cell_type": "code",
   "execution_count": 176,
   "id": "f47c75ca",
   "metadata": {},
   "outputs": [
    {
     "data": {
      "text/plain": [
       "0    183.333333\n",
       "1    133.333333\n",
       "2     33.333333\n",
       "3    200.000000\n",
       "4      0.000000\n",
       "5      0.000000\n",
       "Name: Income, dtype: float64"
      ]
     },
     "execution_count": 176,
     "metadata": {},
     "output_type": "execute_result"
    }
   ],
   "source": [
    "frame['Income'].apply(lambda x:x/(100*3))"
   ]
  },
  {
   "cell_type": "markdown",
   "id": "0d58d9fc",
   "metadata": {},
   "source": [
    "* Now we can add this new column in our DataFrame"
   ]
  },
  {
   "cell_type": "code",
   "execution_count": 177,
   "id": "05b36208",
   "metadata": {},
   "outputs": [],
   "source": [
    "frame['Rating'] = frame['Income'].apply(lambda x:x/(100*3))"
   ]
  },
  {
   "cell_type": "code",
   "execution_count": 178,
   "id": "d9a349de",
   "metadata": {},
   "outputs": [
    {
     "data": {
      "text/html": [
       "<div>\n",
       "<style scoped>\n",
       "    .dataframe tbody tr th:only-of-type {\n",
       "        vertical-align: middle;\n",
       "    }\n",
       "\n",
       "    .dataframe tbody tr th {\n",
       "        vertical-align: top;\n",
       "    }\n",
       "\n",
       "    .dataframe thead th {\n",
       "        text-align: right;\n",
       "    }\n",
       "</style>\n",
       "<table border=\"1\" class=\"dataframe\">\n",
       "  <thead>\n",
       "    <tr style=\"text-align: right;\">\n",
       "      <th></th>\n",
       "      <th>Name</th>\n",
       "      <th>Age</th>\n",
       "      <th>Profession</th>\n",
       "      <th>Income</th>\n",
       "      <th>Job Site</th>\n",
       "      <th>Experience</th>\n",
       "      <th>Residence</th>\n",
       "      <th>Rating</th>\n",
       "    </tr>\n",
       "  </thead>\n",
       "  <tbody>\n",
       "    <tr>\n",
       "      <th>0</th>\n",
       "      <td>Kashif</td>\n",
       "      <td>63</td>\n",
       "      <td>Mechanical Engineer</td>\n",
       "      <td>55000</td>\n",
       "      <td>Freelancing</td>\n",
       "      <td>5</td>\n",
       "      <td>U.S.A</td>\n",
       "      <td>183.333333</td>\n",
       "    </tr>\n",
       "    <tr>\n",
       "      <th>1</th>\n",
       "      <td>Imran</td>\n",
       "      <td>0</td>\n",
       "      <td>Constructor</td>\n",
       "      <td>40000</td>\n",
       "      <td>Shipyard</td>\n",
       "      <td>10</td>\n",
       "      <td>Hongkong</td>\n",
       "      <td>133.333333</td>\n",
       "    </tr>\n",
       "    <tr>\n",
       "      <th>2</th>\n",
       "      <td>0</td>\n",
       "      <td>38</td>\n",
       "      <td>Insructor</td>\n",
       "      <td>10000</td>\n",
       "      <td>Gym</td>\n",
       "      <td>4</td>\n",
       "      <td>England</td>\n",
       "      <td>33.333333</td>\n",
       "    </tr>\n",
       "    <tr>\n",
       "      <th>3</th>\n",
       "      <td>Moein</td>\n",
       "      <td>45</td>\n",
       "      <td>Heart Surgeon</td>\n",
       "      <td>60000</td>\n",
       "      <td>Itly National Hospital</td>\n",
       "      <td>0</td>\n",
       "      <td>NaN</td>\n",
       "      <td>200.000000</td>\n",
       "    </tr>\n",
       "    <tr>\n",
       "      <th>4</th>\n",
       "      <td>Shafiq</td>\n",
       "      <td>58</td>\n",
       "      <td>0</td>\n",
       "      <td>0</td>\n",
       "      <td>Airport</td>\n",
       "      <td>8</td>\n",
       "      <td>France</td>\n",
       "      <td>0.000000</td>\n",
       "    </tr>\n",
       "    <tr>\n",
       "      <th>5</th>\n",
       "      <td>Danial</td>\n",
       "      <td>29</td>\n",
       "      <td>Racer</td>\n",
       "      <td>0</td>\n",
       "      <td>F1 Racing Arina</td>\n",
       "      <td>6</td>\n",
       "      <td>NaN</td>\n",
       "      <td>0.000000</td>\n",
       "    </tr>\n",
       "  </tbody>\n",
       "</table>\n",
       "</div>"
      ],
      "text/plain": [
       "     Name  Age           Profession  Income                Job Site  \\\n",
       "0  Kashif   63  Mechanical Engineer   55000             Freelancing   \n",
       "1   Imran    0          Constructor   40000                Shipyard   \n",
       "2       0   38            Insructor   10000                     Gym   \n",
       "3   Moein   45        Heart Surgeon   60000  Itly National Hospital   \n",
       "4  Shafiq   58                    0       0                 Airport   \n",
       "5  Danial   29                Racer       0         F1 Racing Arina   \n",
       "\n",
       "   Experience Residence      Rating  \n",
       "0           5     U.S.A  183.333333  \n",
       "1          10  Hongkong  133.333333  \n",
       "2           4   England   33.333333  \n",
       "3           0       NaN  200.000000  \n",
       "4           8    France    0.000000  \n",
       "5           6       NaN    0.000000  "
      ]
     },
     "execution_count": 178,
     "metadata": {},
     "output_type": "execute_result"
    }
   ],
   "source": [
    "frame"
   ]
  },
  {
   "cell_type": "markdown",
   "id": "1c61d9de",
   "metadata": {},
   "source": [
    "#### Example # 2:\n",
    "* Now suppose I Have to check the minimum values b/w \"Age\" and \"Rating\"!\n",
    "* And also remember this DataFrame is an example, and I am using it just to clear your thought!"
   ]
  },
  {
   "cell_type": "code",
   "execution_count": 179,
   "id": "faa5738f",
   "metadata": {},
   "outputs": [
    {
     "data": {
      "text/html": [
       "<div>\n",
       "<style scoped>\n",
       "    .dataframe tbody tr th:only-of-type {\n",
       "        vertical-align: middle;\n",
       "    }\n",
       "\n",
       "    .dataframe tbody tr th {\n",
       "        vertical-align: top;\n",
       "    }\n",
       "\n",
       "    .dataframe thead th {\n",
       "        text-align: right;\n",
       "    }\n",
       "</style>\n",
       "<table border=\"1\" class=\"dataframe\">\n",
       "  <thead>\n",
       "    <tr style=\"text-align: right;\">\n",
       "      <th></th>\n",
       "      <th>Age</th>\n",
       "      <th>Rating</th>\n",
       "    </tr>\n",
       "  </thead>\n",
       "  <tbody>\n",
       "    <tr>\n",
       "      <th>0</th>\n",
       "      <td>63</td>\n",
       "      <td>183.333333</td>\n",
       "    </tr>\n",
       "    <tr>\n",
       "      <th>1</th>\n",
       "      <td>0</td>\n",
       "      <td>133.333333</td>\n",
       "    </tr>\n",
       "    <tr>\n",
       "      <th>2</th>\n",
       "      <td>38</td>\n",
       "      <td>33.333333</td>\n",
       "    </tr>\n",
       "    <tr>\n",
       "      <th>3</th>\n",
       "      <td>45</td>\n",
       "      <td>200.000000</td>\n",
       "    </tr>\n",
       "    <tr>\n",
       "      <th>4</th>\n",
       "      <td>58</td>\n",
       "      <td>0.000000</td>\n",
       "    </tr>\n",
       "    <tr>\n",
       "      <th>5</th>\n",
       "      <td>29</td>\n",
       "      <td>0.000000</td>\n",
       "    </tr>\n",
       "  </tbody>\n",
       "</table>\n",
       "</div>"
      ],
      "text/plain": [
       "   Age      Rating\n",
       "0   63  183.333333\n",
       "1    0  133.333333\n",
       "2   38   33.333333\n",
       "3   45  200.000000\n",
       "4   58    0.000000\n",
       "5   29    0.000000"
      ]
     },
     "execution_count": 179,
     "metadata": {},
     "output_type": "execute_result"
    }
   ],
   "source": [
    "frame[['Age','Rating']]"
   ]
  },
  {
   "cell_type": "code",
   "execution_count": 180,
   "id": "8efa1f0d",
   "metadata": {},
   "outputs": [],
   "source": [
    "def func(row):\n",
    "    if row['Age'] > row['Rating']:\n",
    "        return row['Rating']\n",
    "    else:\n",
    "        return row['Age']"
   ]
  },
  {
   "cell_type": "code",
   "execution_count": 181,
   "id": "74a34e59",
   "metadata": {
    "scrolled": true
   },
   "outputs": [
    {
     "data": {
      "text/plain": [
       "0    63.000000\n",
       "1     0.000000\n",
       "2    33.333333\n",
       "3    45.000000\n",
       "4     0.000000\n",
       "5     0.000000\n",
       "dtype: float64"
      ]
     },
     "execution_count": 181,
     "metadata": {},
     "output_type": "execute_result"
    }
   ],
   "source": [
    "frame.apply(func,axis=1)"
   ]
  },
  {
   "cell_type": "markdown",
   "id": "c3e9ad38",
   "metadata": {},
   "source": [
    "## Filtering  Outliers\n",
    "Outliers Meaning : An extremely high or extremely low data point relative to the nearest data point and the rest of the neighboring co-existing values in a data graph or dataset you're working with."
   ]
  },
  {
   "cell_type": "markdown",
   "id": "d4e6b211",
   "metadata": {},
   "source": [
    "### Methods\n",
    "There are two methods of filtering outliers"
   ]
  },
  {
   "cell_type": "markdown",
   "id": "f72a0dd2",
   "metadata": {},
   "source": [
    "### Method #1: By the formula (Not a very Efficient Method!)"
   ]
  },
  {
   "cell_type": "markdown",
   "id": "156b722b",
   "metadata": {},
   "source": [
    "##### For Example:\n",
    "Suppose There are 50 students in a class 48 students gets around 70 - 50 marks out of 100 as average, but the 49th one gets 2 marks and the 50th one gets 200 marks. Since both 49th and 50th get marks that are way ahead or way below the average marking then both considers as \"Outliers\"!"
   ]
  },
  {
   "cell_type": "markdown",
   "id": "84cd6e02",
   "metadata": {},
   "source": [
    "#### The Formula to filter \"Outliers\""
   ]
  },
  {
   "cell_type": "markdown",
   "id": "20a7591d",
   "metadata": {},
   "source": [
    "If the range of data is between \"(Mean of the data) + 3(Standard deviation)\" and \"(Mean of the data) - 3(Standard deviation)\" then it is not an outlier but if the range of data is exceeding or subceeding then it will count as an outlies!"
   ]
  },
  {
   "cell_type": "code",
   "execution_count": 182,
   "id": "d38cb1dc",
   "metadata": {},
   "outputs": [
    {
     "data": {
      "text/html": [
       "<div>\n",
       "<style scoped>\n",
       "    .dataframe tbody tr th:only-of-type {\n",
       "        vertical-align: middle;\n",
       "    }\n",
       "\n",
       "    .dataframe tbody tr th {\n",
       "        vertical-align: top;\n",
       "    }\n",
       "\n",
       "    .dataframe thead th {\n",
       "        text-align: right;\n",
       "    }\n",
       "</style>\n",
       "<table border=\"1\" class=\"dataframe\">\n",
       "  <thead>\n",
       "    <tr style=\"text-align: right;\">\n",
       "      <th></th>\n",
       "      <th>Name</th>\n",
       "      <th>Age</th>\n",
       "      <th>Profession</th>\n",
       "      <th>Income</th>\n",
       "      <th>Job Site</th>\n",
       "      <th>Experience</th>\n",
       "      <th>Residence</th>\n",
       "      <th>Rating</th>\n",
       "    </tr>\n",
       "  </thead>\n",
       "  <tbody>\n",
       "    <tr>\n",
       "      <th>0</th>\n",
       "      <td>Kashif</td>\n",
       "      <td>63</td>\n",
       "      <td>Mechanical Engineer</td>\n",
       "      <td>55000</td>\n",
       "      <td>Freelancing</td>\n",
       "      <td>5</td>\n",
       "      <td>U.S.A</td>\n",
       "      <td>183.333333</td>\n",
       "    </tr>\n",
       "    <tr>\n",
       "      <th>1</th>\n",
       "      <td>Imran</td>\n",
       "      <td>0</td>\n",
       "      <td>Constructor</td>\n",
       "      <td>40000</td>\n",
       "      <td>Shipyard</td>\n",
       "      <td>10</td>\n",
       "      <td>Hongkong</td>\n",
       "      <td>133.333333</td>\n",
       "    </tr>\n",
       "    <tr>\n",
       "      <th>2</th>\n",
       "      <td>0</td>\n",
       "      <td>38</td>\n",
       "      <td>Insructor</td>\n",
       "      <td>10000</td>\n",
       "      <td>Gym</td>\n",
       "      <td>4</td>\n",
       "      <td>England</td>\n",
       "      <td>33.333333</td>\n",
       "    </tr>\n",
       "    <tr>\n",
       "      <th>3</th>\n",
       "      <td>Moein</td>\n",
       "      <td>45</td>\n",
       "      <td>Heart Surgeon</td>\n",
       "      <td>60000</td>\n",
       "      <td>Itly National Hospital</td>\n",
       "      <td>0</td>\n",
       "      <td>NaN</td>\n",
       "      <td>200.000000</td>\n",
       "    </tr>\n",
       "    <tr>\n",
       "      <th>4</th>\n",
       "      <td>Shafiq</td>\n",
       "      <td>58</td>\n",
       "      <td>0</td>\n",
       "      <td>0</td>\n",
       "      <td>Airport</td>\n",
       "      <td>8</td>\n",
       "      <td>France</td>\n",
       "      <td>0.000000</td>\n",
       "    </tr>\n",
       "    <tr>\n",
       "      <th>5</th>\n",
       "      <td>Danial</td>\n",
       "      <td>29</td>\n",
       "      <td>Racer</td>\n",
       "      <td>0</td>\n",
       "      <td>F1 Racing Arina</td>\n",
       "      <td>6</td>\n",
       "      <td>NaN</td>\n",
       "      <td>0.000000</td>\n",
       "    </tr>\n",
       "  </tbody>\n",
       "</table>\n",
       "</div>"
      ],
      "text/plain": [
       "     Name  Age           Profession  Income                Job Site  \\\n",
       "0  Kashif   63  Mechanical Engineer   55000             Freelancing   \n",
       "1   Imran    0          Constructor   40000                Shipyard   \n",
       "2       0   38            Insructor   10000                     Gym   \n",
       "3   Moein   45        Heart Surgeon   60000  Itly National Hospital   \n",
       "4  Shafiq   58                    0       0                 Airport   \n",
       "5  Danial   29                Racer       0         F1 Racing Arina   \n",
       "\n",
       "   Experience Residence      Rating  \n",
       "0           5     U.S.A  183.333333  \n",
       "1          10  Hongkong  133.333333  \n",
       "2           4   England   33.333333  \n",
       "3           0       NaN  200.000000  \n",
       "4           8    France    0.000000  \n",
       "5           6       NaN    0.000000  "
      ]
     },
     "execution_count": 182,
     "metadata": {},
     "output_type": "execute_result"
    }
   ],
   "source": [
    "frame"
   ]
  },
  {
   "cell_type": "markdown",
   "id": "fe334eea",
   "metadata": {},
   "source": [
    "* Now suppose if I want to check the outliers in \"Income\"."
   ]
  },
  {
   "cell_type": "code",
   "execution_count": 183,
   "id": "bd20969c",
   "metadata": {},
   "outputs": [
    {
     "data": {
      "text/plain": [
       "27500.0"
      ]
     },
     "execution_count": 183,
     "metadata": {},
     "output_type": "execute_result"
    }
   ],
   "source": [
    "mean = frame['Income'].mean()\n",
    "mean"
   ]
  },
  {
   "cell_type": "code",
   "execution_count": 184,
   "id": "f4a137fc",
   "metadata": {},
   "outputs": [
    {
     "data": {
      "text/plain": [
       "27522.71788904577"
      ]
     },
     "execution_count": 184,
     "metadata": {},
     "output_type": "execute_result"
    }
   ],
   "source": [
    "std = frame['Income'].std()\n",
    "std"
   ]
  },
  {
   "cell_type": "code",
   "execution_count": 185,
   "id": "c02c804f",
   "metadata": {},
   "outputs": [],
   "source": [
    "upper_range = mean + 3*std"
   ]
  },
  {
   "cell_type": "code",
   "execution_count": 186,
   "id": "c4bf119a",
   "metadata": {},
   "outputs": [],
   "source": [
    "lower_range = mean - 3*std"
   ]
  },
  {
   "cell_type": "code",
   "execution_count": 187,
   "id": "e109977b",
   "metadata": {},
   "outputs": [
    {
     "data": {
      "text/html": [
       "<div>\n",
       "<style scoped>\n",
       "    .dataframe tbody tr th:only-of-type {\n",
       "        vertical-align: middle;\n",
       "    }\n",
       "\n",
       "    .dataframe tbody tr th {\n",
       "        vertical-align: top;\n",
       "    }\n",
       "\n",
       "    .dataframe thead th {\n",
       "        text-align: right;\n",
       "    }\n",
       "</style>\n",
       "<table border=\"1\" class=\"dataframe\">\n",
       "  <thead>\n",
       "    <tr style=\"text-align: right;\">\n",
       "      <th></th>\n",
       "      <th>Name</th>\n",
       "      <th>Age</th>\n",
       "      <th>Profession</th>\n",
       "      <th>Income</th>\n",
       "      <th>Job Site</th>\n",
       "      <th>Experience</th>\n",
       "      <th>Residence</th>\n",
       "      <th>Rating</th>\n",
       "    </tr>\n",
       "  </thead>\n",
       "  <tbody>\n",
       "    <tr>\n",
       "      <th>0</th>\n",
       "      <td>Kashif</td>\n",
       "      <td>63</td>\n",
       "      <td>Mechanical Engineer</td>\n",
       "      <td>55000</td>\n",
       "      <td>Freelancing</td>\n",
       "      <td>5</td>\n",
       "      <td>U.S.A</td>\n",
       "      <td>183.333333</td>\n",
       "    </tr>\n",
       "    <tr>\n",
       "      <th>1</th>\n",
       "      <td>Imran</td>\n",
       "      <td>0</td>\n",
       "      <td>Constructor</td>\n",
       "      <td>40000</td>\n",
       "      <td>Shipyard</td>\n",
       "      <td>10</td>\n",
       "      <td>Hongkong</td>\n",
       "      <td>133.333333</td>\n",
       "    </tr>\n",
       "    <tr>\n",
       "      <th>2</th>\n",
       "      <td>0</td>\n",
       "      <td>38</td>\n",
       "      <td>Insructor</td>\n",
       "      <td>10000</td>\n",
       "      <td>Gym</td>\n",
       "      <td>4</td>\n",
       "      <td>England</td>\n",
       "      <td>33.333333</td>\n",
       "    </tr>\n",
       "    <tr>\n",
       "      <th>3</th>\n",
       "      <td>Moein</td>\n",
       "      <td>45</td>\n",
       "      <td>Heart Surgeon</td>\n",
       "      <td>60000</td>\n",
       "      <td>Itly National Hospital</td>\n",
       "      <td>0</td>\n",
       "      <td>NaN</td>\n",
       "      <td>200.000000</td>\n",
       "    </tr>\n",
       "    <tr>\n",
       "      <th>4</th>\n",
       "      <td>Shafiq</td>\n",
       "      <td>58</td>\n",
       "      <td>0</td>\n",
       "      <td>0</td>\n",
       "      <td>Airport</td>\n",
       "      <td>8</td>\n",
       "      <td>France</td>\n",
       "      <td>0.000000</td>\n",
       "    </tr>\n",
       "    <tr>\n",
       "      <th>5</th>\n",
       "      <td>Danial</td>\n",
       "      <td>29</td>\n",
       "      <td>Racer</td>\n",
       "      <td>0</td>\n",
       "      <td>F1 Racing Arina</td>\n",
       "      <td>6</td>\n",
       "      <td>NaN</td>\n",
       "      <td>0.000000</td>\n",
       "    </tr>\n",
       "  </tbody>\n",
       "</table>\n",
       "</div>"
      ],
      "text/plain": [
       "     Name  Age           Profession  Income                Job Site  \\\n",
       "0  Kashif   63  Mechanical Engineer   55000             Freelancing   \n",
       "1   Imran    0          Constructor   40000                Shipyard   \n",
       "2       0   38            Insructor   10000                     Gym   \n",
       "3   Moein   45        Heart Surgeon   60000  Itly National Hospital   \n",
       "4  Shafiq   58                    0       0                 Airport   \n",
       "5  Danial   29                Racer       0         F1 Racing Arina   \n",
       "\n",
       "   Experience Residence      Rating  \n",
       "0           5     U.S.A  183.333333  \n",
       "1          10  Hongkong  133.333333  \n",
       "2           4   England   33.333333  \n",
       "3           0       NaN  200.000000  \n",
       "4           8    France    0.000000  \n",
       "5           6       NaN    0.000000  "
      ]
     },
     "execution_count": 187,
     "metadata": {},
     "output_type": "execute_result"
    }
   ],
   "source": [
    "filtered_data = frame[frame['Income'] < upper_range][frame['Income'] > lower_range]\n",
    "filtered_data"
   ]
  },
  {
   "cell_type": "markdown",
   "id": "d1246eee",
   "metadata": {},
   "source": [
    "### Method #2: By \"describe()\" (Efficient Method!)\n",
    "As we know \"discribe()\" describes the whole DataFrame so it will be easier to detect the outliers by using \"describe()\"!"
   ]
  },
  {
   "cell_type": "code",
   "execution_count": 188,
   "id": "3015565b",
   "metadata": {},
   "outputs": [
    {
     "data": {
      "text/html": [
       "<div>\n",
       "<style scoped>\n",
       "    .dataframe tbody tr th:only-of-type {\n",
       "        vertical-align: middle;\n",
       "    }\n",
       "\n",
       "    .dataframe tbody tr th {\n",
       "        vertical-align: top;\n",
       "    }\n",
       "\n",
       "    .dataframe thead th {\n",
       "        text-align: right;\n",
       "    }\n",
       "</style>\n",
       "<table border=\"1\" class=\"dataframe\">\n",
       "  <thead>\n",
       "    <tr style=\"text-align: right;\">\n",
       "      <th></th>\n",
       "      <th>Age</th>\n",
       "      <th>Income</th>\n",
       "      <th>Experience</th>\n",
       "      <th>Rating</th>\n",
       "    </tr>\n",
       "  </thead>\n",
       "  <tbody>\n",
       "    <tr>\n",
       "      <th>count</th>\n",
       "      <td>6.000000</td>\n",
       "      <td>6.000000</td>\n",
       "      <td>6.000000</td>\n",
       "      <td>6.000000</td>\n",
       "    </tr>\n",
       "    <tr>\n",
       "      <th>mean</th>\n",
       "      <td>38.833333</td>\n",
       "      <td>27500.000000</td>\n",
       "      <td>5.500000</td>\n",
       "      <td>91.666667</td>\n",
       "    </tr>\n",
       "    <tr>\n",
       "      <th>std</th>\n",
       "      <td>22.780840</td>\n",
       "      <td>27522.717889</td>\n",
       "      <td>3.449638</td>\n",
       "      <td>91.742393</td>\n",
       "    </tr>\n",
       "    <tr>\n",
       "      <th>min</th>\n",
       "      <td>0.000000</td>\n",
       "      <td>0.000000</td>\n",
       "      <td>0.000000</td>\n",
       "      <td>0.000000</td>\n",
       "    </tr>\n",
       "    <tr>\n",
       "      <th>25%</th>\n",
       "      <td>31.250000</td>\n",
       "      <td>2500.000000</td>\n",
       "      <td>4.250000</td>\n",
       "      <td>8.333333</td>\n",
       "    </tr>\n",
       "    <tr>\n",
       "      <th>50%</th>\n",
       "      <td>41.500000</td>\n",
       "      <td>25000.000000</td>\n",
       "      <td>5.500000</td>\n",
       "      <td>83.333333</td>\n",
       "    </tr>\n",
       "    <tr>\n",
       "      <th>75%</th>\n",
       "      <td>54.750000</td>\n",
       "      <td>51250.000000</td>\n",
       "      <td>7.500000</td>\n",
       "      <td>170.833333</td>\n",
       "    </tr>\n",
       "    <tr>\n",
       "      <th>max</th>\n",
       "      <td>63.000000</td>\n",
       "      <td>60000.000000</td>\n",
       "      <td>10.000000</td>\n",
       "      <td>200.000000</td>\n",
       "    </tr>\n",
       "  </tbody>\n",
       "</table>\n",
       "</div>"
      ],
      "text/plain": [
       "             Age        Income  Experience      Rating\n",
       "count   6.000000      6.000000    6.000000    6.000000\n",
       "mean   38.833333  27500.000000    5.500000   91.666667\n",
       "std    22.780840  27522.717889    3.449638   91.742393\n",
       "min     0.000000      0.000000    0.000000    0.000000\n",
       "25%    31.250000   2500.000000    4.250000    8.333333\n",
       "50%    41.500000  25000.000000    5.500000   83.333333\n",
       "75%    54.750000  51250.000000    7.500000  170.833333\n",
       "max    63.000000  60000.000000   10.000000  200.000000"
      ]
     },
     "execution_count": 188,
     "metadata": {},
     "output_type": "execute_result"
    }
   ],
   "source": [
    "frame.describe()"
   ]
  },
  {
   "cell_type": "markdown",
   "id": "7fc4a162",
   "metadata": {},
   "source": [
    "* If I want to check the outliers in \"Income\"\n",
    "* These are the \"outliers\" as there income is less then 20000 which is far below the average income of others in the DataFrame! "
   ]
  },
  {
   "cell_type": "code",
   "execution_count": 189,
   "id": "08a8c2f2",
   "metadata": {},
   "outputs": [
    {
     "data": {
      "text/html": [
       "<div>\n",
       "<style scoped>\n",
       "    .dataframe tbody tr th:only-of-type {\n",
       "        vertical-align: middle;\n",
       "    }\n",
       "\n",
       "    .dataframe tbody tr th {\n",
       "        vertical-align: top;\n",
       "    }\n",
       "\n",
       "    .dataframe thead th {\n",
       "        text-align: right;\n",
       "    }\n",
       "</style>\n",
       "<table border=\"1\" class=\"dataframe\">\n",
       "  <thead>\n",
       "    <tr style=\"text-align: right;\">\n",
       "      <th></th>\n",
       "      <th>Name</th>\n",
       "      <th>Age</th>\n",
       "      <th>Profession</th>\n",
       "      <th>Income</th>\n",
       "      <th>Job Site</th>\n",
       "      <th>Experience</th>\n",
       "      <th>Residence</th>\n",
       "      <th>Rating</th>\n",
       "    </tr>\n",
       "  </thead>\n",
       "  <tbody>\n",
       "    <tr>\n",
       "      <th>2</th>\n",
       "      <td>0</td>\n",
       "      <td>38</td>\n",
       "      <td>Insructor</td>\n",
       "      <td>10000</td>\n",
       "      <td>Gym</td>\n",
       "      <td>4</td>\n",
       "      <td>England</td>\n",
       "      <td>33.333333</td>\n",
       "    </tr>\n",
       "    <tr>\n",
       "      <th>4</th>\n",
       "      <td>Shafiq</td>\n",
       "      <td>58</td>\n",
       "      <td>0</td>\n",
       "      <td>0</td>\n",
       "      <td>Airport</td>\n",
       "      <td>8</td>\n",
       "      <td>France</td>\n",
       "      <td>0.000000</td>\n",
       "    </tr>\n",
       "    <tr>\n",
       "      <th>5</th>\n",
       "      <td>Danial</td>\n",
       "      <td>29</td>\n",
       "      <td>Racer</td>\n",
       "      <td>0</td>\n",
       "      <td>F1 Racing Arina</td>\n",
       "      <td>6</td>\n",
       "      <td>NaN</td>\n",
       "      <td>0.000000</td>\n",
       "    </tr>\n",
       "  </tbody>\n",
       "</table>\n",
       "</div>"
      ],
      "text/plain": [
       "     Name  Age Profession  Income         Job Site  Experience Residence  \\\n",
       "2       0   38  Insructor   10000              Gym           4   England   \n",
       "4  Shafiq   58          0       0          Airport           8    France   \n",
       "5  Danial   29      Racer       0  F1 Racing Arina           6       NaN   \n",
       "\n",
       "      Rating  \n",
       "2  33.333333  \n",
       "4   0.000000  \n",
       "5   0.000000  "
      ]
     },
     "execution_count": 189,
     "metadata": {},
     "output_type": "execute_result"
    }
   ],
   "source": [
    "frame[np.abs(frame['Income']<20000)]"
   ]
  },
  {
   "cell_type": "markdown",
   "id": "08d988a9",
   "metadata": {},
   "source": [
    "#### Filtering The \"Outliers\" By \"Capping\"!\n",
    "Capping is the method to give an average value of the entire column(in this case \"Income\") to the outliers so that they can stand by them! In the following line of code I am going to apply a where condition! Also I am not capping the mean of whole column to just make it as simple as possible."
   ]
  },
  {
   "cell_type": "code",
   "execution_count": 190,
   "id": "ee0cb9ab",
   "metadata": {},
   "outputs": [],
   "source": [
    "frame['Income'] = np.where(frame['Income'] < 20000, 20000, frame['Income'])"
   ]
  },
  {
   "cell_type": "code",
   "execution_count": 191,
   "id": "2fd979a1",
   "metadata": {},
   "outputs": [
    {
     "data": {
      "text/html": [
       "<div>\n",
       "<style scoped>\n",
       "    .dataframe tbody tr th:only-of-type {\n",
       "        vertical-align: middle;\n",
       "    }\n",
       "\n",
       "    .dataframe tbody tr th {\n",
       "        vertical-align: top;\n",
       "    }\n",
       "\n",
       "    .dataframe thead th {\n",
       "        text-align: right;\n",
       "    }\n",
       "</style>\n",
       "<table border=\"1\" class=\"dataframe\">\n",
       "  <thead>\n",
       "    <tr style=\"text-align: right;\">\n",
       "      <th></th>\n",
       "      <th>Name</th>\n",
       "      <th>Age</th>\n",
       "      <th>Profession</th>\n",
       "      <th>Income</th>\n",
       "      <th>Job Site</th>\n",
       "      <th>Experience</th>\n",
       "      <th>Residence</th>\n",
       "      <th>Rating</th>\n",
       "    </tr>\n",
       "  </thead>\n",
       "  <tbody>\n",
       "    <tr>\n",
       "      <th>0</th>\n",
       "      <td>Kashif</td>\n",
       "      <td>63</td>\n",
       "      <td>Mechanical Engineer</td>\n",
       "      <td>55000</td>\n",
       "      <td>Freelancing</td>\n",
       "      <td>5</td>\n",
       "      <td>U.S.A</td>\n",
       "      <td>183.333333</td>\n",
       "    </tr>\n",
       "    <tr>\n",
       "      <th>1</th>\n",
       "      <td>Imran</td>\n",
       "      <td>0</td>\n",
       "      <td>Constructor</td>\n",
       "      <td>40000</td>\n",
       "      <td>Shipyard</td>\n",
       "      <td>10</td>\n",
       "      <td>Hongkong</td>\n",
       "      <td>133.333333</td>\n",
       "    </tr>\n",
       "    <tr>\n",
       "      <th>2</th>\n",
       "      <td>0</td>\n",
       "      <td>38</td>\n",
       "      <td>Insructor</td>\n",
       "      <td>20000</td>\n",
       "      <td>Gym</td>\n",
       "      <td>4</td>\n",
       "      <td>England</td>\n",
       "      <td>33.333333</td>\n",
       "    </tr>\n",
       "    <tr>\n",
       "      <th>3</th>\n",
       "      <td>Moein</td>\n",
       "      <td>45</td>\n",
       "      <td>Heart Surgeon</td>\n",
       "      <td>60000</td>\n",
       "      <td>Itly National Hospital</td>\n",
       "      <td>0</td>\n",
       "      <td>NaN</td>\n",
       "      <td>200.000000</td>\n",
       "    </tr>\n",
       "    <tr>\n",
       "      <th>4</th>\n",
       "      <td>Shafiq</td>\n",
       "      <td>58</td>\n",
       "      <td>0</td>\n",
       "      <td>20000</td>\n",
       "      <td>Airport</td>\n",
       "      <td>8</td>\n",
       "      <td>France</td>\n",
       "      <td>0.000000</td>\n",
       "    </tr>\n",
       "    <tr>\n",
       "      <th>5</th>\n",
       "      <td>Danial</td>\n",
       "      <td>29</td>\n",
       "      <td>Racer</td>\n",
       "      <td>20000</td>\n",
       "      <td>F1 Racing Arina</td>\n",
       "      <td>6</td>\n",
       "      <td>NaN</td>\n",
       "      <td>0.000000</td>\n",
       "    </tr>\n",
       "  </tbody>\n",
       "</table>\n",
       "</div>"
      ],
      "text/plain": [
       "     Name  Age           Profession  Income                Job Site  \\\n",
       "0  Kashif   63  Mechanical Engineer   55000             Freelancing   \n",
       "1   Imran    0          Constructor   40000                Shipyard   \n",
       "2       0   38            Insructor   20000                     Gym   \n",
       "3   Moein   45        Heart Surgeon   60000  Itly National Hospital   \n",
       "4  Shafiq   58                    0   20000                 Airport   \n",
       "5  Danial   29                Racer   20000         F1 Racing Arina   \n",
       "\n",
       "   Experience Residence      Rating  \n",
       "0           5     U.S.A  183.333333  \n",
       "1          10  Hongkong  133.333333  \n",
       "2           4   England   33.333333  \n",
       "3           0       NaN  200.000000  \n",
       "4           8    France    0.000000  \n",
       "5           6       NaN    0.000000  "
      ]
     },
     "execution_count": 191,
     "metadata": {},
     "output_type": "execute_result"
    }
   ],
   "source": [
    "frame"
   ]
  },
  {
   "cell_type": "markdown",
   "id": "cba13db5",
   "metadata": {},
   "source": [
    "## Map\n",
    "By \"Map\" we can add dictionary to an already created DataFrame!"
   ]
  },
  {
   "cell_type": "markdown",
   "id": "31032619",
   "metadata": {},
   "source": [
    "##### For Example:\n",
    "I want to add \"Father Name\" column in the \"frame\" but the values of the column lies in the dictionary then here using \"Map Function\" will be very usefull."
   ]
  },
  {
   "cell_type": "code",
   "execution_count": 192,
   "id": "2cf4bdd2",
   "metadata": {},
   "outputs": [],
   "source": [
    "father_name = {\n",
    "    'Kashif' : 'Hamid',\n",
    "    'Moein' : 'Kareem',\n",
    "    'Danial' : 'Rasheed',\n",
    "    'Imran' : 'Bilal',\n",
    "    'Shafiq' : 'Ashfaq',\n",
    "    0 : 'Alex'\n",
    "}"
   ]
  },
  {
   "cell_type": "code",
   "execution_count": 193,
   "id": "30a23b45",
   "metadata": {},
   "outputs": [
    {
     "data": {
      "text/plain": [
       "0      Hamid\n",
       "1      Bilal\n",
       "2        NaN\n",
       "3     Kareem\n",
       "4     Ashfaq\n",
       "5    Rasheed\n",
       "Name: Name, dtype: object"
      ]
     },
     "execution_count": 193,
     "metadata": {},
     "output_type": "execute_result"
    }
   ],
   "source": [
    "frame['Name'].map(father_name)"
   ]
  },
  {
   "cell_type": "markdown",
   "id": "683476a5",
   "metadata": {},
   "source": [
    "* Now we can this chart in our frame!"
   ]
  },
  {
   "cell_type": "code",
   "execution_count": 194,
   "id": "4997e292",
   "metadata": {},
   "outputs": [],
   "source": [
    "frame['Father Name']=frame['Name'].map(father_name)"
   ]
  },
  {
   "cell_type": "code",
   "execution_count": 195,
   "id": "dfcfa53a",
   "metadata": {
    "scrolled": true
   },
   "outputs": [
    {
     "data": {
      "text/html": [
       "<div>\n",
       "<style scoped>\n",
       "    .dataframe tbody tr th:only-of-type {\n",
       "        vertical-align: middle;\n",
       "    }\n",
       "\n",
       "    .dataframe tbody tr th {\n",
       "        vertical-align: top;\n",
       "    }\n",
       "\n",
       "    .dataframe thead th {\n",
       "        text-align: right;\n",
       "    }\n",
       "</style>\n",
       "<table border=\"1\" class=\"dataframe\">\n",
       "  <thead>\n",
       "    <tr style=\"text-align: right;\">\n",
       "      <th></th>\n",
       "      <th>Name</th>\n",
       "      <th>Age</th>\n",
       "      <th>Profession</th>\n",
       "      <th>Income</th>\n",
       "      <th>Job Site</th>\n",
       "      <th>Experience</th>\n",
       "      <th>Residence</th>\n",
       "      <th>Rating</th>\n",
       "      <th>Father Name</th>\n",
       "    </tr>\n",
       "  </thead>\n",
       "  <tbody>\n",
       "    <tr>\n",
       "      <th>0</th>\n",
       "      <td>Kashif</td>\n",
       "      <td>63</td>\n",
       "      <td>Mechanical Engineer</td>\n",
       "      <td>55000</td>\n",
       "      <td>Freelancing</td>\n",
       "      <td>5</td>\n",
       "      <td>U.S.A</td>\n",
       "      <td>183.333333</td>\n",
       "      <td>Hamid</td>\n",
       "    </tr>\n",
       "    <tr>\n",
       "      <th>1</th>\n",
       "      <td>Imran</td>\n",
       "      <td>0</td>\n",
       "      <td>Constructor</td>\n",
       "      <td>40000</td>\n",
       "      <td>Shipyard</td>\n",
       "      <td>10</td>\n",
       "      <td>Hongkong</td>\n",
       "      <td>133.333333</td>\n",
       "      <td>Bilal</td>\n",
       "    </tr>\n",
       "    <tr>\n",
       "      <th>2</th>\n",
       "      <td>0</td>\n",
       "      <td>38</td>\n",
       "      <td>Insructor</td>\n",
       "      <td>20000</td>\n",
       "      <td>Gym</td>\n",
       "      <td>4</td>\n",
       "      <td>England</td>\n",
       "      <td>33.333333</td>\n",
       "      <td>NaN</td>\n",
       "    </tr>\n",
       "    <tr>\n",
       "      <th>3</th>\n",
       "      <td>Moein</td>\n",
       "      <td>45</td>\n",
       "      <td>Heart Surgeon</td>\n",
       "      <td>60000</td>\n",
       "      <td>Itly National Hospital</td>\n",
       "      <td>0</td>\n",
       "      <td>NaN</td>\n",
       "      <td>200.000000</td>\n",
       "      <td>Kareem</td>\n",
       "    </tr>\n",
       "    <tr>\n",
       "      <th>4</th>\n",
       "      <td>Shafiq</td>\n",
       "      <td>58</td>\n",
       "      <td>0</td>\n",
       "      <td>20000</td>\n",
       "      <td>Airport</td>\n",
       "      <td>8</td>\n",
       "      <td>France</td>\n",
       "      <td>0.000000</td>\n",
       "      <td>Ashfaq</td>\n",
       "    </tr>\n",
       "    <tr>\n",
       "      <th>5</th>\n",
       "      <td>Danial</td>\n",
       "      <td>29</td>\n",
       "      <td>Racer</td>\n",
       "      <td>20000</td>\n",
       "      <td>F1 Racing Arina</td>\n",
       "      <td>6</td>\n",
       "      <td>NaN</td>\n",
       "      <td>0.000000</td>\n",
       "      <td>Rasheed</td>\n",
       "    </tr>\n",
       "  </tbody>\n",
       "</table>\n",
       "</div>"
      ],
      "text/plain": [
       "     Name  Age           Profession  Income                Job Site  \\\n",
       "0  Kashif   63  Mechanical Engineer   55000             Freelancing   \n",
       "1   Imran    0          Constructor   40000                Shipyard   \n",
       "2       0   38            Insructor   20000                     Gym   \n",
       "3   Moein   45        Heart Surgeon   60000  Itly National Hospital   \n",
       "4  Shafiq   58                    0   20000                 Airport   \n",
       "5  Danial   29                Racer   20000         F1 Racing Arina   \n",
       "\n",
       "   Experience Residence      Rating Father Name  \n",
       "0           5     U.S.A  183.333333       Hamid  \n",
       "1          10  Hongkong  133.333333       Bilal  \n",
       "2           4   England   33.333333         NaN  \n",
       "3           0       NaN  200.000000      Kareem  \n",
       "4           8    France    0.000000      Ashfaq  \n",
       "5           6       NaN    0.000000     Rasheed  "
      ]
     },
     "execution_count": 195,
     "metadata": {},
     "output_type": "execute_result"
    }
   ],
   "source": [
    "frame"
   ]
  },
  {
   "cell_type": "code",
   "execution_count": 196,
   "id": "77b5eb54",
   "metadata": {},
   "outputs": [
    {
     "data": {
      "text/html": [
       "<div>\n",
       "<style scoped>\n",
       "    .dataframe tbody tr th:only-of-type {\n",
       "        vertical-align: middle;\n",
       "    }\n",
       "\n",
       "    .dataframe tbody tr th {\n",
       "        vertical-align: top;\n",
       "    }\n",
       "\n",
       "    .dataframe thead th {\n",
       "        text-align: right;\n",
       "    }\n",
       "</style>\n",
       "<table border=\"1\" class=\"dataframe\">\n",
       "  <thead>\n",
       "    <tr style=\"text-align: right;\">\n",
       "      <th></th>\n",
       "      <th>Name</th>\n",
       "      <th>Father Name</th>\n",
       "      <th>Age</th>\n",
       "      <th>Profession</th>\n",
       "      <th>Income</th>\n",
       "      <th>Job Site</th>\n",
       "      <th>Experience</th>\n",
       "      <th>Residence</th>\n",
       "      <th>Rating</th>\n",
       "    </tr>\n",
       "  </thead>\n",
       "  <tbody>\n",
       "    <tr>\n",
       "      <th>0</th>\n",
       "      <td>Kashif</td>\n",
       "      <td>Hamid</td>\n",
       "      <td>63</td>\n",
       "      <td>Mechanical Engineer</td>\n",
       "      <td>55000</td>\n",
       "      <td>Freelancing</td>\n",
       "      <td>5</td>\n",
       "      <td>U.S.A</td>\n",
       "      <td>183.333333</td>\n",
       "    </tr>\n",
       "    <tr>\n",
       "      <th>1</th>\n",
       "      <td>Imran</td>\n",
       "      <td>Bilal</td>\n",
       "      <td>0</td>\n",
       "      <td>Constructor</td>\n",
       "      <td>40000</td>\n",
       "      <td>Shipyard</td>\n",
       "      <td>10</td>\n",
       "      <td>Hongkong</td>\n",
       "      <td>133.333333</td>\n",
       "    </tr>\n",
       "    <tr>\n",
       "      <th>2</th>\n",
       "      <td>0</td>\n",
       "      <td>NaN</td>\n",
       "      <td>38</td>\n",
       "      <td>Insructor</td>\n",
       "      <td>20000</td>\n",
       "      <td>Gym</td>\n",
       "      <td>4</td>\n",
       "      <td>England</td>\n",
       "      <td>33.333333</td>\n",
       "    </tr>\n",
       "    <tr>\n",
       "      <th>3</th>\n",
       "      <td>Moein</td>\n",
       "      <td>Kareem</td>\n",
       "      <td>45</td>\n",
       "      <td>Heart Surgeon</td>\n",
       "      <td>60000</td>\n",
       "      <td>Itly National Hospital</td>\n",
       "      <td>0</td>\n",
       "      <td>NaN</td>\n",
       "      <td>200.000000</td>\n",
       "    </tr>\n",
       "    <tr>\n",
       "      <th>4</th>\n",
       "      <td>Shafiq</td>\n",
       "      <td>Ashfaq</td>\n",
       "      <td>58</td>\n",
       "      <td>0</td>\n",
       "      <td>20000</td>\n",
       "      <td>Airport</td>\n",
       "      <td>8</td>\n",
       "      <td>France</td>\n",
       "      <td>0.000000</td>\n",
       "    </tr>\n",
       "    <tr>\n",
       "      <th>5</th>\n",
       "      <td>Danial</td>\n",
       "      <td>Rasheed</td>\n",
       "      <td>29</td>\n",
       "      <td>Racer</td>\n",
       "      <td>20000</td>\n",
       "      <td>F1 Racing Arina</td>\n",
       "      <td>6</td>\n",
       "      <td>NaN</td>\n",
       "      <td>0.000000</td>\n",
       "    </tr>\n",
       "  </tbody>\n",
       "</table>\n",
       "</div>"
      ],
      "text/plain": [
       "     Name Father Name  Age           Profession  Income  \\\n",
       "0  Kashif       Hamid   63  Mechanical Engineer   55000   \n",
       "1   Imran       Bilal    0          Constructor   40000   \n",
       "2       0         NaN   38            Insructor   20000   \n",
       "3   Moein      Kareem   45        Heart Surgeon   60000   \n",
       "4  Shafiq      Ashfaq   58                    0   20000   \n",
       "5  Danial     Rasheed   29                Racer   20000   \n",
       "\n",
       "                 Job Site  Experience Residence      Rating  \n",
       "0             Freelancing           5     U.S.A  183.333333  \n",
       "1                Shipyard          10  Hongkong  133.333333  \n",
       "2                     Gym           4   England   33.333333  \n",
       "3  Itly National Hospital           0       NaN  200.000000  \n",
       "4                 Airport           8    France    0.000000  \n",
       "5         F1 Racing Arina           6       NaN    0.000000  "
      ]
     },
     "execution_count": 196,
     "metadata": {},
     "output_type": "execute_result"
    }
   ],
   "source": [
    "frame = frame.reindex(['Name','Father Name','Age','Profession','Income','Job Site','Experience','Residence','Rating'], axis=1)\n",
    "frame"
   ]
  },
  {
   "cell_type": "markdown",
   "id": "900d6f3f",
   "metadata": {},
   "source": [
    "#### Applying conditions with \"Map\"\n",
    "We can use map() funtion just like apply() function in some cases else they are both different!"
   ]
  },
  {
   "cell_type": "markdown",
   "id": "c57f55f6",
   "metadata": {},
   "source": [
    "#### Difference between \"Map\", \"Applymap\" and \"Apply\":\n",
    "1. map() is a method of Series.\n",
    "2. applymap() is a method of DataFrame.\n",
    "3. apply() is defined in both DataFrame and Series."
   ]
  },
  {
   "cell_type": "code",
   "execution_count": 197,
   "id": "bc031104",
   "metadata": {},
   "outputs": [
    {
     "data": {
      "text/plain": [
       "0     Low\n",
       "1    Good\n",
       "2     Low\n",
       "3     Low\n",
       "4    Good\n",
       "5    Good\n",
       "Name: Experience, dtype: object"
      ]
     },
     "execution_count": 197,
     "metadata": {},
     "output_type": "execute_result"
    }
   ],
   "source": [
    "frame['Experience'].map(lambda Experience: 'Low' if Experience<6 else 'Good')"
   ]
  },
  {
   "cell_type": "markdown",
   "id": "e7697509",
   "metadata": {},
   "source": [
    "## Replace\n",
    "* This function is use to replace the existing value of the \"DataFrame\"\n",
    "* There are two methods of replace!"
   ]
  },
  {
   "cell_type": "markdown",
   "id": "9d39d695",
   "metadata": {},
   "source": [
    "#### Method #1: By Dictionary"
   ]
  },
  {
   "cell_type": "code",
   "execution_count": 198,
   "id": "6fa94b83",
   "metadata": {},
   "outputs": [
    {
     "data": {
      "text/html": [
       "<div>\n",
       "<style scoped>\n",
       "    .dataframe tbody tr th:only-of-type {\n",
       "        vertical-align: middle;\n",
       "    }\n",
       "\n",
       "    .dataframe tbody tr th {\n",
       "        vertical-align: top;\n",
       "    }\n",
       "\n",
       "    .dataframe thead th {\n",
       "        text-align: right;\n",
       "    }\n",
       "</style>\n",
       "<table border=\"1\" class=\"dataframe\">\n",
       "  <thead>\n",
       "    <tr style=\"text-align: right;\">\n",
       "      <th></th>\n",
       "      <th>Id</th>\n",
       "      <th>Name</th>\n",
       "      <th>Age</th>\n",
       "    </tr>\n",
       "  </thead>\n",
       "  <tbody>\n",
       "    <tr>\n",
       "      <th>0</th>\n",
       "      <td>1023</td>\n",
       "      <td>Haseen</td>\n",
       "      <td>19</td>\n",
       "    </tr>\n",
       "    <tr>\n",
       "      <th>1</th>\n",
       "      <td>1024</td>\n",
       "      <td>Shabbir</td>\n",
       "      <td>19</td>\n",
       "    </tr>\n",
       "    <tr>\n",
       "      <th>2</th>\n",
       "      <td>2106</td>\n",
       "      <td>Kazim</td>\n",
       "      <td>20</td>\n",
       "    </tr>\n",
       "    <tr>\n",
       "      <th>3</th>\n",
       "      <td>8844</td>\n",
       "      <td>Rahat</td>\n",
       "      <td>21</td>\n",
       "    </tr>\n",
       "  </tbody>\n",
       "</table>\n",
       "</div>"
      ],
      "text/plain": [
       "     Id     Name  Age\n",
       "0  1023   Haseen   19\n",
       "1  1024  Shabbir   19\n",
       "2  2106    Kazim   20\n",
       "3  8844    Rahat   21"
      ]
     },
     "execution_count": 198,
     "metadata": {},
     "output_type": "execute_result"
    }
   ],
   "source": [
    "m = pd.DataFrame(\n",
    "{\n",
    "    'Id':[1023,1024,2106,8844],\n",
    "    'Name':['Haseen','Shabbir','Kazim','Rahat'],\n",
    "    'Age':[19,19,20,21]\n",
    "})\n",
    "m"
   ]
  },
  {
   "cell_type": "code",
   "execution_count": 199,
   "id": "69d9167a",
   "metadata": {},
   "outputs": [
    {
     "data": {
      "text/html": [
       "<div>\n",
       "<style scoped>\n",
       "    .dataframe tbody tr th:only-of-type {\n",
       "        vertical-align: middle;\n",
       "    }\n",
       "\n",
       "    .dataframe tbody tr th {\n",
       "        vertical-align: top;\n",
       "    }\n",
       "\n",
       "    .dataframe thead th {\n",
       "        text-align: right;\n",
       "    }\n",
       "</style>\n",
       "<table border=\"1\" class=\"dataframe\">\n",
       "  <thead>\n",
       "    <tr style=\"text-align: right;\">\n",
       "      <th></th>\n",
       "      <th>Id</th>\n",
       "      <th>Name</th>\n",
       "      <th>Age</th>\n",
       "    </tr>\n",
       "  </thead>\n",
       "  <tbody>\n",
       "    <tr>\n",
       "      <th>0</th>\n",
       "      <td>1023</td>\n",
       "      <td>Haseen</td>\n",
       "      <td>19</td>\n",
       "    </tr>\n",
       "    <tr>\n",
       "      <th>1</th>\n",
       "      <td>1024</td>\n",
       "      <td>Shabbir</td>\n",
       "      <td>19</td>\n",
       "    </tr>\n",
       "    <tr>\n",
       "      <th>2</th>\n",
       "      <td>1025</td>\n",
       "      <td>Kazim</td>\n",
       "      <td>20</td>\n",
       "    </tr>\n",
       "    <tr>\n",
       "      <th>3</th>\n",
       "      <td>1026</td>\n",
       "      <td>Rahat</td>\n",
       "      <td>21</td>\n",
       "    </tr>\n",
       "  </tbody>\n",
       "</table>\n",
       "</div>"
      ],
      "text/plain": [
       "     Id     Name  Age\n",
       "0  1023   Haseen   19\n",
       "1  1024  Shabbir   19\n",
       "2  1025    Kazim   20\n",
       "3  1026    Rahat   21"
      ]
     },
     "execution_count": 199,
     "metadata": {},
     "output_type": "execute_result"
    }
   ],
   "source": [
    "m['Id'].replace({\n",
    "    2106:1025,\n",
    "    8844:1026\n",
    "},inplace=True)\n",
    "m"
   ]
  },
  {
   "cell_type": "markdown",
   "id": "7d8b19d3",
   "metadata": {},
   "source": [
    "#### Method #2: By List"
   ]
  },
  {
   "cell_type": "code",
   "execution_count": 200,
   "id": "d6c996dd",
   "metadata": {},
   "outputs": [
    {
     "data": {
      "text/html": [
       "<div>\n",
       "<style scoped>\n",
       "    .dataframe tbody tr th:only-of-type {\n",
       "        vertical-align: middle;\n",
       "    }\n",
       "\n",
       "    .dataframe tbody tr th {\n",
       "        vertical-align: top;\n",
       "    }\n",
       "\n",
       "    .dataframe thead th {\n",
       "        text-align: right;\n",
       "    }\n",
       "</style>\n",
       "<table border=\"1\" class=\"dataframe\">\n",
       "  <thead>\n",
       "    <tr style=\"text-align: right;\">\n",
       "      <th></th>\n",
       "      <th>Id</th>\n",
       "      <th>Name</th>\n",
       "      <th>Age</th>\n",
       "    </tr>\n",
       "  </thead>\n",
       "  <tbody>\n",
       "    <tr>\n",
       "      <th>0</th>\n",
       "      <td>1023</td>\n",
       "      <td>Arshad</td>\n",
       "      <td>19</td>\n",
       "    </tr>\n",
       "    <tr>\n",
       "      <th>1</th>\n",
       "      <td>1024</td>\n",
       "      <td>Shabbir</td>\n",
       "      <td>19</td>\n",
       "    </tr>\n",
       "    <tr>\n",
       "      <th>2</th>\n",
       "      <td>1025</td>\n",
       "      <td>Nazim</td>\n",
       "      <td>20</td>\n",
       "    </tr>\n",
       "    <tr>\n",
       "      <th>3</th>\n",
       "      <td>1026</td>\n",
       "      <td>Rahat</td>\n",
       "      <td>21</td>\n",
       "    </tr>\n",
       "  </tbody>\n",
       "</table>\n",
       "</div>"
      ],
      "text/plain": [
       "     Id     Name  Age\n",
       "0  1023   Arshad   19\n",
       "1  1024  Shabbir   19\n",
       "2  1025    Nazim   20\n",
       "3  1026    Rahat   21"
      ]
     },
     "execution_count": 200,
     "metadata": {},
     "output_type": "execute_result"
    }
   ],
   "source": [
    "m['Name'].replace(['Haseen','Kazim'],['Arshad','Nazim'],inplace = True)\n",
    "m"
   ]
  },
  {
   "cell_type": "markdown",
   "id": "cb767017",
   "metadata": {},
   "source": [
    "## Discretization And Binning\n",
    "##### Definition:\n",
    "Discretization is the process of transforming a continuous-valued variable into a discrete one by creating a set of contiguous intervals (or equivalently a set of cutpoints) that spans the range of the variable's values."
   ]
  },
  {
   "cell_type": "markdown",
   "id": "c2e10f5f",
   "metadata": {},
   "source": [
    "##### For Example:\n",
    "Suppose there are people of different ages in a line, and I am at the counter filling there information in the office computer!\n",
    "As they are of different ages therefore it will be difficult for me to put the information at the right spot like, age less then 12 has to go in the child section, age less then 18 has to go in the teen section and .......\n",
    "So by Discretization method the work will be much efficient. For each age group I just have to make a bin and then all the other work will be done by the machine it self!"
   ]
  },
  {
   "cell_type": "code",
   "execution_count": 201,
   "id": "863a4a56",
   "metadata": {},
   "outputs": [],
   "source": [
    "ages = [9, 60 ,30 ,12 ,80 ,50 ,14 ,19 ,45 ,75 ,18]"
   ]
  },
  {
   "cell_type": "code",
   "execution_count": 202,
   "id": "e7b85817",
   "metadata": {},
   "outputs": [],
   "source": [
    "bins = [6, 12, 18, 45, 60, 100]"
   ]
  },
  {
   "cell_type": "markdown",
   "id": "1282f4f9",
   "metadata": {},
   "source": [
    "* Now performing \"Discretization\" for which Pandas offers \"cut()\" function."
   ]
  },
  {
   "cell_type": "code",
   "execution_count": 203,
   "id": "97358061",
   "metadata": {},
   "outputs": [
    {
     "data": {
      "text/plain": [
       "[(6, 12], (45, 60], (18, 45], (6, 12], (60, 100], ..., (12, 18], (18, 45], (18, 45], (60, 100], (12, 18]]\n",
       "Length: 11\n",
       "Categories (5, interval[int64, right]): [(6, 12] < (12, 18] < (18, 45] < (45, 60] < (60, 100]]"
      ]
     },
     "execution_count": 203,
     "metadata": {},
     "output_type": "execute_result"
    }
   ],
   "source": [
    "dis = pd.cut(ages, bins)\n",
    "dis"
   ]
  },
  {
   "cell_type": "markdown",
   "id": "a6a46e73",
   "metadata": {},
   "source": [
    "##### Now let's see the code for each data and category"
   ]
  },
  {
   "cell_type": "code",
   "execution_count": 204,
   "id": "87e15a75",
   "metadata": {},
   "outputs": [
    {
     "data": {
      "text/plain": [
       "array([0, 3, 2, 0, 4, 3, 1, 2, 2, 4, 1], dtype=int8)"
      ]
     },
     "execution_count": 204,
     "metadata": {},
     "output_type": "execute_result"
    }
   ],
   "source": [
    "dis.codes"
   ]
  },
  {
   "cell_type": "code",
   "execution_count": 205,
   "id": "4a3bf3cb",
   "metadata": {},
   "outputs": [
    {
     "data": {
      "text/plain": [
       "IntervalIndex([(6, 12], (12, 18], (18, 45], (45, 60], (60, 100]], dtype='interval[int64, right]')"
      ]
     },
     "execution_count": 205,
     "metadata": {},
     "output_type": "execute_result"
    }
   ],
   "source": [
    "dis.categories"
   ]
  },
  {
   "cell_type": "markdown",
   "id": "ffadcf6d",
   "metadata": {},
   "source": [
    "##### What are the counts for each category?"
   ]
  },
  {
   "cell_type": "code",
   "execution_count": 206,
   "id": "51eb9c1b",
   "metadata": {},
   "outputs": [
    {
     "data": {
      "text/plain": [
       "(18, 45]     3\n",
       "(6, 12]      2\n",
       "(12, 18]     2\n",
       "(45, 60]     2\n",
       "(60, 100]    2\n",
       "dtype: int64"
      ]
     },
     "execution_count": 206,
     "metadata": {},
     "output_type": "execute_result"
    }
   ],
   "source": [
    "pd.value_counts(dis)"
   ]
  },
  {
   "cell_type": "markdown",
   "id": "0f390504",
   "metadata": {},
   "source": [
    "#### Custom Labeling of a category\n",
    "We can also customize the names of category to make things easier!"
   ]
  },
  {
   "cell_type": "code",
   "execution_count": 207,
   "id": "8ff66b51",
   "metadata": {},
   "outputs": [
    {
     "data": {
      "text/plain": [
       "['Young', 'Middle Age', 'Adult', 'Young', 'Old', ..., 'Teen', 'Adult', 'Adult', 'Old', 'Teen']\n",
       "Length: 11\n",
       "Categories (5, object): ['Young' < 'Teen' < 'Adult' < 'Middle Age' < 'Old']"
      ]
     },
     "execution_count": 207,
     "metadata": {},
     "output_type": "execute_result"
    }
   ],
   "source": [
    "dis = pd.cut(ages, bins,labels=['Young', 'Teen', 'Adult', 'Middle Age', 'Old'])\n",
    "dis"
   ]
  },
  {
   "cell_type": "code",
   "execution_count": 208,
   "id": "fb973198",
   "metadata": {},
   "outputs": [
    {
     "data": {
      "text/plain": [
       "Index(['Young', 'Teen', 'Adult', 'Middle Age', 'Old'], dtype='object')"
      ]
     },
     "execution_count": 208,
     "metadata": {},
     "output_type": "execute_result"
    }
   ],
   "source": [
    "dis.categories"
   ]
  },
  {
   "cell_type": "code",
   "execution_count": 209,
   "id": "0baa0ac9",
   "metadata": {},
   "outputs": [
    {
     "data": {
      "text/plain": [
       "Adult         3\n",
       "Young         2\n",
       "Teen          2\n",
       "Middle Age    2\n",
       "Old           2\n",
       "dtype: int64"
      ]
     },
     "execution_count": 209,
     "metadata": {},
     "output_type": "execute_result"
    }
   ],
   "source": [
    "pd.value_counts(dis)"
   ]
  },
  {
   "cell_type": "markdown",
   "id": "268986a5",
   "metadata": {},
   "source": [
    "## Combining and Merging Datasets"
   ]
  },
  {
   "cell_type": "markdown",
   "id": "311c5988",
   "metadata": {},
   "source": [
    "#### Joining Two DataFrame\n",
    "It is similar to SQL joins . We join two Data Frame based on a common column!"
   ]
  },
  {
   "cell_type": "code",
   "execution_count": 210,
   "id": "3b63aa99",
   "metadata": {},
   "outputs": [
    {
     "data": {
      "text/html": [
       "<div>\n",
       "<style scoped>\n",
       "    .dataframe tbody tr th:only-of-type {\n",
       "        vertical-align: middle;\n",
       "    }\n",
       "\n",
       "    .dataframe tbody tr th {\n",
       "        vertical-align: top;\n",
       "    }\n",
       "\n",
       "    .dataframe thead th {\n",
       "        text-align: right;\n",
       "    }\n",
       "</style>\n",
       "<table border=\"1\" class=\"dataframe\">\n",
       "  <thead>\n",
       "    <tr style=\"text-align: right;\">\n",
       "      <th></th>\n",
       "      <th>Id</th>\n",
       "      <th>Name</th>\n",
       "    </tr>\n",
       "  </thead>\n",
       "  <tbody>\n",
       "    <tr>\n",
       "      <th>0</th>\n",
       "      <td>1</td>\n",
       "      <td>Anwar</td>\n",
       "    </tr>\n",
       "    <tr>\n",
       "      <th>1</th>\n",
       "      <td>2</td>\n",
       "      <td>Khursheed</td>\n",
       "    </tr>\n",
       "    <tr>\n",
       "      <th>2</th>\n",
       "      <td>3</td>\n",
       "      <td>Rizwan</td>\n",
       "    </tr>\n",
       "  </tbody>\n",
       "</table>\n",
       "</div>"
      ],
      "text/plain": [
       "   Id       Name\n",
       "0   1      Anwar\n",
       "1   2  Khursheed\n",
       "2   3     Rizwan"
      ]
     },
     "execution_count": 210,
     "metadata": {},
     "output_type": "execute_result"
    }
   ],
   "source": [
    "df1 = pd.DataFrame({\n",
    "    'Id' : [1,2,3],\n",
    "    'Name' : ['Anwar','Khursheed','Rizwan']\n",
    "})\n",
    "df1"
   ]
  },
  {
   "cell_type": "code",
   "execution_count": 211,
   "id": "dc1e0783",
   "metadata": {},
   "outputs": [
    {
     "data": {
      "text/html": [
       "<div>\n",
       "<style scoped>\n",
       "    .dataframe tbody tr th:only-of-type {\n",
       "        vertical-align: middle;\n",
       "    }\n",
       "\n",
       "    .dataframe tbody tr th {\n",
       "        vertical-align: top;\n",
       "    }\n",
       "\n",
       "    .dataframe thead th {\n",
       "        text-align: right;\n",
       "    }\n",
       "</style>\n",
       "<table border=\"1\" class=\"dataframe\">\n",
       "  <thead>\n",
       "    <tr style=\"text-align: right;\">\n",
       "      <th></th>\n",
       "      <th>Id</th>\n",
       "      <th>Age</th>\n",
       "    </tr>\n",
       "  </thead>\n",
       "  <tbody>\n",
       "    <tr>\n",
       "      <th>0</th>\n",
       "      <td>1</td>\n",
       "      <td>23</td>\n",
       "    </tr>\n",
       "    <tr>\n",
       "      <th>1</th>\n",
       "      <td>2</td>\n",
       "      <td>33</td>\n",
       "    </tr>\n",
       "    <tr>\n",
       "      <th>2</th>\n",
       "      <td>3</td>\n",
       "      <td>45</td>\n",
       "    </tr>\n",
       "  </tbody>\n",
       "</table>\n",
       "</div>"
      ],
      "text/plain": [
       "   Id  Age\n",
       "0   1   23\n",
       "1   2   33\n",
       "2   3   45"
      ]
     },
     "execution_count": 211,
     "metadata": {},
     "output_type": "execute_result"
    }
   ],
   "source": [
    "df2 = pd.DataFrame({\n",
    "    'Id' : [1,2,3],\n",
    "    'Age' : [23,33,45]\n",
    "})\n",
    "df2"
   ]
  },
  {
   "cell_type": "code",
   "execution_count": 212,
   "id": "70fb1122",
   "metadata": {},
   "outputs": [
    {
     "data": {
      "text/html": [
       "<div>\n",
       "<style scoped>\n",
       "    .dataframe tbody tr th:only-of-type {\n",
       "        vertical-align: middle;\n",
       "    }\n",
       "\n",
       "    .dataframe tbody tr th {\n",
       "        vertical-align: top;\n",
       "    }\n",
       "\n",
       "    .dataframe thead th {\n",
       "        text-align: right;\n",
       "    }\n",
       "</style>\n",
       "<table border=\"1\" class=\"dataframe\">\n",
       "  <thead>\n",
       "    <tr style=\"text-align: right;\">\n",
       "      <th></th>\n",
       "      <th>Id</th>\n",
       "      <th>Name</th>\n",
       "      <th>Age</th>\n",
       "    </tr>\n",
       "  </thead>\n",
       "  <tbody>\n",
       "    <tr>\n",
       "      <th>0</th>\n",
       "      <td>1</td>\n",
       "      <td>Anwar</td>\n",
       "      <td>23</td>\n",
       "    </tr>\n",
       "    <tr>\n",
       "      <th>1</th>\n",
       "      <td>2</td>\n",
       "      <td>Khursheed</td>\n",
       "      <td>33</td>\n",
       "    </tr>\n",
       "    <tr>\n",
       "      <th>2</th>\n",
       "      <td>3</td>\n",
       "      <td>Rizwan</td>\n",
       "      <td>45</td>\n",
       "    </tr>\n",
       "  </tbody>\n",
       "</table>\n",
       "</div>"
      ],
      "text/plain": [
       "   Id       Name  Age\n",
       "0   1      Anwar   23\n",
       "1   2  Khursheed   33\n",
       "2   3     Rizwan   45"
      ]
     },
     "execution_count": 212,
     "metadata": {},
     "output_type": "execute_result"
    }
   ],
   "source": [
    "pd.merge(df1,df2)"
   ]
  },
  {
   "cell_type": "markdown",
   "id": "65973cd2",
   "metadata": {},
   "source": [
    "* When common Column name doesn't match! In this case we have to mention the right and left (which means that we have to tell the pandas that both ids are different!)\n",
    "* This method is a type of \"Join\", wcich I will discuss later!"
   ]
  },
  {
   "cell_type": "code",
   "execution_count": 213,
   "id": "8ee1c1db",
   "metadata": {},
   "outputs": [
    {
     "data": {
      "text/html": [
       "<div>\n",
       "<style scoped>\n",
       "    .dataframe tbody tr th:only-of-type {\n",
       "        vertical-align: middle;\n",
       "    }\n",
       "\n",
       "    .dataframe tbody tr th {\n",
       "        vertical-align: top;\n",
       "    }\n",
       "\n",
       "    .dataframe thead th {\n",
       "        text-align: right;\n",
       "    }\n",
       "</style>\n",
       "<table border=\"1\" class=\"dataframe\">\n",
       "  <thead>\n",
       "    <tr style=\"text-align: right;\">\n",
       "      <th></th>\n",
       "      <th>Emp_Id</th>\n",
       "      <th>Age</th>\n",
       "    </tr>\n",
       "  </thead>\n",
       "  <tbody>\n",
       "    <tr>\n",
       "      <th>0</th>\n",
       "      <td>1</td>\n",
       "      <td>23</td>\n",
       "    </tr>\n",
       "    <tr>\n",
       "      <th>1</th>\n",
       "      <td>2</td>\n",
       "      <td>33</td>\n",
       "    </tr>\n",
       "    <tr>\n",
       "      <th>2</th>\n",
       "      <td>3</td>\n",
       "      <td>45</td>\n",
       "    </tr>\n",
       "  </tbody>\n",
       "</table>\n",
       "</div>"
      ],
      "text/plain": [
       "   Emp_Id  Age\n",
       "0       1   23\n",
       "1       2   33\n",
       "2       3   45"
      ]
     },
     "execution_count": 213,
     "metadata": {},
     "output_type": "execute_result"
    }
   ],
   "source": [
    "df3 = pd.DataFrame({\n",
    "    'Emp_Id' : [1,2,3],\n",
    "    'Age' : [23,33,45]\n",
    "})\n",
    "df3"
   ]
  },
  {
   "cell_type": "code",
   "execution_count": 214,
   "id": "4370334b",
   "metadata": {},
   "outputs": [
    {
     "data": {
      "text/html": [
       "<div>\n",
       "<style scoped>\n",
       "    .dataframe tbody tr th:only-of-type {\n",
       "        vertical-align: middle;\n",
       "    }\n",
       "\n",
       "    .dataframe tbody tr th {\n",
       "        vertical-align: top;\n",
       "    }\n",
       "\n",
       "    .dataframe thead th {\n",
       "        text-align: right;\n",
       "    }\n",
       "</style>\n",
       "<table border=\"1\" class=\"dataframe\">\n",
       "  <thead>\n",
       "    <tr style=\"text-align: right;\">\n",
       "      <th></th>\n",
       "      <th>Id</th>\n",
       "      <th>Name</th>\n",
       "      <th>Emp_Id</th>\n",
       "      <th>Age</th>\n",
       "    </tr>\n",
       "  </thead>\n",
       "  <tbody>\n",
       "    <tr>\n",
       "      <th>0</th>\n",
       "      <td>1</td>\n",
       "      <td>Anwar</td>\n",
       "      <td>1</td>\n",
       "      <td>23</td>\n",
       "    </tr>\n",
       "    <tr>\n",
       "      <th>1</th>\n",
       "      <td>2</td>\n",
       "      <td>Khursheed</td>\n",
       "      <td>2</td>\n",
       "      <td>33</td>\n",
       "    </tr>\n",
       "    <tr>\n",
       "      <th>2</th>\n",
       "      <td>3</td>\n",
       "      <td>Rizwan</td>\n",
       "      <td>3</td>\n",
       "      <td>45</td>\n",
       "    </tr>\n",
       "  </tbody>\n",
       "</table>\n",
       "</div>"
      ],
      "text/plain": [
       "   Id       Name  Emp_Id  Age\n",
       "0   1      Anwar       1   23\n",
       "1   2  Khursheed       2   33\n",
       "2   3     Rizwan       3   45"
      ]
     },
     "execution_count": 214,
     "metadata": {},
     "output_type": "execute_result"
    }
   ],
   "source": [
    "pd.merge(df1,df3, left_on='Id',right_on='Emp_Id')"
   ]
  },
  {
   "cell_type": "markdown",
   "id": "7e70fd94",
   "metadata": {},
   "source": [
    "### Types Of Joins\n",
    "There are Four types of join in Pandas!\n",
    "1. Right\n",
    "2. Left\n",
    "3. Inner\n",
    "4. Outer\n",
    "* The Inner join is the default one! So I am not going to talk about it."
   ]
  },
  {
   "cell_type": "markdown",
   "id": "f85d8760",
   "metadata": {},
   "source": [
    "#### 1. Right Join\n",
    "Right Join means it will going to join two DataFrame by the right one!"
   ]
  },
  {
   "cell_type": "markdown",
   "id": "7adde1cd",
   "metadata": {},
   "source": [
    "##### Condition\n",
    "If there are two dataframe with same ID but differ in size!\n",
    "##### Disclaimer!!!\n",
    "By condition I mean that in every type of join we can use any condition according to the need. Its not like, that if I use one condition to explain one join I can not use it in another type!"
   ]
  },
  {
   "cell_type": "code",
   "execution_count": 215,
   "id": "9fd3ed68",
   "metadata": {},
   "outputs": [
    {
     "data": {
      "text/html": [
       "<div>\n",
       "<style scoped>\n",
       "    .dataframe tbody tr th:only-of-type {\n",
       "        vertical-align: middle;\n",
       "    }\n",
       "\n",
       "    .dataframe tbody tr th {\n",
       "        vertical-align: top;\n",
       "    }\n",
       "\n",
       "    .dataframe thead th {\n",
       "        text-align: right;\n",
       "    }\n",
       "</style>\n",
       "<table border=\"1\" class=\"dataframe\">\n",
       "  <thead>\n",
       "    <tr style=\"text-align: right;\">\n",
       "      <th></th>\n",
       "      <th>Id</th>\n",
       "      <th>Age</th>\n",
       "    </tr>\n",
       "  </thead>\n",
       "  <tbody>\n",
       "    <tr>\n",
       "      <th>0</th>\n",
       "      <td>1</td>\n",
       "      <td>23</td>\n",
       "    </tr>\n",
       "    <tr>\n",
       "      <th>1</th>\n",
       "      <td>2</td>\n",
       "      <td>33</td>\n",
       "    </tr>\n",
       "    <tr>\n",
       "      <th>2</th>\n",
       "      <td>3</td>\n",
       "      <td>45</td>\n",
       "    </tr>\n",
       "    <tr>\n",
       "      <th>3</th>\n",
       "      <td>4</td>\n",
       "      <td>70</td>\n",
       "    </tr>\n",
       "  </tbody>\n",
       "</table>\n",
       "</div>"
      ],
      "text/plain": [
       "   Id  Age\n",
       "0   1   23\n",
       "1   2   33\n",
       "2   3   45\n",
       "3   4   70"
      ]
     },
     "execution_count": 215,
     "metadata": {},
     "output_type": "execute_result"
    }
   ],
   "source": [
    "df2 = pd.DataFrame({\n",
    "    'Id' : [1,2,3,4],\n",
    "    'Age' : [23,33,45,70]\n",
    "})\n",
    "df2"
   ]
  },
  {
   "cell_type": "markdown",
   "id": "fd4a7551",
   "metadata": {},
   "source": [
    "* To mention the type of Join we have to use \"how\" function!\n",
    "* As you can see in the result of the code(which is written below) that while there is no 4th name in the first DataFrame but still pandas will count it as the 4th \"NaN\""
   ]
  },
  {
   "cell_type": "code",
   "execution_count": 216,
   "id": "a23d8419",
   "metadata": {},
   "outputs": [
    {
     "data": {
      "text/html": [
       "<div>\n",
       "<style scoped>\n",
       "    .dataframe tbody tr th:only-of-type {\n",
       "        vertical-align: middle;\n",
       "    }\n",
       "\n",
       "    .dataframe tbody tr th {\n",
       "        vertical-align: top;\n",
       "    }\n",
       "\n",
       "    .dataframe thead th {\n",
       "        text-align: right;\n",
       "    }\n",
       "</style>\n",
       "<table border=\"1\" class=\"dataframe\">\n",
       "  <thead>\n",
       "    <tr style=\"text-align: right;\">\n",
       "      <th></th>\n",
       "      <th>Id</th>\n",
       "      <th>Name</th>\n",
       "      <th>Age</th>\n",
       "    </tr>\n",
       "  </thead>\n",
       "  <tbody>\n",
       "    <tr>\n",
       "      <th>0</th>\n",
       "      <td>1</td>\n",
       "      <td>Anwar</td>\n",
       "      <td>23</td>\n",
       "    </tr>\n",
       "    <tr>\n",
       "      <th>1</th>\n",
       "      <td>2</td>\n",
       "      <td>Khursheed</td>\n",
       "      <td>33</td>\n",
       "    </tr>\n",
       "    <tr>\n",
       "      <th>2</th>\n",
       "      <td>3</td>\n",
       "      <td>Rizwan</td>\n",
       "      <td>45</td>\n",
       "    </tr>\n",
       "    <tr>\n",
       "      <th>3</th>\n",
       "      <td>4</td>\n",
       "      <td>NaN</td>\n",
       "      <td>70</td>\n",
       "    </tr>\n",
       "  </tbody>\n",
       "</table>\n",
       "</div>"
      ],
      "text/plain": [
       "   Id       Name  Age\n",
       "0   1      Anwar   23\n",
       "1   2  Khursheed   33\n",
       "2   3     Rizwan   45\n",
       "3   4        NaN   70"
      ]
     },
     "execution_count": 216,
     "metadata": {},
     "output_type": "execute_result"
    }
   ],
   "source": [
    "pd.merge(df1,df2,how='right')"
   ]
  },
  {
   "cell_type": "markdown",
   "id": "4600a9e6",
   "metadata": {},
   "source": [
    "#### 2. Left Join\n",
    "Since it is same as the right one the difference is, that its left! So I am not going to discribe it in details"
   ]
  },
  {
   "cell_type": "code",
   "execution_count": 217,
   "id": "28b383aa",
   "metadata": {},
   "outputs": [
    {
     "data": {
      "text/html": [
       "<div>\n",
       "<style scoped>\n",
       "    .dataframe tbody tr th:only-of-type {\n",
       "        vertical-align: middle;\n",
       "    }\n",
       "\n",
       "    .dataframe tbody tr th {\n",
       "        vertical-align: top;\n",
       "    }\n",
       "\n",
       "    .dataframe thead th {\n",
       "        text-align: right;\n",
       "    }\n",
       "</style>\n",
       "<table border=\"1\" class=\"dataframe\">\n",
       "  <thead>\n",
       "    <tr style=\"text-align: right;\">\n",
       "      <th></th>\n",
       "      <th>Id</th>\n",
       "      <th>Name</th>\n",
       "      <th>Age</th>\n",
       "    </tr>\n",
       "  </thead>\n",
       "  <tbody>\n",
       "    <tr>\n",
       "      <th>0</th>\n",
       "      <td>1</td>\n",
       "      <td>Anwar</td>\n",
       "      <td>23</td>\n",
       "    </tr>\n",
       "    <tr>\n",
       "      <th>1</th>\n",
       "      <td>2</td>\n",
       "      <td>Khursheed</td>\n",
       "      <td>33</td>\n",
       "    </tr>\n",
       "    <tr>\n",
       "      <th>2</th>\n",
       "      <td>3</td>\n",
       "      <td>Rizwan</td>\n",
       "      <td>45</td>\n",
       "    </tr>\n",
       "  </tbody>\n",
       "</table>\n",
       "</div>"
      ],
      "text/plain": [
       "   Id       Name  Age\n",
       "0   1      Anwar   23\n",
       "1   2  Khursheed   33\n",
       "2   3     Rizwan   45"
      ]
     },
     "execution_count": 217,
     "metadata": {},
     "output_type": "execute_result"
    }
   ],
   "source": [
    "pd.merge(df1,df2,how='left')"
   ]
  },
  {
   "cell_type": "markdown",
   "id": "fd8e397e",
   "metadata": {},
   "source": [
    "#### 3. Outer Join"
   ]
  },
  {
   "cell_type": "code",
   "execution_count": 218,
   "id": "1826e094",
   "metadata": {},
   "outputs": [
    {
     "data": {
      "text/html": [
       "<div>\n",
       "<style scoped>\n",
       "    .dataframe tbody tr th:only-of-type {\n",
       "        vertical-align: middle;\n",
       "    }\n",
       "\n",
       "    .dataframe tbody tr th {\n",
       "        vertical-align: top;\n",
       "    }\n",
       "\n",
       "    .dataframe thead th {\n",
       "        text-align: right;\n",
       "    }\n",
       "</style>\n",
       "<table border=\"1\" class=\"dataframe\">\n",
       "  <thead>\n",
       "    <tr style=\"text-align: right;\">\n",
       "      <th></th>\n",
       "      <th>Id</th>\n",
       "      <th>Name</th>\n",
       "      <th>Age</th>\n",
       "    </tr>\n",
       "  </thead>\n",
       "  <tbody>\n",
       "    <tr>\n",
       "      <th>0</th>\n",
       "      <td>1</td>\n",
       "      <td>Anwar</td>\n",
       "      <td>23</td>\n",
       "    </tr>\n",
       "    <tr>\n",
       "      <th>1</th>\n",
       "      <td>2</td>\n",
       "      <td>Khursheed</td>\n",
       "      <td>33</td>\n",
       "    </tr>\n",
       "    <tr>\n",
       "      <th>2</th>\n",
       "      <td>3</td>\n",
       "      <td>Rizwan</td>\n",
       "      <td>45</td>\n",
       "    </tr>\n",
       "    <tr>\n",
       "      <th>3</th>\n",
       "      <td>4</td>\n",
       "      <td>NaN</td>\n",
       "      <td>70</td>\n",
       "    </tr>\n",
       "  </tbody>\n",
       "</table>\n",
       "</div>"
      ],
      "text/plain": [
       "   Id       Name  Age\n",
       "0   1      Anwar   23\n",
       "1   2  Khursheed   33\n",
       "2   3     Rizwan   45\n",
       "3   4        NaN   70"
      ]
     },
     "execution_count": 218,
     "metadata": {},
     "output_type": "execute_result"
    }
   ],
   "source": [
    "pd.merge(df1,df2,how='outer')"
   ]
  },
  {
   "cell_type": "markdown",
   "id": "4ad3a032",
   "metadata": {},
   "source": [
    "## Merging Based on Index"
   ]
  },
  {
   "cell_type": "code",
   "execution_count": 219,
   "id": "b3511fd9",
   "metadata": {},
   "outputs": [
    {
     "data": {
      "text/html": [
       "<div>\n",
       "<style scoped>\n",
       "    .dataframe tbody tr th:only-of-type {\n",
       "        vertical-align: middle;\n",
       "    }\n",
       "\n",
       "    .dataframe tbody tr th {\n",
       "        vertical-align: top;\n",
       "    }\n",
       "\n",
       "    .dataframe thead th {\n",
       "        text-align: right;\n",
       "    }\n",
       "</style>\n",
       "<table border=\"1\" class=\"dataframe\">\n",
       "  <thead>\n",
       "    <tr style=\"text-align: right;\">\n",
       "      <th></th>\n",
       "      <th>Name</th>\n",
       "    </tr>\n",
       "  </thead>\n",
       "  <tbody>\n",
       "    <tr>\n",
       "      <th>1</th>\n",
       "      <td>Waleed</td>\n",
       "    </tr>\n",
       "    <tr>\n",
       "      <th>2</th>\n",
       "      <td>Mahmood</td>\n",
       "    </tr>\n",
       "    <tr>\n",
       "      <th>3</th>\n",
       "      <td>Rashid</td>\n",
       "    </tr>\n",
       "  </tbody>\n",
       "</table>\n",
       "</div>"
      ],
      "text/plain": [
       "      Name\n",
       "1   Waleed\n",
       "2  Mahmood\n",
       "3   Rashid"
      ]
     },
     "execution_count": 219,
     "metadata": {},
     "output_type": "execute_result"
    }
   ],
   "source": [
    "p = pd.DataFrame({\n",
    "    'Name' : ['Waleed', 'Mahmood', 'Rashid']\n",
    "},index=[1,2,3])\n",
    "p"
   ]
  },
  {
   "cell_type": "markdown",
   "id": "db596b97",
   "metadata": {},
   "source": [
    "* Just to be clear, I am going to merge \"p\" and \"df1\""
   ]
  },
  {
   "cell_type": "code",
   "execution_count": 220,
   "id": "0247fc98",
   "metadata": {},
   "outputs": [
    {
     "data": {
      "text/html": [
       "<div>\n",
       "<style scoped>\n",
       "    .dataframe tbody tr th:only-of-type {\n",
       "        vertical-align: middle;\n",
       "    }\n",
       "\n",
       "    .dataframe tbody tr th {\n",
       "        vertical-align: top;\n",
       "    }\n",
       "\n",
       "    .dataframe thead th {\n",
       "        text-align: right;\n",
       "    }\n",
       "</style>\n",
       "<table border=\"1\" class=\"dataframe\">\n",
       "  <thead>\n",
       "    <tr style=\"text-align: right;\">\n",
       "      <th></th>\n",
       "      <th>Name</th>\n",
       "    </tr>\n",
       "  </thead>\n",
       "  <tbody>\n",
       "    <tr>\n",
       "      <th>1</th>\n",
       "      <td>Waleed</td>\n",
       "    </tr>\n",
       "    <tr>\n",
       "      <th>2</th>\n",
       "      <td>Mahmood</td>\n",
       "    </tr>\n",
       "    <tr>\n",
       "      <th>3</th>\n",
       "      <td>Rashid</td>\n",
       "    </tr>\n",
       "  </tbody>\n",
       "</table>\n",
       "</div>"
      ],
      "text/plain": [
       "      Name\n",
       "1   Waleed\n",
       "2  Mahmood\n",
       "3   Rashid"
      ]
     },
     "metadata": {},
     "output_type": "display_data"
    },
    {
     "data": {
      "text/html": [
       "<div>\n",
       "<style scoped>\n",
       "    .dataframe tbody tr th:only-of-type {\n",
       "        vertical-align: middle;\n",
       "    }\n",
       "\n",
       "    .dataframe tbody tr th {\n",
       "        vertical-align: top;\n",
       "    }\n",
       "\n",
       "    .dataframe thead th {\n",
       "        text-align: right;\n",
       "    }\n",
       "</style>\n",
       "<table border=\"1\" class=\"dataframe\">\n",
       "  <thead>\n",
       "    <tr style=\"text-align: right;\">\n",
       "      <th></th>\n",
       "      <th>Id</th>\n",
       "      <th>Name</th>\n",
       "    </tr>\n",
       "  </thead>\n",
       "  <tbody>\n",
       "    <tr>\n",
       "      <th>0</th>\n",
       "      <td>1</td>\n",
       "      <td>Anwar</td>\n",
       "    </tr>\n",
       "    <tr>\n",
       "      <th>1</th>\n",
       "      <td>2</td>\n",
       "      <td>Khursheed</td>\n",
       "    </tr>\n",
       "    <tr>\n",
       "      <th>2</th>\n",
       "      <td>3</td>\n",
       "      <td>Rizwan</td>\n",
       "    </tr>\n",
       "  </tbody>\n",
       "</table>\n",
       "</div>"
      ],
      "text/plain": [
       "   Id       Name\n",
       "0   1      Anwar\n",
       "1   2  Khursheed\n",
       "2   3     Rizwan"
      ]
     },
     "metadata": {},
     "output_type": "display_data"
    }
   ],
   "source": [
    "display(p)\n",
    "display(df1)"
   ]
  },
  {
   "cell_type": "markdown",
   "id": "566c6783",
   "metadata": {},
   "source": [
    "* x and y mention in the result of codeline below is differenciating b/w both DataFrame!"
   ]
  },
  {
   "cell_type": "code",
   "execution_count": 221,
   "id": "cb09469c",
   "metadata": {},
   "outputs": [
    {
     "data": {
      "text/html": [
       "<div>\n",
       "<style scoped>\n",
       "    .dataframe tbody tr th:only-of-type {\n",
       "        vertical-align: middle;\n",
       "    }\n",
       "\n",
       "    .dataframe tbody tr th {\n",
       "        vertical-align: top;\n",
       "    }\n",
       "\n",
       "    .dataframe thead th {\n",
       "        text-align: right;\n",
       "    }\n",
       "</style>\n",
       "<table border=\"1\" class=\"dataframe\">\n",
       "  <thead>\n",
       "    <tr style=\"text-align: right;\">\n",
       "      <th></th>\n",
       "      <th>Id</th>\n",
       "      <th>Name_x</th>\n",
       "      <th>Name_y</th>\n",
       "    </tr>\n",
       "  </thead>\n",
       "  <tbody>\n",
       "    <tr>\n",
       "      <th>0</th>\n",
       "      <td>1</td>\n",
       "      <td>Anwar</td>\n",
       "      <td>Waleed</td>\n",
       "    </tr>\n",
       "    <tr>\n",
       "      <th>1</th>\n",
       "      <td>2</td>\n",
       "      <td>Khursheed</td>\n",
       "      <td>Mahmood</td>\n",
       "    </tr>\n",
       "    <tr>\n",
       "      <th>2</th>\n",
       "      <td>3</td>\n",
       "      <td>Rizwan</td>\n",
       "      <td>Rashid</td>\n",
       "    </tr>\n",
       "  </tbody>\n",
       "</table>\n",
       "</div>"
      ],
      "text/plain": [
       "   Id     Name_x   Name_y\n",
       "0   1      Anwar   Waleed\n",
       "1   2  Khursheed  Mahmood\n",
       "2   3     Rizwan   Rashid"
      ]
     },
     "execution_count": 221,
     "metadata": {},
     "output_type": "execute_result"
    }
   ],
   "source": [
    "pd.merge(df1,p,left_on= 'Id',right_index=True)"
   ]
  },
  {
   "cell_type": "markdown",
   "id": "9bc55e47",
   "metadata": {},
   "source": [
    "## Concatenating Two DataFrames\n",
    "It is similar to the concatenationin \"Numpy\"!"
   ]
  },
  {
   "cell_type": "markdown",
   "id": "eb99805c",
   "metadata": {},
   "source": [
    "##### Disclaimer:\n",
    "The concatination is not limited for two \"DataFrames\" only but can be done with many \"DataFrames\" at once! I am just giving an example by concatenatiing only two DataFrames!"
   ]
  },
  {
   "cell_type": "code",
   "execution_count": 222,
   "id": "a9865610",
   "metadata": {},
   "outputs": [
    {
     "data": {
      "text/html": [
       "<div>\n",
       "<style scoped>\n",
       "    .dataframe tbody tr th:only-of-type {\n",
       "        vertical-align: middle;\n",
       "    }\n",
       "\n",
       "    .dataframe tbody tr th {\n",
       "        vertical-align: top;\n",
       "    }\n",
       "\n",
       "    .dataframe thead th {\n",
       "        text-align: right;\n",
       "    }\n",
       "</style>\n",
       "<table border=\"1\" class=\"dataframe\">\n",
       "  <thead>\n",
       "    <tr style=\"text-align: right;\">\n",
       "      <th></th>\n",
       "      <th>Id</th>\n",
       "      <th>Name</th>\n",
       "      <th>Age</th>\n",
       "    </tr>\n",
       "  </thead>\n",
       "  <tbody>\n",
       "    <tr>\n",
       "      <th>0</th>\n",
       "      <td>42101</td>\n",
       "      <td>Rashid</td>\n",
       "      <td>22</td>\n",
       "    </tr>\n",
       "    <tr>\n",
       "      <th>1</th>\n",
       "      <td>53880</td>\n",
       "      <td>Qawi</td>\n",
       "      <td>24</td>\n",
       "    </tr>\n",
       "    <tr>\n",
       "      <th>2</th>\n",
       "      <td>26788</td>\n",
       "      <td>Liaquat</td>\n",
       "      <td>21</td>\n",
       "    </tr>\n",
       "  </tbody>\n",
       "</table>\n",
       "</div>"
      ],
      "text/plain": [
       "      Id     Name  Age\n",
       "0  42101   Rashid   22\n",
       "1  53880     Qawi   24\n",
       "2  26788  Liaquat   21"
      ]
     },
     "execution_count": 222,
     "metadata": {},
     "output_type": "execute_result"
    }
   ],
   "source": [
    "d = pd.DataFrame(\n",
    "{\n",
    "    'Id':[42101,53880,26788],\n",
    "    'Name':['Rashid','Qawi','Liaquat'],\n",
    "    'Age':[22,24,21]\n",
    "})\n",
    "d"
   ]
  },
  {
   "cell_type": "code",
   "execution_count": 223,
   "id": "dfae74f9",
   "metadata": {},
   "outputs": [
    {
     "data": {
      "text/html": [
       "<div>\n",
       "<style scoped>\n",
       "    .dataframe tbody tr th:only-of-type {\n",
       "        vertical-align: middle;\n",
       "    }\n",
       "\n",
       "    .dataframe tbody tr th {\n",
       "        vertical-align: top;\n",
       "    }\n",
       "\n",
       "    .dataframe thead th {\n",
       "        text-align: right;\n",
       "    }\n",
       "</style>\n",
       "<table border=\"1\" class=\"dataframe\">\n",
       "  <thead>\n",
       "    <tr style=\"text-align: right;\">\n",
       "      <th></th>\n",
       "      <th>Id</th>\n",
       "      <th>Name</th>\n",
       "      <th>Age</th>\n",
       "    </tr>\n",
       "  </thead>\n",
       "  <tbody>\n",
       "    <tr>\n",
       "      <th>0</th>\n",
       "      <td>31546</td>\n",
       "      <td>Majid</td>\n",
       "      <td>21</td>\n",
       "    </tr>\n",
       "    <tr>\n",
       "      <th>1</th>\n",
       "      <td>88833</td>\n",
       "      <td>Rafeeq</td>\n",
       "      <td>25</td>\n",
       "    </tr>\n",
       "    <tr>\n",
       "      <th>2</th>\n",
       "      <td>42188</td>\n",
       "      <td>Kumar</td>\n",
       "      <td>20</td>\n",
       "    </tr>\n",
       "  </tbody>\n",
       "</table>\n",
       "</div>"
      ],
      "text/plain": [
       "      Id    Name  Age\n",
       "0  31546   Majid   21\n",
       "1  88833  Rafeeq   25\n",
       "2  42188   Kumar   20"
      ]
     },
     "execution_count": 223,
     "metadata": {},
     "output_type": "execute_result"
    }
   ],
   "source": [
    "d1 = pd.DataFrame(\n",
    "{\n",
    "    'Id':[31546,88833,42188],\n",
    "    'Name':['Majid','Rafeeq','Kumar'],\n",
    "    'Age':[21,25,20]\n",
    "})\n",
    "d1"
   ]
  },
  {
   "cell_type": "markdown",
   "id": "0ff647d6",
   "metadata": {},
   "source": [
    "#### Row Wise:\n",
    "It is by default!"
   ]
  },
  {
   "cell_type": "code",
   "execution_count": 224,
   "id": "4a3e9b77",
   "metadata": {},
   "outputs": [
    {
     "data": {
      "text/html": [
       "<div>\n",
       "<style scoped>\n",
       "    .dataframe tbody tr th:only-of-type {\n",
       "        vertical-align: middle;\n",
       "    }\n",
       "\n",
       "    .dataframe tbody tr th {\n",
       "        vertical-align: top;\n",
       "    }\n",
       "\n",
       "    .dataframe thead th {\n",
       "        text-align: right;\n",
       "    }\n",
       "</style>\n",
       "<table border=\"1\" class=\"dataframe\">\n",
       "  <thead>\n",
       "    <tr style=\"text-align: right;\">\n",
       "      <th></th>\n",
       "      <th>Id</th>\n",
       "      <th>Name</th>\n",
       "      <th>Age</th>\n",
       "    </tr>\n",
       "  </thead>\n",
       "  <tbody>\n",
       "    <tr>\n",
       "      <th>0</th>\n",
       "      <td>42101</td>\n",
       "      <td>Rashid</td>\n",
       "      <td>22</td>\n",
       "    </tr>\n",
       "    <tr>\n",
       "      <th>1</th>\n",
       "      <td>53880</td>\n",
       "      <td>Qawi</td>\n",
       "      <td>24</td>\n",
       "    </tr>\n",
       "    <tr>\n",
       "      <th>2</th>\n",
       "      <td>26788</td>\n",
       "      <td>Liaquat</td>\n",
       "      <td>21</td>\n",
       "    </tr>\n",
       "    <tr>\n",
       "      <th>0</th>\n",
       "      <td>31546</td>\n",
       "      <td>Majid</td>\n",
       "      <td>21</td>\n",
       "    </tr>\n",
       "    <tr>\n",
       "      <th>1</th>\n",
       "      <td>88833</td>\n",
       "      <td>Rafeeq</td>\n",
       "      <td>25</td>\n",
       "    </tr>\n",
       "    <tr>\n",
       "      <th>2</th>\n",
       "      <td>42188</td>\n",
       "      <td>Kumar</td>\n",
       "      <td>20</td>\n",
       "    </tr>\n",
       "  </tbody>\n",
       "</table>\n",
       "</div>"
      ],
      "text/plain": [
       "      Id     Name  Age\n",
       "0  42101   Rashid   22\n",
       "1  53880     Qawi   24\n",
       "2  26788  Liaquat   21\n",
       "0  31546    Majid   21\n",
       "1  88833   Rafeeq   25\n",
       "2  42188    Kumar   20"
      ]
     },
     "execution_count": 224,
     "metadata": {},
     "output_type": "execute_result"
    }
   ],
   "source": [
    "pd.concat([d,d1])"
   ]
  },
  {
   "cell_type": "markdown",
   "id": "fd4e45ee",
   "metadata": {},
   "source": [
    "#### Column Wise:\n",
    "Is done Manually!"
   ]
  },
  {
   "cell_type": "code",
   "execution_count": 225,
   "id": "00510e3c",
   "metadata": {},
   "outputs": [
    {
     "data": {
      "text/html": [
       "<div>\n",
       "<style scoped>\n",
       "    .dataframe tbody tr th:only-of-type {\n",
       "        vertical-align: middle;\n",
       "    }\n",
       "\n",
       "    .dataframe tbody tr th {\n",
       "        vertical-align: top;\n",
       "    }\n",
       "\n",
       "    .dataframe thead th {\n",
       "        text-align: right;\n",
       "    }\n",
       "</style>\n",
       "<table border=\"1\" class=\"dataframe\">\n",
       "  <thead>\n",
       "    <tr style=\"text-align: right;\">\n",
       "      <th></th>\n",
       "      <th>Id</th>\n",
       "      <th>Name</th>\n",
       "      <th>Age</th>\n",
       "      <th>Id</th>\n",
       "      <th>Name</th>\n",
       "      <th>Age</th>\n",
       "    </tr>\n",
       "  </thead>\n",
       "  <tbody>\n",
       "    <tr>\n",
       "      <th>0</th>\n",
       "      <td>42101</td>\n",
       "      <td>Rashid</td>\n",
       "      <td>22</td>\n",
       "      <td>31546</td>\n",
       "      <td>Majid</td>\n",
       "      <td>21</td>\n",
       "    </tr>\n",
       "    <tr>\n",
       "      <th>1</th>\n",
       "      <td>53880</td>\n",
       "      <td>Qawi</td>\n",
       "      <td>24</td>\n",
       "      <td>88833</td>\n",
       "      <td>Rafeeq</td>\n",
       "      <td>25</td>\n",
       "    </tr>\n",
       "    <tr>\n",
       "      <th>2</th>\n",
       "      <td>26788</td>\n",
       "      <td>Liaquat</td>\n",
       "      <td>21</td>\n",
       "      <td>42188</td>\n",
       "      <td>Kumar</td>\n",
       "      <td>20</td>\n",
       "    </tr>\n",
       "  </tbody>\n",
       "</table>\n",
       "</div>"
      ],
      "text/plain": [
       "      Id     Name  Age     Id    Name  Age\n",
       "0  42101   Rashid   22  31546   Majid   21\n",
       "1  53880     Qawi   24  88833  Rafeeq   25\n",
       "2  26788  Liaquat   21  42188   Kumar   20"
      ]
     },
     "execution_count": 225,
     "metadata": {},
     "output_type": "execute_result"
    }
   ],
   "source": [
    "pd.concat([d,d1],axis=1)"
   ]
  },
  {
   "cell_type": "markdown",
   "id": "c4d642ce",
   "metadata": {},
   "source": [
    "# This Was The Complete \"Pandas\"(Library)!\n",
    "# I Have Tried My Best To Take It Step-by-step From The Very Beginning :)"
   ]
  }
 ],
 "metadata": {
  "kernelspec": {
   "display_name": "Python 3 (ipykernel)",
   "language": "python",
   "name": "python3"
  },
  "language_info": {
   "codemirror_mode": {
    "name": "ipython",
    "version": 3
   },
   "file_extension": ".py",
   "mimetype": "text/x-python",
   "name": "python",
   "nbconvert_exporter": "python",
   "pygments_lexer": "ipython3",
   "version": "3.9.13"
  }
 },
 "nbformat": 4,
 "nbformat_minor": 5
}
